{
 "cells": [
  {
   "cell_type": "markdown",
   "metadata": {},
   "source": [
    "<img src='../res/re_op/re_ico.png'>"
   ]
  },
  {
   "cell_type": "markdown",
   "metadata": {},
   "source": [
    "# 正则表达式概念\n",
    "\n",
    "1. 使用单个字符串来描述匹配某个句法规则的字符串\n",
    "\n",
    "2. 是对字符串操作的一种逻辑公式\n",
    "\n",
    "3. 应用场景：处理文本和数据，提高复杂文本分析的效率\n",
    "\n",
    "4. 正则表达式过程：依次拿出表达式和文本中的字符比较，如果每一个字符都能匹配，则匹配成功；否则匹配失败"
   ]
  },
  {
   "cell_type": "markdown",
   "metadata": {},
   "source": [
    "**python正则表达式资料**\n",
    "\n",
    "https://www.imooc.com/learn/550\n",
    "\n",
    "\n",
    "r'imooc'->Pattern->Match->result"
   ]
  },
  {
   "cell_type": "markdown",
   "metadata": {},
   "source": [
    "---\n",
    "# 目录\n",
    "## 1. [类re.Pattern属性](#类re.Pattern属性)\n",
    "## 2. [类re.Match](#类re.Match)\n",
    "## 3. [re.compile函数原型](#re.compile函数原型)\n",
    "## 4. [清除正则缓存](#清除正则缓存)\n",
    "## 5. [正则表达式元字符介绍](#正则表达式元字符介绍)\n",
    "    \n",
    "* [内容匹配](#内容匹配)\n",
    "* [个数匹配](#个数匹配)\n",
    "* [位置匹配](#位置匹配)\n",
    "* [分组匹配](#分组匹配)\n",
    "* [转义匹配](#转义匹配)\n",
    "\n",
    "## 6. [match、search、findall、finditer区别](#match、search、findall、finditer区别)\n",
    "## 7. [替换分割之 sub()和split()](#替换分割之sub()和split())\n",
    "## 8. [Example](#Example)\n",
    "## 9. [高级教程](#高级教程)\n",
    "---"
   ]
  },
  {
   "cell_type": "code",
   "execution_count": 162,
   "metadata": {},
   "outputs": [],
   "source": [
    "import re\n",
    "from IPython.core.interactiveshell import InteractiveShell \n",
    "InteractiveShell.ast_node_interactivity = \"all\" # 可同时输出多个结果"
   ]
  },
  {
   "cell_type": "code",
   "execution_count": 163,
   "metadata": {},
   "outputs": [
    {
     "data": {
      "text/plain": [
       "'imooc'"
      ]
     },
     "execution_count": 163,
     "metadata": {},
     "output_type": "execute_result"
    }
   ],
   "source": [
    "pattern_s = r'imooc' # 定义正则表达式\n",
    "pattern_r = re.compile(pattern_s) # 编译正则表达式\n",
    "str1 = 'imooc book' # 需要查找的原始字符串\n",
    "match_r = pattern_r.match(str1) \n",
    "match_r.group()"
   ]
  },
  {
   "cell_type": "markdown",
   "metadata": {},
   "source": [
    "---\n",
    "# <a id='类re.Pattern属性'></a> 1. 类re.Pattern属性\n",
    "``` python\n",
    "class re.Pattern\n",
    "```\n",
    "\n",
    "re.compile(pattern, flags=0)返回的SRE_Pattern对象\n",
    "\n",
    "**属性说明**\n",
    "\n",
    "* **flags**：编译时指定的模式\n",
    "\n",
    "* **groupindex**：以正则表达式中有别名的组的别名为键、以该组对应的编号为值的字典，没有别名的组不包含在内。\n",
    "\n",
    "* **groups**：正则表达式中分组的数量\n",
    "\n",
    "* **pattern**：编译时用的正则表达式\n",
    "\n",
    "**方法说明**\n",
    "* findall、finditer、match、search、split、sub、subn 等函数"
   ]
  },
  {
   "cell_type": "code",
   "execution_count": 164,
   "metadata": {},
   "outputs": [
    {
     "data": {
      "text/plain": [
       "96"
      ]
     },
     "execution_count": 164,
     "metadata": {},
     "output_type": "execute_result"
    },
    {
     "data": {
      "text/plain": [
       "mappingproxy({'name': 1, 'no': 2})"
      ]
     },
     "execution_count": 164,
     "metadata": {},
     "output_type": "execute_result"
    },
    {
     "data": {
      "text/plain": [
       "3"
      ]
     },
     "execution_count": 164,
     "metadata": {},
     "output_type": "execute_result"
    },
    {
     "data": {
      "text/plain": [
       "'(?:        # 构造一个不捕获分组 用于使用 |\\n              (?P<name>\\\\w+\\\\.\\\\w+)    # 匹配 Mr.Gumby\\n              |     # 或\\n              (?P<no>\\\\s+\\\\.\\\\w+) # 一个匹配不到的命名分组\\n              )\\n              .*? # 匹配  : \\n              (\\\\d+) # 匹配 2016\\n              '"
      ]
     },
     "execution_count": 164,
     "metadata": {},
     "output_type": "execute_result"
    }
   ],
   "source": [
    "s = 'Hello, Mr.Gumby : 2016/10/26'\n",
    "pat = '''(?:        # 构造一个不捕获分组 用于使用 |\n",
    "              (?P<name>\\w+\\.\\w+)    # 匹配 Mr.Gumby\n",
    "              |     # 或\n",
    "              (?P<no>\\s+\\.\\w+) # 一个匹配不到的命名分组\n",
    "              )\n",
    "              .*? # 匹配  : \n",
    "              (\\d+) # 匹配 2016\n",
    "              '''\n",
    "p = re.compile(pat, re.X)\n",
    "p.flags\n",
    "p.groupindex\n",
    "p.groups\n",
    "p.pattern"
   ]
  },
  {
   "cell_type": "markdown",
   "metadata": {},
   "source": [
    "---\n",
    "# <a id='类re.Match'></a> 2. 类re.Match\n",
    "``` python\n",
    "class re.Match\n",
    "```\n",
    "\n",
    "**属性说明**\n",
    "\n",
    "* **endpos**: 本次搜索结束位置索引\n",
    "\n",
    "* **lastgroup**: 本次搜索匹配到的最后一个分组的别名\n",
    "\n",
    "* **lastindex**: 本次搜索匹配到的最后一个分组的索引\n",
    "\n",
    "* **pos**: 本次搜索开始位置索引\n",
    "\n",
    "* **re**: 本次搜索使用的 SRE_Pattern 对象\n",
    "\n",
    "* **regs**: 列表，元素为元组，包含本次搜索匹配到的所有分组的起止位置\n",
    "\n",
    "**方法说明**\n",
    "\n",
    "* **end([group=0])**：返回指定分组的结束位置，默认返回正则表达式所匹配到的最后一个字符的索引\n",
    "\n",
    "* **expand(template)**：根据模版返回相应的字符串，类似与 sub 函数里面的 repl， 可使用 \\1 或者 \\g<name> 来选择分组\n",
    "\n",
    "* **group([group1, ...])**：根据提供的索引或名字返回响应分组的内容，默认返回 start() 到 end() 之间的字符串， 提供多个参数将返回一个元组\n",
    "\n",
    "* **groupdict([default=None])**：返回 返回一个包含所有匹配到的命名分组的字典，没有命名的分组不包含在内，key 为组名， value 为匹配到的内容，参数 default 为没有参与本次匹配的命名分组提供默认值\n",
    "\n",
    "* **groups([default=None])**：以元组形式返回每一个分组匹配到的字符串，包括没有参与匹配的分组，其值为 default\n",
    "\n",
    "* **span([group])**：返回指定分组的起止位置组成的元组，默认返回由 start() 和 end() 组成的元组\n",
    "\n",
    "* **start([group])**：返回指定分组的开始位置，默认返回正则表达式所匹配到的第一个字符的索引"
   ]
  },
  {
   "cell_type": "code",
   "execution_count": 165,
   "metadata": {},
   "outputs": [
    {
     "data": {
      "text/plain": [
       "28"
      ]
     },
     "execution_count": 165,
     "metadata": {},
     "output_type": "execute_result"
    },
    {
     "data": {
      "text/plain": [
       "2"
      ]
     },
     "execution_count": 165,
     "metadata": {},
     "output_type": "execute_result"
    },
    {
     "data": {
      "text/plain": [
       "0"
      ]
     },
     "execution_count": 165,
     "metadata": {},
     "output_type": "execute_result"
    },
    {
     "data": {
      "text/plain": [
       "re.compile(r', (?P<name>\\w+\\.\\w+).*?(\\d+)', re.UNICODE)"
      ]
     },
     "execution_count": 165,
     "metadata": {},
     "output_type": "execute_result"
    },
    {
     "data": {
      "text/plain": [
       "((5, 22), (7, 15), (18, 22))"
      ]
     },
     "execution_count": 165,
     "metadata": {},
     "output_type": "execute_result"
    },
    {
     "data": {
      "text/plain": [
       "'Hello, Mr.Gumby : 2016/10/26'"
      ]
     },
     "execution_count": 165,
     "metadata": {},
     "output_type": "execute_result"
    }
   ],
   "source": [
    "s = 'Hello, Mr.Gumby : 2016/10/26'\n",
    "m = re.search(', (?P<name>\\w+\\.\\w+).*?(\\d+)', s)\n",
    "\n",
    "# 本次搜索的结束位置索引\n",
    "m.endpos\n",
    "\n",
    "# 本次搜索匹配到的最后一个分组的别名\n",
    "# 本次匹配最后一个分组没有别名\n",
    "m.lastgroup\n",
    "\n",
    "# 本次搜索匹配到的最后一个分组的索引\n",
    "m.lastindex\n",
    "\n",
    "# 本次搜索开始位置索引\n",
    "m.pos\n",
    "\n",
    "# 本次搜索使用的 SRE_Pattern 对象\n",
    "m.re\n",
    "\n",
    "# 列表，元素为元组，包含本次搜索匹配到的所有分组的起止位置 第一个元组为正则表达式匹配范围\n",
    "m.regs\n",
    "\n",
    "# 本次搜索操作的字符串\n",
    "m.string"
   ]
  },
  {
   "cell_type": "code",
   "execution_count": 166,
   "metadata": {},
   "outputs": [
    {
     "data": {
      "text/plain": [
       "22"
      ]
     },
     "execution_count": 166,
     "metadata": {},
     "output_type": "execute_result"
    },
    {
     "data": {
      "text/plain": [
       "'my name is Mr.Gumby'"
      ]
     },
     "execution_count": 166,
     "metadata": {},
     "output_type": "execute_result"
    },
    {
     "data": {
      "text/plain": [
       "'Mr.Gumby : 2016'"
      ]
     },
     "execution_count": 166,
     "metadata": {},
     "output_type": "execute_result"
    },
    {
     "data": {
      "text/plain": [
       "('Mr.Gumby', None)"
      ]
     },
     "execution_count": 166,
     "metadata": {},
     "output_type": "execute_result"
    },
    {
     "data": {
      "text/plain": [
       "{'name': 'Mr.Gumby', 'no': 'default_string'}"
      ]
     },
     "execution_count": 166,
     "metadata": {},
     "output_type": "execute_result"
    },
    {
     "data": {
      "text/plain": [
       "('Mr.Gumby', 'default_string', '2016')"
      ]
     },
     "execution_count": 166,
     "metadata": {},
     "output_type": "execute_result"
    },
    {
     "data": {
      "text/plain": [
       "(18, 22)"
      ]
     },
     "execution_count": 166,
     "metadata": {},
     "output_type": "execute_result"
    },
    {
     "data": {
      "text/plain": [
       "18"
      ]
     },
     "execution_count": 166,
     "metadata": {},
     "output_type": "execute_result"
    }
   ],
   "source": [
    "s = 'Hello, Mr.Gumby : 2016/10/26'\n",
    "m = re.search('''(?:        # 构造一个不捕获分组 用于使用 |\n",
    "              (?P<name>\\w+\\.\\w+)    # 匹配 Mr.Gumby\n",
    "              |     # 或\n",
    "              (?P<no>\\s+\\.\\w+) # 一个匹配不到的命名分组\n",
    "              )\n",
    "              .*? # 匹配  : \n",
    "              (\\d+) # 匹配 2016\n",
    "              ''',\n",
    "              s, re.X)\n",
    "\n",
    "# 返回指定分组的结束位置，默认返回正则表达式所匹配到的最后一个字符的索引\n",
    "m.end()\n",
    "\n",
    "# 根据模版返回相应的字符串，类似sub()的 repl,可使用 \\1 或者 \\g<name> 来选择分组\n",
    "m.expand(\"my name is \\\\1\")\n",
    "\n",
    "# 根据提供的索引或名字返回响应分组的内容，默认返回 start() 到 end() 之间的字符串，\n",
    "# 提供多个参数将返回一个元组\n",
    "m.group()\n",
    "m.group(1,2)\n",
    "\n",
    "# 返回一个包含所有匹配到的命名分组的字典，没有命名的分组不包含在内，key 为组名， \n",
    "# value 为匹配到的内容，参数 default 为没有参与本次匹配的命名分组提供默认值\n",
    "m.groupdict('default_string')\n",
    "\n",
    "# 以元组形式返回每一个分组匹配到的字符串，包括没有参与匹配的分组，其值为 default\n",
    "m.groups('default_string')\n",
    "\n",
    "# 返回指定分组的起止未知组成的元组，默认返回由 start() 和 end() 组成的元组\n",
    "m.span(3)\n",
    "\n",
    "# 返回指定分组的开始位置，默认返回正则表达式所匹配到的第一个字符的索引\n",
    "m.start(3)"
   ]
  },
  {
   "cell_type": "markdown",
   "metadata": {},
   "source": [
    "---\n",
    "# <a id='re.compile函数原型'></a> 3. re.compile函数原型\n",
    "\n",
    "compile 函数用于编译正则表达式，生成一个正则表达式（ Pattern ）对象，\n",
    "\n",
    "供 match() 和 search() 这两个函数使用。\n",
    "``` python\n",
    "re.compile(pattern, flags=0)\n",
    "```\n",
    "\n",
    "* 给定一个正则表达式 pattern，指定使用的模式 flags 默认为0 即不使用任何模式,然后会返回一个 SRE_Pattern对象\n",
    "\n",
    "**参数说明**\n",
    "\n",
    "* **pattern**: 一个字符串形式的正则表达式\n",
    "\n",
    "* **flags**: 可选，表示匹配模式，比如忽略大小写，多行模式等，使用按位或运算符 | 同时添加多个模式,具体参数为：\n",
    "\n",
    "    * **re.I**：数值2，忽略大小写\n",
    "\n",
    "    * **re.L**：数值4，表示特殊字符集 \\w, \\W, \\b, \\B, \\s, \\S 依赖于当前环境\n",
    "\n",
    "    * **re.M**：数值8，多行模式\n",
    "\n",
    "    * **re.S**：数值16，即为 . 并且包括换行符在内的任意字符（. 不包括换行符）\n",
    "\n",
    "    * **re.U**：数值32，表示特殊字符集 \\w, \\W, \\b, \\B, \\d, \\D, \\s, \\S 依赖于 Unicode 字符属性数据库\n",
    "\n",
    "    * **re.X**：数值64，为了增加可读性，忽略空格和 # 后面的注释\n"
   ]
  },
  {
   "cell_type": "markdown",
   "metadata": {},
   "source": [
    "### re.compile()之 flags=re.I\n",
    "**I: IGNORECASE**， 忽略大小写的匹配模式"
   ]
  },
  {
   "cell_type": "code",
   "execution_count": 167,
   "metadata": {},
   "outputs": [
    {
     "data": {
      "text/plain": [
       "'hello World!'"
      ]
     },
     "execution_count": 167,
     "metadata": {},
     "output_type": "execute_result"
    },
    {
     "data": {
      "text/plain": [
       "'hello World!'"
      ]
     },
     "execution_count": 167,
     "metadata": {},
     "output_type": "execute_result"
    }
   ],
   "source": [
    "str1 = 'hello World!'\n",
    "pattern_s = \"hello world!\"\n",
    "pattern_r = re.compile(pattern_s, re.I)\n",
    "pattern_r.match(str1).group()\n",
    "\n",
    "# 或在正则表达式中指定模式以及注释\n",
    "pattern_s = \"(?#注释)(?i)hello world!\"\n",
    "pattern_r = re.compile(pattern_s)\n",
    "pattern_r.match(str1).group()"
   ]
  },
  {
   "cell_type": "markdown",
   "metadata": {},
   "source": [
    "### re.compile()之 flags=re.L\n",
    "**L: LOCALE**， 字符集本地化。这个功能是为了支持多语言版本的字符集使用环境的，比如在转义符\\w，在英文环境下，它代表[a-zA-Z0-9_]，即所以英文字符和数字。\n",
    "\n",
    "如果在一个法语环境下使用，缺省设置下，不能匹配\"é\" 或\"ç\"。加上这L选项和就可以匹配了。不过这个对于中文环境似乎没有什么用，它仍然不能匹配中文字符。"
   ]
  },
  {
   "cell_type": "markdown",
   "metadata": {},
   "source": [
    "### re.compile()之 flags=re.M\n",
    "**M: MULTILINE**，多行模式, 改变 ^ 和 $ 的行为"
   ]
  },
  {
   "cell_type": "code",
   "execution_count": 168,
   "metadata": {},
   "outputs": [
    {
     "data": {
      "text/plain": [
       "['first']"
      ]
     },
     "execution_count": 168,
     "metadata": {},
     "output_type": "execute_result"
    },
    {
     "data": {
      "text/plain": [
       "['first', 'second', 'third']"
      ]
     },
     "execution_count": 168,
     "metadata": {},
     "output_type": "execute_result"
    },
    {
     "data": {
      "text/plain": [
       "['line3']"
      ]
     },
     "execution_count": 168,
     "metadata": {},
     "output_type": "execute_result"
    },
    {
     "data": {
      "text/plain": [
       "['line1', 'line2', 'line3']"
      ]
     },
     "execution_count": 168,
     "metadata": {},
     "output_type": "execute_result"
    }
   ],
   "source": [
    "str1 = '''first line1\n",
    "second line2\n",
    "third line3'''\n",
    "\n",
    "# ^\n",
    "regex_start = re.compile(\"^\\w+\")\n",
    "regex_start.findall(str1)\n",
    "\n",
    "regex_start_m = re.compile(\"^\\w+\", re.M)\n",
    "regex_start_m.findall(str1)\n",
    "\n",
    "# $\n",
    "regex_end = re.compile(\"\\w+$\")\n",
    "regex_end.findall(str1)\n",
    "\n",
    "regex_end_m = re.compile(\"\\w+$\", re.M)\n",
    "regex_end_m.findall(str1)"
   ]
  },
  {
   "cell_type": "markdown",
   "metadata": {},
   "source": [
    "### re.compile()之 flags=re.S\n",
    "**S: DOTALL**，此模式下 '.' 的匹配不受限制，可匹配任何字符，包括换行符"
   ]
  },
  {
   "cell_type": "code",
   "execution_count": 169,
   "metadata": {},
   "outputs": [
    {
     "data": {
      "text/plain": [
       "['first line1', 'second line2', 'third line3']"
      ]
     },
     "execution_count": 169,
     "metadata": {},
     "output_type": "execute_result"
    },
    {
     "data": {
      "text/plain": [
       "['first line1\\nsecond line2\\nthird line3']"
      ]
     },
     "execution_count": 169,
     "metadata": {},
     "output_type": "execute_result"
    }
   ],
   "source": [
    "str2 = '''first line1\n",
    "second line2\n",
    "third line3'''\n",
    "\n",
    "# 此时.无法匹配换行符\n",
    "regex = re.compile(\".+\")\n",
    "regex.findall(str2)\n",
    "\n",
    "# 此时.匹配换行符\n",
    "regex_dotall = re.compile(\".+\", re.S)\n",
    "regex_dotall.findall(str2)"
   ]
  },
  {
   "cell_type": "markdown",
   "metadata": {},
   "source": [
    "### ??re.compile()之 flags=re.X\n",
    "**X: VERBOSE**，冗余模式， 忽略正则表达式中的空白和#号注释，如写一个匹配邮箱的正则表达式"
   ]
  },
  {
   "cell_type": "code",
   "execution_count": 170,
   "metadata": {},
   "outputs": [],
   "source": [
    "email_regex = re.compile(\"[\\w+\\.]+@[a-zA-Z\\d]+\\.(com|cn)\")\n",
    "\n",
    "email_regex = re.compile(\"\"\"[\\w+\\.]+  # 匹配@符前的部分\n",
    "                            @  # @符\n",
    "                            [a-zA-Z\\d]+  # 邮箱类别\n",
    "                            \\.(com|cn)   # 邮箱后缀  \"\"\", re.X)"
   ]
  },
  {
   "cell_type": "markdown",
   "metadata": {},
   "source": [
    "### re.compile()之 flags=re.U\n",
    "**U: UNICODE**，使用 \\w, \\W, \\b, \\B 这些元字符时将按照 UNICODE 定义的属性."
   ]
  },
  {
   "cell_type": "markdown",
   "metadata": {},
   "source": [
    "---\n",
    "# <a id='清除正则缓存'></a> 4. 清除正则缓存\n",
    "``` python\n",
    "re.purge()\n",
    "```\n",
    "\n",
    "* 当你在程序中使用 re 模块，无论是先使用 compile 还是直接使用比如 findall 来使用正则表达式操作文本，re 模块都会将正则表达式先编译一下， 并且会将编译过后的正则表达式放到缓存中，\n",
    "* 这样下次使用同样的正则表达式的时候就不需要再次编译， 因为编译其实是很费时的，这样可以提升效率，而默认缓存的正则表达式的个数是 100\n",
    "* 当你需要频繁使用少量正则表达式的时候，缓存可以提升效率\n",
    "* 而使用的正则表达式过多时，缓存带来的优势就不明显了， 这个函数的作用是清除缓存中的正则表达式，可能在你需要优化占用内存的时候会用到\n"
   ]
  },
  {
   "cell_type": "markdown",
   "metadata": {},
   "source": []
  },
  {
   "cell_type": "markdown",
   "metadata": {},
   "source": [
    "---\n",
    "# <a id='正则表达式元字符介绍'></a> 5. 正则表达式元字符介绍"
   ]
  },
  {
   "cell_type": "markdown",
   "metadata": {},
   "source": [
    "### 内容匹配\n",
    "|    **正则表达式**    | **代表的匹配字符** |\n",
    "|       :---:       | :---:|\n",
    "|         .\t       | 匹配任意字符（不包括换行符）|\n",
    "|       [0-9]\t     | 0-9的数字|\n",
    "|       [a-z]\t     |小写字母|\n",
    "|       [A-Z]\t     |大写字母|\n",
    "|        \\d\t        |匹配数字，等同于[0-9]|\n",
    "|        \\D\t        |匹配非数字，等同于[^0-9]|\n",
    "|        \\w\t        |匹配大小写字母、数字和下划线，等同于[a-z0-9A-Z_]|\n",
    "|        \\W\t        |匹配非大小写字母、数字和下划线，等同于[^a-z0-9A-Z_]|\n",
    "|        \\s         |匹配空白| \n",
    "|        \\S         |匹配非空白| \n",
    "\n"
   ]
  },
  {
   "cell_type": "markdown",
   "metadata": {},
   "source": [
    "### 个数匹配\n",
    "|    **正则表达式**  | **代表的匹配字符** |\n",
    "|      :---:      | :---:|\n",
    "|        *\t      |匹配前面的字符或者子表达式0次或多次|\n",
    "|        +\t      |匹配前一个字符或子表达式一次或多次|\n",
    "|        ?\t      |匹配前一个字符或子表达式0次或1次重复|\n",
    "|       {n}\t      |匹配前一个字符或子表达式n次|\n",
    "|       {m,n}\t   |匹配前一个字符或子表达式m至n次|\n",
    "|       {n,}\t   |匹配前一个字符或者子表达式至少n次|\n",
    "|   *? / +? / ??\t  |惰性匹配上一个|"
   ]
  },
  {
   "cell_type": "markdown",
   "metadata": {},
   "source": [
    "### 位置匹配\n",
    "|    **正则表达式**  | **代表的匹配字符** |\n",
    "|      :---:      | :---:|\n",
    "|        ^\t      |匹配字符串开头, 多行模式下匹配每一行的开始|\n",
    "|       $\t      |匹配字符串结尾, 多行模式下匹配每一行的结束|\n",
    "|      \\A / \\Z\t   |指定字符串必须出现在开头/结尾|\n",
    "|      \\b        |匹配位于单词开始或结束位置的空字符串|\n",
    "|      \\B        |匹配不位于单词开始或结束位置的空字符串|"
   ]
  },
  {
   "cell_type": "markdown",
   "metadata": {},
   "source": [
    "### 分组匹配\n",
    "|    **正则表达式**  | **代表的匹配字符** |\n",
    "|      :---:      | :---:|\n",
    "|        |\t      |匹配左右任意一个表达式|\n",
    "|       (ab)\t   |括号里的表达式作为一个分组|\n",
    "|    \\\\&lt;number&gt;  |引用编号为num的分组匹配到的字符串|\n",
    "|   (?P&lt;name\\&gt;) |分组起别名|\n",
    "|     (?P=name)     |引用别名为name的分组匹配字符串|\n",
    "|       [ ]\t      |可匹配其中任意一个字符|"
   ]
  },
  {
   "cell_type": "markdown",
   "metadata": {},
   "source": [
    "### 转义匹配\n",
    "|    **正则表达式**  | **代表的匹配字符** |\n",
    "|      :---:      | :---:|\n",
    "|        \\\\\t      |转义字符，如\\\\.只能匹配.，不能再匹配任意字符|\n",
    "\n"
   ]
  },
  {
   "cell_type": "markdown",
   "metadata": {},
   "source": [
    "\n",
    "### 个数匹配之 非贪婪匹配例子(*? / +? / ??\t)"
   ]
  },
  {
   "cell_type": "code",
   "execution_count": 171,
   "metadata": {},
   "outputs": [
    {
     "data": {
      "text/plain": [
       "'9'"
      ]
     },
     "execution_count": 171,
     "metadata": {},
     "output_type": "execute_result"
    },
    {
     "data": {
      "text/plain": [
       "'9abc'"
      ]
     },
     "execution_count": 171,
     "metadata": {},
     "output_type": "execute_result"
    },
    {
     "data": {
      "text/plain": [
       "'9a'"
      ]
     },
     "execution_count": 171,
     "metadata": {},
     "output_type": "execute_result"
    },
    {
     "data": {
      "text/plain": [
       "'9abc'"
      ]
     },
     "execution_count": 171,
     "metadata": {},
     "output_type": "execute_result"
    },
    {
     "data": {
      "text/plain": [
       "'9'"
      ]
     },
     "execution_count": 171,
     "metadata": {},
     "output_type": "execute_result"
    },
    {
     "data": {
      "text/plain": [
       "'9a'"
      ]
     },
     "execution_count": 171,
     "metadata": {},
     "output_type": "execute_result"
    }
   ],
   "source": [
    "str1 = '9abc' # 需要查找的原始字符串\n",
    "\n",
    "pattern_s = r'[0-9][a-z]*?' # 定义正则表达式\n",
    "pattern_r = re.compile(pattern_s) # 编译正则表达式\n",
    "match_r = pattern_r.match(str1) \n",
    "match_r.group()\n",
    "pattern_s = r'[0-9][a-z]*' # 定义正则表达式\n",
    "pattern_r = re.compile(pattern_s) # 编译正则表达式\n",
    "match_r = pattern_r.match(str1) \n",
    "match_r.group()\n",
    "\n",
    "pattern_s = r'[0-9][a-z]+?' # 定义正则表达式\n",
    "pattern_r = re.compile(pattern_s) # 编译正则表达式\n",
    "match_r = pattern_r.match(str1) \n",
    "match_r.group()\n",
    "pattern_s = r'[0-9][a-z]+' # 定义正则表达式\n",
    "pattern_r = re.compile(pattern_s) # 编译正则表达式\n",
    "match_r = pattern_r.match(str1) \n",
    "match_r.group()\n",
    "\n",
    "pattern_s = r'[0-9][a-z]??' # 定义正则表达式\n",
    "pattern_r = re.compile(pattern_s) # 编译正则表达式\n",
    "match_r = pattern_r.match(str1) \n",
    "match_r.group()\n",
    "pattern_s = r'[0-9][a-z]?' # 定义正则表达式\n",
    "pattern_r = re.compile(pattern_s) # 编译正则表达式\n",
    "match_r = pattern_r.match(str1) \n",
    "match_r.group()"
   ]
  },
  {
   "cell_type": "markdown",
   "metadata": {},
   "source": [
    "### 分组匹配之  \\\\&lt;number&gt;"
   ]
  },
  {
   "cell_type": "code",
   "execution_count": 172,
   "metadata": {},
   "outputs": [
    {
     "data": {
      "text/plain": [
       "'<book>python</book>'"
      ]
     },
     "execution_count": 172,
     "metadata": {},
     "output_type": "execute_result"
    }
   ],
   "source": [
    "str1 = '<book>python</book>'\n",
    "pattern_s = r'<([\\w]+>)[\\w]+</\\1'\n",
    "re.match(pattern_s, str1).group()"
   ]
  },
  {
   "cell_type": "markdown",
   "metadata": {},
   "source": [
    "---\n",
    "### 分组匹配之 别名 (?P&lt;name\\&gt;) 和 (?P=name)"
   ]
  },
  {
   "cell_type": "code",
   "execution_count": 173,
   "metadata": {},
   "outputs": [
    {
     "data": {
      "text/plain": [
       "'<book>python</book>'"
      ]
     },
     "execution_count": 173,
     "metadata": {},
     "output_type": "execute_result"
    }
   ],
   "source": [
    "str1 = '<book>python</book>'\n",
    "pattern_s = r'<(?P<mark1>[\\w]+>)[\\w]+</(?P=mark1)'\n",
    "re.match(pattern_s, str1).group()"
   ]
  },
  {
   "cell_type": "markdown",
   "metadata": {},
   "source": [
    "### 分组匹配之group()和groups()\n",
    "* group() / group(0): 母串中与模式pattern匹配的子串\n",
    "* group(index): 第index个group匹配成功的子串\n",
    "* groups(): 所有group组成的一个元组，与pattern中的()有关"
   ]
  },
  {
   "cell_type": "code",
   "execution_count": 174,
   "metadata": {},
   "outputs": [
    {
     "data": {
      "text/plain": [
       "'2-3-1'"
      ]
     },
     "execution_count": 174,
     "metadata": {},
     "output_type": "execute_result"
    },
    {
     "data": {
      "text/plain": [
       "'2-3-1'"
      ]
     },
     "execution_count": 174,
     "metadata": {},
     "output_type": "execute_result"
    },
    {
     "data": {
      "text/plain": [
       "()"
      ]
     },
     "execution_count": 174,
     "metadata": {},
     "output_type": "execute_result"
    }
   ],
   "source": [
    "p = re.compile('\\d-\\d-\\d')\n",
    "m = p.match('2-3-1')\n",
    "m.group()\n",
    "m.group(0)\n",
    "m.groups()"
   ]
  },
  {
   "cell_type": "code",
   "execution_count": 175,
   "metadata": {},
   "outputs": [
    {
     "data": {
      "text/plain": [
       "'2-3-1'"
      ]
     },
     "execution_count": 175,
     "metadata": {},
     "output_type": "execute_result"
    },
    {
     "data": {
      "text/plain": [
       "'2-3-1'"
      ]
     },
     "execution_count": 175,
     "metadata": {},
     "output_type": "execute_result"
    },
    {
     "data": {
      "text/plain": [
       "('2', '3', '1')"
      ]
     },
     "execution_count": 175,
     "metadata": {},
     "output_type": "execute_result"
    }
   ],
   "source": [
    "p = re.compile('(\\d)-(\\d)-(\\d)')\n",
    "m = p.match('2-3-1d5-4-3')\n",
    "m.group()\n",
    "m.group(0)\n",
    "m.groups()"
   ]
  },
  {
   "cell_type": "code",
   "execution_count": 176,
   "metadata": {},
   "outputs": [
    {
     "data": {
      "text/plain": [
       "'2-3-1'"
      ]
     },
     "execution_count": 176,
     "metadata": {},
     "output_type": "execute_result"
    },
    {
     "data": {
      "text/plain": [
       "'2-3-1'"
      ]
     },
     "execution_count": 176,
     "metadata": {},
     "output_type": "execute_result"
    },
    {
     "data": {
      "text/plain": [
       "('2', '3', '1')"
      ]
     },
     "execution_count": 176,
     "metadata": {},
     "output_type": "execute_result"
    }
   ],
   "source": [
    "p = re.compile('(\\d)-(\\d)-(\\d)')\n",
    "m = re.match(p,'2-3-1d5-4-3')\n",
    "m.group()\n",
    "m.group(0)\n",
    "m.groups()"
   ]
  },
  {
   "cell_type": "markdown",
   "metadata": {},
   "source": [
    "### 转义匹配之 转义 \\\\ 替代函数"
   ]
  },
  {
   "cell_type": "markdown",
   "metadata": {},
   "source": [
    "``` python\n",
    "escape(pattern)\n",
    "```\n",
    "* 转义:如果你需要操作的文本中含有正则的元字符，你在写正则的时候需要将元字符加上反斜扛 \\ 去匹配自身\n",
    "* 而当这样的字符很多时，写出来的正则表达式就看起来很乱而且写起来也挺麻烦的，这个时候你可以使用这个函数"
   ]
  },
  {
   "cell_type": "code",
   "execution_count": 177,
   "metadata": {},
   "outputs": [
    {
     "data": {
      "text/plain": [
       "'\\\\.\\\\+\\\\\\\\d123'"
      ]
     },
     "execution_count": 177,
     "metadata": {},
     "output_type": "execute_result"
    },
    {
     "data": {
      "text/plain": [
       "'.+\\\\d123'"
      ]
     },
     "execution_count": 177,
     "metadata": {},
     "output_type": "execute_result"
    }
   ],
   "source": [
    "str2 = \".+\\d123\"\n",
    "regex_str = re.escape(\".+\\d123\")\n",
    "\n",
    "# 查看转义后的字符\n",
    "regex_str\n",
    "\n",
    "# 查看匹配到的结果\n",
    "for g in re.findall(regex_str, str2):\n",
    "    g"
   ]
  },
  {
   "cell_type": "code",
   "execution_count": null,
   "metadata": {},
   "outputs": [],
   "source": []
  },
  {
   "cell_type": "markdown",
   "metadata": {},
   "source": [
    "---\n",
    "\n",
    "# <a id='match、search、findall、finditer区别'></a> 6. match、search、findall、finditer区别"
   ]
  },
  {
   "cell_type": "markdown",
   "metadata": {},
   "source": [
    "**1. re.match(pattern, string[, flags])**\n",
    "\n",
    "* 从**首字母开始匹配**，string如果包含pattern子串，则匹配成功，返回Match对象，失败则返回None，若要完全匹配，pattern要以$结尾。\n",
    "\n",
    "**参数说明**\n",
    "\n",
    "* **pattern**：匹配的正则表达式\n",
    "\n",
    "* **string**：要匹配的字符串。\n",
    "\n",
    "* **flags**：标志位，用于控制正则表达式的匹配方式，如：是否区分大小写，多行匹配等等。参见：正则表达式修饰符 - 可选标志\n",
    "\n",
    "**2. re.search(pattern, string[, flags])**\n",
    "\n",
    "* 若string中包含**pattern子串**，则返回Match对象，否则返回None，注意，如果string中存在**多个**pattern子串，**只返回第一个**。\n",
    "\n",
    "**参数说明**\n",
    "\n",
    "* **pattern**：匹配的正则表达式\n",
    "\n",
    "* **string**：要匹配的字符串。\n",
    "\n",
    "* **flags**：标志位，用于控制正则表达式的匹配方式，如：是否区分大小写，多行匹配等等。\n",
    "\n",
    "**3. re.findall(pattern, string[, flags])**\n",
    "    \n",
    "* 返回string中所有与pattern相匹配的**全部字串**，返回形式为**数组**。\n",
    "\n",
    "**参数说明**\n",
    "\n",
    "* **string**: 待匹配的字符串。\n",
    "\n",
    "* **pos**: 可选参数，指定字符串的起始位置，默认为 0。\n",
    "\n",
    "* **endpos**: 可选参数，指定字符串的结束位置，默认为字符串的长度。\n",
    "\n",
    "**4. re.finditer(pattern, string[, flags])**\n",
    "    \n",
    "* 返回string中所有与pattern相匹配的**全部字串**，返回形式为**迭代器**。\n",
    "\n",
    "**参数说明**\n",
    "\n",
    "* **pattern**：匹配的正则表达式\n",
    "\n",
    "* **string**：要匹配的字符串。\n",
    "\n",
    "* **flags**：标志位，用于控制正则表达式的匹配方式，如：是否区分大小写，多行匹配等等。参见：正则表达式修饰符 - 可选标志\n",
    "\n",
    "若匹配成功，match()/search()返回的是Match对象，finditer()返回的也是Match对象的迭代器，获取匹配结果需要调用Match对象的group()、groups或group(index)方法。"
   ]
  },
  {
   "cell_type": "markdown",
   "metadata": {},
   "source": [
    "### re.match()函数"
   ]
  },
  {
   "cell_type": "code",
   "execution_count": 178,
   "metadata": {},
   "outputs": [],
   "source": [
    "str1 = '333STR1666STR299'\n",
    "pattern_s = r'([A-Z]+(\\d))'\n",
    "re.match(pattern_s, str1) # str1的开头不符合正则，所以结果为None"
   ]
  },
  {
   "cell_type": "markdown",
   "metadata": {},
   "source": [
    "### re.search()函数"
   ]
  },
  {
   "cell_type": "code",
   "execution_count": 179,
   "metadata": {},
   "outputs": [
    {
     "data": {
      "text/plain": [
       "'STR1'"
      ]
     },
     "execution_count": 179,
     "metadata": {},
     "output_type": "execute_result"
    },
    {
     "data": {
      "text/plain": [
       "'STR1'"
      ]
     },
     "execution_count": 179,
     "metadata": {},
     "output_type": "execute_result"
    },
    {
     "data": {
      "text/plain": [
       "'1'"
      ]
     },
     "execution_count": 179,
     "metadata": {},
     "output_type": "execute_result"
    },
    {
     "data": {
      "text/plain": [
       "('STR1', '1')"
      ]
     },
     "execution_count": 179,
     "metadata": {},
     "output_type": "execute_result"
    }
   ],
   "source": [
    "str1 = '333STR1666STR299'\n",
    "pattern_s = r'([A-Z]+(\\d))'\n",
    "\n",
    "match_r = re.search(pattern_s, str1)\n",
    "\n",
    "# match_r[0]是regex所代表的整个字符串\n",
    "match_r.group(0) # match_r.group()\n",
    "\n",
    "# match_r[1]是第一个()中的内容\n",
    "match_r.group(1)\n",
    "\n",
    "# match_r[2]是第二对()中的内容\n",
    "match_r.group(2)\n",
    "\n",
    "# 所有group组成的一个元组\n",
    "match_r.groups()"
   ]
  },
  {
   "cell_type": "markdown",
   "metadata": {},
   "source": [
    "### re.findall()函数"
   ]
  },
  {
   "cell_type": "code",
   "execution_count": 180,
   "metadata": {},
   "outputs": [
    {
     "data": {
      "text/plain": [
       "('STR1', '1')"
      ]
     },
     "execution_count": 180,
     "metadata": {},
     "output_type": "execute_result"
    },
    {
     "data": {
      "text/plain": [
       "('STR2', '2')"
      ]
     },
     "execution_count": 180,
     "metadata": {},
     "output_type": "execute_result"
    }
   ],
   "source": [
    "str1 = '333STR1666STR299'\n",
    "pattern_s = r'([A-Z]+(\\d))'\n",
    "\n",
    "match_r = re.findall(pattern_s, str1)\n",
    "for m in match_r:\n",
    "    m[0], m[1]"
   ]
  },
  {
   "cell_type": "markdown",
   "metadata": {},
   "source": [
    "### re.finditer()函数"
   ]
  },
  {
   "cell_type": "code",
   "execution_count": 181,
   "metadata": {},
   "outputs": [
    {
     "data": {
      "text/plain": [
       "('STR1', 'STR1', '1')"
      ]
     },
     "execution_count": 181,
     "metadata": {},
     "output_type": "execute_result"
    },
    {
     "data": {
      "text/plain": [
       "('STR2', 'STR2', '2')"
      ]
     },
     "execution_count": 181,
     "metadata": {},
     "output_type": "execute_result"
    }
   ],
   "source": [
    "str1 = '333STR1666STR299'\n",
    "pattern_s = r'([A-Z]+(\\d))'\n",
    "\n",
    "match_r = re.finditer(pattern_s, str1)\n",
    "for m in match_r:\n",
    "    m.group(0), m.group(1), m.group(2) # 字符串"
   ]
  },
  {
   "cell_type": "markdown",
   "metadata": {},
   "source": [
    "---\n",
    "# <a id='替换分割之sub()和split()'></a> 7. 替换分割之 sub()和split()"
   ]
  },
  {
   "cell_type": "markdown",
   "metadata": {},
   "source": [
    "**1. re.sub(pattern, repl, string, count=0, flags=0)**\n",
    "\n",
    "* 将字符串中匹配正则表达式的部分替换为其他值\n",
    "\n",
    "* Return the string obtained by replacing the leftmost non-overlapping occurrences of the pattern in string by the replacement repl.  \n",
    "\n",
    "* repl can be either a string or a callable; if a string, backslash escapes in it are processed.  If it is a callable, it's passed the Match object and must return a replacement string to be used.\n",
    "\n",
    "**参数说明**\n",
    "\n",
    "* **pattern**: 正则中的模式字符串。\n",
    "\n",
    "* **repl**: 替换的字符串，也可为一个函数。\n",
    "\n",
    "* **string**: 要被查找替换的原始字符串。\n",
    "\n",
    "* **count**: 模式匹配后替换的最大次数，默认 0 表示替换所有的匹配。\n",
    "\n",
    "\n",
    "**2. re.split(pattern, string, maxsplit=0, flags=0)**\n",
    "\n",
    "* 根据匹配分割字符串，返回分割字符串组成的列表\n",
    "\n",
    "* Split the source string by the occurrences of the pattern, returning a list containing the resulting substrings.  \n",
    "\n",
    "* If capturing parentheses are used in pattern, then the text of all groups in the pattern are also returned as part of the resulting list.  If maxsplit is nonzero, at most maxsplit splits occur, and the remainder of the string is returned as the final element of the list.\n",
    "\n",
    "**参数说明**\n",
    "\n",
    "* **pattern**：匹配的正则表达式\n",
    "\n",
    "* **string**：要匹配的字符串。\n",
    "\n",
    "* **maxsplit**：分隔次数，maxsplit=1 分隔一次，默认为 0，不限制次数。\n",
    "\n",
    "* **flags**：标志位，用于控制正则表达式的匹配方式，如：是否区分大小写，多行匹配等等。参见：正则表达式修饰符 - 可选标志\n",
    "\n",
    "**3. subn(pattern, repl, string, count=0, flags=0)**\n",
    "\n",
    "* 作用与函数 sub 一样， 唯一不同之处在于返回值为一个元组，第一个值为替换后的字符串，第二个值为发生替换的次数"
   ]
  },
  {
   "cell_type": "markdown",
   "metadata": {},
   "source": [
    "### re.sub()函数"
   ]
  },
  {
   "cell_type": "code",
   "execution_count": 182,
   "metadata": {},
   "outputs": [
    {
     "data": {
      "text/plain": [
       "'imooc videonum=201'"
      ]
     },
     "execution_count": 182,
     "metadata": {},
     "output_type": "execute_result"
    },
    {
     "data": {
      "text/plain": [
       "'imooc videonum=203'"
      ]
     },
     "execution_count": 182,
     "metadata": {},
     "output_type": "execute_result"
    }
   ],
   "source": [
    "def add_one(match):\n",
    "    val = match.group()\n",
    "    num = int(val)+1\n",
    "    return str(num)\n",
    "str2 = 'imooc videonum=200'\n",
    "re.sub(r'\\d+', add_one, str2)\n",
    "re.sub(r'\\d+', '203', str2)"
   ]
  },
  {
   "cell_type": "markdown",
   "metadata": {},
   "source": [
    "### re.split()函数"
   ]
  },
  {
   "cell_type": "code",
   "execution_count": 183,
   "metadata": {},
   "outputs": [
    {
     "data": {
      "text/plain": [
       "['imooc', 'C', 'C++', 'Java', 'Python', 'c#']"
      ]
     },
     "execution_count": 183,
     "metadata": {},
     "output_type": "execute_result"
    }
   ],
   "source": [
    "str3 = 'imooc:C C++ Java Python,c#'\n",
    "re.split(r':| |,',str3)"
   ]
  },
  {
   "cell_type": "code",
   "execution_count": null,
   "metadata": {},
   "outputs": [],
   "source": []
  },
  {
   "cell_type": "markdown",
   "metadata": {},
   "source": [
    "---\n",
    "# Example"
   ]
  },
  {
   "cell_type": "code",
   "execution_count": 184,
   "metadata": {},
   "outputs": [],
   "source": [
    "import  urllib.request\n",
    "import re\n",
    "url = r'https://www.imooc.com/course/list?c=ai'\n",
    "res = urllib.request.urlopen(url)\n",
    "html = res.read().decode('utf-8')"
   ]
  },
  {
   "cell_type": "code",
   "execution_count": 185,
   "metadata": {},
   "outputs": [
    {
     "data": {
      "text/plain": [
       "['http://img1.mukewang.com/5bd8157a0001a7a506000336-240-135.jpg',\n",
       " 'http://img4.mukewang.com/5b9105800001288905400300-240-135.jpg',\n",
       " 'http://img4.mukewang.com/5b7f737a0001cfb706000336-240-135.jpg',\n",
       " 'http://img3.mukewang.com/5abc6159000142f706000338-240-135.jpg',\n",
       " 'http://img4.mukewang.com/5a40c6370001d13c06000338-240-135.jpg']"
      ]
     },
     "execution_count": 185,
     "metadata": {},
     "output_type": "execute_result"
    }
   ],
   "source": [
    "listurl = re.findall(r'src=\"//img\\d.+?jpg\"',html)\n",
    "lurl = ['http:%s'%x[5:-1] for x in listurl]\n",
    "lurl"
   ]
  },
  {
   "cell_type": "code",
   "execution_count": 186,
   "metadata": {},
   "outputs": [],
   "source": [
    "import os\n",
    "basepath = './res'\n",
    "if not os.path.exists(basepath):\n",
    "    os.makedirs(basepath)\n",
    "\n",
    "imgspath = os.path.join(basepath, 're_op')\n",
    "if not os.path.exists(imgspath):\n",
    "    os.mkdir(imgspath)    \n",
    "\n",
    "ii = 0\n",
    "for uu in lurl:\n",
    "    savepath = os.path.join(imgspath,'%d.jpg'%(ii))\n",
    "    res = urllib.request.urlretrieve(uu, savepath) \n",
    "    ii = ii + 1"
   ]
  },
  {
   "cell_type": "markdown",
   "metadata": {},
   "source": [
    "### 高级教程\n",
    "* 深入理解正则表达式环视的概念与用法\n",
    "* http://www.zjmainstay.cn/regexp-lookaround"
   ]
  },
  {
   "cell_type": "code",
   "execution_count": null,
   "metadata": {},
   "outputs": [],
   "source": []
  }
 ],
 "metadata": {
  "kernelspec": {
   "display_name": "Python 3",
   "language": "python",
   "name": "python3"
  },
  "language_info": {
   "codemirror_mode": {
    "name": "ipython",
    "version": 3
   },
   "file_extension": ".py",
   "mimetype": "text/x-python",
   "name": "python",
   "nbconvert_exporter": "python",
   "pygments_lexer": "ipython3",
   "version": "3.7.6"
  },
  "toc": {
   "base_numbering": 1,
   "nav_menu": {},
   "number_sections": true,
   "sideBar": true,
   "skip_h1_title": false,
   "title_cell": "Table of Contents",
   "title_sidebar": "Contents",
   "toc_cell": false,
   "toc_position": {},
   "toc_section_display": true,
   "toc_window_display": true
  }
 },
 "nbformat": 4,
 "nbformat_minor": 2
}
