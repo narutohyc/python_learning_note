{
 "cells": [
  {
   "cell_type": "markdown",
   "metadata": {},
   "source": [
    "<img src='../res/file_op/file_ico.png'>"
   ]
  },
  {
   "cell_type": "markdown",
   "metadata": {},
   "source": [
    "# 基本的文件操作"
   ]
  },
  {
   "cell_type": "markdown",
   "metadata": {},
   "source": [
    "## 是否是文件"
   ]
  },
  {
   "cell_type": "code",
   "execution_count": 5,
   "metadata": {},
   "outputs": [],
   "source": [
    "import os\n",
    "from os.path import join\n",
    "from IPython.core.interactiveshell import InteractiveShell \n",
    "InteractiveShell.ast_node_interactivity = \"all\" # 可同时输出多个结果"
   ]
  },
  {
   "cell_type": "code",
   "execution_count": 6,
   "metadata": {},
   "outputs": [
    {
     "data": {
      "text/plain": [
       "'is folder'"
      ]
     },
     "execution_count": 6,
     "metadata": {},
     "output_type": "execute_result"
    },
    {
     "data": {
      "text/plain": [
       "'is dir'"
      ]
     },
     "execution_count": 6,
     "metadata": {},
     "output_type": "execute_result"
    }
   ],
   "source": [
    "filepath = '../res/file_op/folder'\n",
    "'is file' if os.path.isfile(filepath) else 'is folder'\n",
    "'is dir' if os.path.isdir(filepath) else 'not dir'"
   ]
  },
  {
   "cell_type": "code",
   "execution_count": 7,
   "metadata": {},
   "outputs": [
    {
     "name": "stdout",
     "output_type": "stream",
     "text": [
      "file_1.txt\n"
     ]
    }
   ],
   "source": [
    "fileList = os.listdir(filepath) # 列出所有文件\n",
    "for fl in  fileList:\n",
    "    print(fl)"
   ]
  },
  {
   "cell_type": "code",
   "execution_count": 8,
   "metadata": {},
   "outputs": [],
   "source": [
    "# python创建、删除文件与文件夹\n",
    "newfolder = '../res/file_op/mkfolder'\n",
    "os.mkdir(newfolder) # 创建文件夹\n",
    "os.rmdir(newfolder) # 如果要删除目录，请使用rmdir().\n",
    "\n",
    "if os.path.exists(join(filepath,'file_0.txt')):\n",
    "    os.remove(join(filepath,'file_0.txt')) # 删除文件\n",
    "    # os.path.join(’savepath‘, ‘png/demo’)   #正确\n",
    "    # os.path.join(’savepath‘, ‘/png/demo’)  #错误"
   ]
  },
  {
   "cell_type": "markdown",
   "metadata": {},
   "source": [
    "## 判断是否有中文"
   ]
  },
  {
   "cell_type": "code",
   "execution_count": 9,
   "metadata": {},
   "outputs": [],
   "source": [
    "def is_chinese(uchar):\n",
    "    if u'\\u4e00' <= uchar <= u'\\u9fff':\n",
    "        return True\n",
    "    else:\n",
    "        return False"
   ]
  },
  {
   "cell_type": "markdown",
   "metadata": {},
   "source": [
    "## 查看剩余空间大小(ubuntu)"
   ]
  },
  {
   "cell_type": "code",
   "execution_count": 10,
   "metadata": {},
   "outputs": [],
   "source": [
    "def checkDis(path):\n",
    "    import os\n",
    "    hd = {}\n",
    "    disk = os.statvfs(path)\n",
    "    percent = (disk.f_blocks - disk.f_bfree) * 100 / \\\n",
    "                (disk.f_blocks - disk.f_bfree + disk.f_bavail) + 1\n",
    "    return 100 - percent"
   ]
  },
  {
   "cell_type": "code",
   "execution_count": null,
   "metadata": {},
   "outputs": [],
   "source": []
  }
 ],
 "metadata": {
  "kernelspec": {
   "display_name": "Python 3",
   "language": "python",
   "name": "python3"
  },
  "language_info": {
   "codemirror_mode": {
    "name": "ipython",
    "version": 3
   },
   "file_extension": ".py",
   "mimetype": "text/x-python",
   "name": "python",
   "nbconvert_exporter": "python",
   "pygments_lexer": "ipython3",
   "version": "3.7.0"
  }
 },
 "nbformat": 4,
 "nbformat_minor": 2
}
