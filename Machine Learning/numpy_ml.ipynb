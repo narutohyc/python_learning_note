{
 "cells": [
  {
   "cell_type": "markdown",
   "metadata": {},
   "source": [
    "<img src='../res/numpy_ico.png'>"
   ]
  },
  {
   "cell_type": "markdown",
   "metadata": {},
   "source": [
    "# NumPy 教程\n",
    "**NumPy**(Numerical Python) 是 Python 语言的一个扩展程序库，支持大量的维度数组与矩阵运算，此外也针对数组运算提供大量的数学函数库。\n",
    "\n",
    "NumPy 的前身 Numeric 最早是由 Jim Hugunin 与其它协作者共同开发，2005 年，Travis Oliphant 在 Numeric 中结合了另一个同性质的程序库 Numarray 的特色，并加入了其它扩展而开发了 NumPy。NumPy 为开放源代码并且由许多协作者共同维护开发。NumPy 是一个运行速度非常快的数学库，主要用于数组计算，包含：\n",
    "* 一个强大的N维数组对象 ndarray\n",
    "* 广播功能函数\n",
    "* 整合 C/C++/Fortran 代码的工具\n",
    "* 线性代数、傅里叶变换、随机数生成等功能"
   ]
  },
  {
   "cell_type": "markdown",
   "metadata": {},
   "source": [
    "# NumPy 应用\n",
    "* **NumPy** 通常与 SciPy（Scientific Python）和 Matplotlib（绘图库）一起使用， 这种组合广泛用于替代 MatLab，是一个强大的科学计算环境，有助于我们通过 Python 学习数据科学或者机器学习。SciPy 是一个开源的 Python 算法库和数学工具包。\n",
    "* **SciPy** 包含的模块有最优化、线性代数、积分、插值、特殊函数、快速傅里叶变换、信号处理和图像处理、常微分方程求解和其他科学与工程中常用的计算。\n",
    "* **Matplotlib** 是 Python 编程语言及其数值数学扩展包 NumPy 的可视化操作界面。它为利用通用的图形用户界面工具包，如 Tkinter, wxPython, Qt 或 GTK+ 向应用程序嵌入式绘图提供了应用程序接口（API）。"
   ]
  },
  {
   "cell_type": "markdown",
   "metadata": {},
   "source": [
    "## 1. [基础操作系列](#1.基础操作系列)\n",
    "* [np.dtype函数原型](#np.dtype函数原型)\n",
    "* [Ndarray对象](#Ndarray对象)\n",
    "* [从现有数据创建数组](#从现有数据创建数组)\n",
    "* [数值范围创建数组](#数值范围创建数组)\n",
    "\n",
    "## 2. [产生特定的矩阵](#2.产生特定的矩阵)\n",
    "* [empty()产生空数组](#empty()产生空数组)\n",
    "* [zeros()函数](#zeros()函数)\n",
    "* [zeros_like()函数](#zeros_like()函数)\n",
    "* [ones()函数](#ones()函数)\n",
    "* [ones_like()函数](#ones_like()函数)\n",
    "* [full()函数](#full()函数)\n",
    "* [eye()函数](#eye()函数)\n",
    "* [identity()函数](#identity()函数)\n",
    "\n",
    "* [随机数random.random()](#随机数random.random())\n",
    "* [np.random()](#np.random())\n",
    "* [指定随机数列表](#指定随机数列表)\n",
    "\n",
    "## 3. [切片和索引](#3.切片和索引)\n",
    "* [数组切片](#数组切片)\n",
    "* [索引Indexing](#索引Indexing)\n",
    "* [基于N维索引获取任意元素](#基于N维索引获取任意元素)\n",
    "* [布尔索引](#布尔索引)\n",
    "* [花式索引](#花式索引)\n",
    "\n",
    "## 4. [数学运算与常用函数](#4.数学运算与常用函数)\n",
    "* [数学函数](#数学函数)\n",
    "* [算数函数](#算数函数)\n",
    "\n",
    "\n",
    "## 5. [统计函数](#5.统计函数)\n",
    "* [常见统计函数](#常见统计函数)\n",
    "* [np.random.uniform()函数](#np.random.uniform()函数)\n",
    "* [np.tile()函数](#np.tile()函数)\n",
    "* [排序和条件刷选函数](#排序和条件刷选函数)\n",
    "\n",
    "## 6. [矩阵计算相关](#6.矩阵计算相关)\n",
    "\n",
    "\n",
    "## 7. [数组广播](#7.数组广播)\n",
    "\n",
    "## 8. [矩阵拼接与分离](#8.矩阵拼接与分离)\n",
    "* [矩阵拼接](#矩阵拼接)\n",
    "* [矩阵分割](#矩阵分割)\n",
    "* [副本和视图](#副本和视图)\n",
    "* [元素添加与删除](#元素添加与删除)\n",
    "\n",
    "\n",
    "\n",
    "## 9. [列表删除某些行或列](#9.列表删除某些行或列)\n",
    "\n",
    "## 10. [数组遍历](#10.数组遍历)\n",
    "\n",
    "## 11. [numpy位运算](#11.numpy位运算)\n",
    "\n",
    "## 12. [字符串函数](#12.字符串函数)\n",
    "\n",
    "---"
   ]
  },
  {
   "cell_type": "markdown",
   "metadata": {},
   "source": [
    "---\n",
    "# 1.基础操作系列"
   ]
  },
  {
   "cell_type": "markdown",
   "metadata": {},
   "source": [
    "### np.dtype函数原型\n",
    "\n",
    "``` python\n",
    "class np.dtype(obj, align=False, copy=False)\n",
    "```\n",
    "\n",
    "**参数说明**\n",
    "\n",
    "* **obj**：要转换为的数据类型对象\n",
    "\n",
    "* **align**：如果为 true，填充字段使其类似 C 的结构体。\n",
    "\n",
    "* **copy**：复制 dtype 对象 ，如果为 false，则是对内置数据类型对象的引用\n",
    "\n",
    "\n",
    "**数据类型及描述**\n",
    "* **bool_**：存储为一个字节的布尔值（真或假）\n",
    "* **int_**：默认整数，相当于 C 的long，通常为int32或int64\n",
    "* **intc**：相当于 C 的int，通常为int32或int64\n",
    "* **intp**：用于索引的整数，相当于 C 的size_t，通常为int32或int64\n",
    "* **int8**：字节（-128 ~ 127）\n",
    "* **int16**：16 位整数（-32768 ~ 32767）\n",
    "* **int32**：32 位整数（-2147483648 ~ 2147483647）\n",
    "* **int64**：64 位整数（-9223372036854775808 ~ 9223372036854775807）\n",
    "* **uint8**：8 位无符号整数（0 ~ 255）\n",
    "* **uint16**：16 位无符号整数（0 ~ 65535）\n",
    "* **uint32**：32 位无符号整数（0 ~ 4294967295）\n",
    "* **uint64**： 64 位无符号整数（0 ~ 18446744073709551615）\n",
    "* **float_**：float64的简写\n",
    "* **float16**：半精度浮点：符号位，5 位指数，10 位尾数\n",
    "* **float32**：单精度浮点：符号位，8 位指数，23 位尾数\n",
    "* **float64**：双精度浮点：符号位，11 位指数，52 位尾数\n",
    "* **complex_**：complex128的简写\n",
    "* **complex64**：复数，由两个 32 位浮点表示（实部和虚部）\n",
    "* **complex128**:复数，由两个 64 位浮点表示（实部和虚部）\n",
    "---\n",
    "\n",
    "**每个内建类型都有一个唯一定义它的字符代码：**\n",
    "\n",
    "**int8, int16, int32, int64 四种数据类型可以使用字符串 'i1', 'i2','i4','i8' 代替**\n",
    "\n",
    "* **'b'**：布尔值\n",
    "\n",
    "* **'i'**：符号整数\n",
    "\n",
    "* **'u'**：无符号整数\n",
    "\n",
    "* **'f'**：浮点\n",
    "\n",
    "* **'c'**：复数浮点\n",
    "\n",
    "* **'m'**：时间间隔\n",
    "\n",
    "* **'M'**：日期时间\n",
    "\n",
    "* **'O'**：Python 对象\n",
    "\n",
    "* **'S', 'a'**：字节串\n",
    "\n",
    "* **'U'**：Unicode\n",
    "\n",
    "* **'V'**：原始数据（void）"
   ]
  },
  {
   "cell_type": "code",
   "execution_count": 322,
   "metadata": {},
   "outputs": [
    {
     "data": {
      "text/plain": [
       "array([(b'abc', 21, 50.), (b'xyz', 18, 75.)],\n",
       "      dtype=[('name', 'S20'), ('age', 'i1'), ('marks', '<f4')])"
      ]
     },
     "execution_count": 322,
     "metadata": {},
     "output_type": "execute_result"
    }
   ],
   "source": [
    "# 文件名称可用于访问 age 列的内容  \n",
    "import numpy as np \n",
    "student = np.dtype([('name','S20'), ('age','i1'), ('marks','f4')]) \n",
    "a = np.array([('abc',21,50),('xyz',18,75)],dtype = student) \n",
    "a"
   ]
  },
  {
   "cell_type": "markdown",
   "metadata": {},
   "source": [
    "### Ndarray对象\n",
    "\n",
    "NumPy 中定义的最重要的对象是称为**ndarray**的N维数组类型。 它描述相同类型的元素集合。 可以使用基于零的索引访问集合中的项目。\n",
    "\n",
    "``` python\n",
    "numpy.array(object, dtype = None, copy = True, order = None, subok = False, ndmin = 0)\n",
    "```\n",
    "\n",
    "**return**\n",
    "* **np.ndarray**\n",
    "\n",
    "**参数说明**\n",
    "\n",
    "* **object**：任何暴露数组接口方法的对象都会返回一个数组或任何（嵌套）序列。\n",
    "\n",
    "* **dtype**：数组的所需数据类型，可选。\n",
    "\n",
    "* **copy**：可选，默认为true，对象是否被复制。\n",
    "\n",
    "* **order**：C（按行）、F（按列）或A（任意，默认）。\n",
    "\n",
    "* **subok**：默认情况下，返回的数组被强制为基类数组。 如果为true，则返回子类。\n",
    "\n",
    "* **ndimin**：指定返回数组的最小维数。\n",
    "\n",
    "### see also\n",
    "\n",
    "    empty_like : Return an empty array with shape and type of input.\n",
    "    ones_like : Return an array of ones with shape and type of input.\n",
    "    zeros_like : Return an array of zeros with shape and type of input.\n",
    "    full_like : Return a new array with shape of input filled with value.\n",
    "    empty : Return a new uninitialized array.\n",
    "    ones : Return a new array setting values to one.\n",
    "    zeros : Return a new array setting values to zero.\n",
    "    full : Return a new array of given shape filled with value.\n",
    "\n",
    "\n",
    "### ndarray类\n",
    "\n",
    "``` python\n",
    "class ndarray(builtins.object):\n",
    "    ndarray(shape, dtype=float, buffer=None, offset=0,strides=None, order=None)\n",
    "```\n",
    "\n",
    "**属性说明**\n",
    "\n",
    "* **ndim**: 秩，即轴的数量或维度的数量\n",
    "* **shape**: 数组的维度，对于矩阵，n 行 m 列\n",
    "* **size**:\t数组元素的总个数，相当于 .shape 中 n*m 的值\n",
    "* **dtype**: ndarray 对象的元素类型\n",
    "* **itemsize**:\tndarray 对象中每个元素的大小，以字节为单位\n",
    "* **flags**: ndarray 对象的内存信息\n",
    "    * **C_CONTIGUOUS (C)**: 数据是在一个单一的C风格的连续段中\n",
    "    * **F_CONTIGUOUS (F)**: 数据是在一个单一的Fortran风格的连续段中\n",
    "    * **OWNDATA (O)**: 数组拥有它所使用的内存或从另一个对象中借用它\n",
    "    * **WRITEABLE (W)**: 数据区域可以被写入，将该值设置为 False，则数据为只读\n",
    "    * **ALIGNED (A)**: 数据和所有元素都适当地对齐到硬件上\n",
    "    * **UPDATEIFCOPY (U)**: 这个数组是其它数组的一个副本，当这个数组被释放时，原数组的内容将被更新\n",
    "* **real**: ndarray元素的实部\n",
    "* **imag**: ndarray 元素的虚部\n",
    "* **data**:\t包含实际数组元素的缓冲区，由于一般通过数组的索引获取元素，通常不需要使用"
   ]
  },
  {
   "cell_type": "code",
   "execution_count": 323,
   "metadata": {},
   "outputs": [],
   "source": [
    "import numpy as np\n",
    "from IPython.core.interactiveshell import InteractiveShell \n",
    "InteractiveShell.ast_node_interactivity = \"all\" # 可同时输出多个结果"
   ]
  },
  {
   "cell_type": "code",
   "execution_count": 324,
   "metadata": {},
   "outputs": [
    {
     "data": {
      "text/plain": [
       "('ndim', 1)"
      ]
     },
     "execution_count": 324,
     "metadata": {},
     "output_type": "execute_result"
    },
    {
     "data": {
      "text/plain": [
       "('shape', (3,))"
      ]
     },
     "execution_count": 324,
     "metadata": {},
     "output_type": "execute_result"
    },
    {
     "data": {
      "text/plain": [
       "('size', 3)"
      ]
     },
     "execution_count": 324,
     "metadata": {},
     "output_type": "execute_result"
    },
    {
     "data": {
      "text/plain": [
       "('dtype', dtype('int32'))"
      ]
     },
     "execution_count": 324,
     "metadata": {},
     "output_type": "execute_result"
    },
    {
     "data": {
      "text/plain": [
       "('itemsize', 4)"
      ]
     },
     "execution_count": 324,
     "metadata": {},
     "output_type": "execute_result"
    },
    {
     "data": {
      "text/plain": [
       "('flags',   C_CONTIGUOUS : True\n",
       "   F_CONTIGUOUS : True\n",
       "   OWNDATA : True\n",
       "   WRITEABLE : True\n",
       "   ALIGNED : True\n",
       "   WRITEBACKIFCOPY : False\n",
       "   UPDATEIFCOPY : False)"
      ]
     },
     "execution_count": 324,
     "metadata": {},
     "output_type": "execute_result"
    },
    {
     "data": {
      "text/plain": [
       "('real', array([1, 2, 3]))"
      ]
     },
     "execution_count": 324,
     "metadata": {},
     "output_type": "execute_result"
    },
    {
     "data": {
      "text/plain": [
       "('imag', array([0, 0, 0]))"
      ]
     },
     "execution_count": 324,
     "metadata": {},
     "output_type": "execute_result"
    },
    {
     "data": {
      "text/plain": [
       "('data', <memory at 0x000001D0A432A7C8>)"
      ]
     },
     "execution_count": 324,
     "metadata": {},
     "output_type": "execute_result"
    }
   ],
   "source": [
    "a = np.array([1,2,3]) # 基本的ndarray数组的创建\n",
    "'ndim',a.ndim\n",
    "'shape',a.shape\n",
    "'size',a.size\n",
    "'dtype',a.dtype\n",
    "'itemsize',a.itemsize\n",
    "'flags',a.flags\n",
    "'real',a.real\n",
    "'imag',a.imag\n",
    "'data',a.data"
   ]
  },
  {
   "cell_type": "code",
   "execution_count": 325,
   "metadata": {},
   "outputs": [
    {
     "data": {
      "text/plain": [
       "(1, 3)"
      ]
     },
     "execution_count": 325,
     "metadata": {},
     "output_type": "execute_result"
    },
    {
     "data": {
      "text/plain": [
       "2"
      ]
     },
     "execution_count": 325,
     "metadata": {},
     "output_type": "execute_result"
    },
    {
     "data": {
      "text/plain": [
       "3"
      ]
     },
     "execution_count": 325,
     "metadata": {},
     "output_type": "execute_result"
    },
    {
     "data": {
      "text/plain": [
       "4"
      ]
     },
     "execution_count": 325,
     "metadata": {},
     "output_type": "execute_result"
    },
    {
     "data": {
      "text/plain": [
       "  C_CONTIGUOUS : True\n",
       "  F_CONTIGUOUS : True\n",
       "  OWNDATA : False\n",
       "  WRITEABLE : True\n",
       "  ALIGNED : True\n",
       "  WRITEBACKIFCOPY : False\n",
       "  UPDATEIFCOPY : False"
      ]
     },
     "execution_count": 325,
     "metadata": {},
     "output_type": "execute_result"
    }
   ],
   "source": [
    "a = a.reshape((1,-1)) # reshape函数来调整数组大小\n",
    "a.shape\n",
    "a.ndim # 返回数组的维数\n",
    "a.size\n",
    "a.itemsize # 返回数组中每个元素的字节单位长度\n",
    "a.flags # Bit-flags describing how this data type is to be interpreted"
   ]
  },
  {
   "cell_type": "markdown",
   "metadata": {},
   "source": [
    "### 从现有数据创建数组\n",
    "``` python\n",
    "numpy.asarray(a, dtype = None, order = None)\n",
    "```\n",
    "\n",
    "**参数说明**\n",
    "* **a**：任意形式的输入参数，比如列表、列表的元组、元组、元组的元组、元组的列表\n",
    "* **dtype**：通常，输入数据的类型会应用到返回的ndarray\n",
    "* **order**：'C'为按行的 C 风格数组，'F'为按列的 Fortran 风格数组"
   ]
  },
  {
   "cell_type": "code",
   "execution_count": 326,
   "metadata": {},
   "outputs": [
    {
     "data": {
      "text/plain": [
       "array([1, 2, 3])"
      ]
     },
     "execution_count": 326,
     "metadata": {},
     "output_type": "execute_result"
    },
    {
     "data": {
      "text/plain": [
       "array([1, 2, 3])"
      ]
     },
     "execution_count": 326,
     "metadata": {},
     "output_type": "execute_result"
    },
    {
     "data": {
      "text/plain": [
       "array([(1, 2, 3), (4, 5)], dtype=object)"
      ]
     },
     "execution_count": 326,
     "metadata": {},
     "output_type": "execute_result"
    },
    {
     "data": {
      "text/plain": [
       "array([10., 12., 14., 16., 18.])"
      ]
     },
     "execution_count": 326,
     "metadata": {},
     "output_type": "execute_result"
    }
   ],
   "source": [
    "# 将列表转换为 ndarray\n",
    "x =  [1,2,3] \n",
    "np.asarray(x) \n",
    "\n",
    "# 将元组转换为 ndarray\n",
    "x =  (1,2,3) \n",
    "np.asarray(x) \n",
    "\n",
    "# 将元组列表转换为 ndarray\n",
    "x =  [(1,2,3),(4,5)] \n",
    "np.asarray(x) \n",
    "\n",
    "# numpy.arange(start, stop, step, dtype)\n",
    "# 从数值范围创建数组\n",
    "np.arange(10,20,2, dtype =  float)"
   ]
  },
  {
   "cell_type": "markdown",
   "metadata": {},
   "source": [
    "numpy.fromiter 方法从可迭代对象中建立 ndarray 对象，返回一维数组\n",
    "``` python\n",
    "numpy.fromiter(iterable, dtype, count=-1)\n",
    "```\n",
    "\n",
    "**参数说明**\n",
    "\n",
    "* **iterable**:\t可迭代对象\n",
    "* **dtype**: 返回数组的数据类型\n",
    "* **count**: 读取的数据数量，默认为-1，读取所有数据"
   ]
  },
  {
   "cell_type": "code",
   "execution_count": 327,
   "metadata": {},
   "outputs": [
    {
     "data": {
      "text/plain": [
       "array([0., 1., 2., 3., 4.])"
      ]
     },
     "execution_count": 327,
     "metadata": {},
     "output_type": "execute_result"
    }
   ],
   "source": [
    "# 从任何可迭代对象构建一个ndarray对象，返回一个新的一维数组\n",
    "list = range(5) \n",
    "it = iter(list)  \n",
    "# 使用迭代器创建 ndarray \n",
    "np.fromiter(it, dtype =  float)"
   ]
  },
  {
   "cell_type": "markdown",
   "metadata": {},
   "source": [
    "numpy.frombuffer 接受 buffer 输入参数，以流的形式读入转化成 ndarray 对象，用于实现动态数组。\n",
    "``` python\n",
    "numpy.frombuffer(buffer, dtype = float, count = -1, offset = 0)\n",
    "```\n",
    "\n",
    "**参数说明**\n",
    "\n",
    "* **buffer**：可以是任意对象，会以流的形式读入。\n",
    "* **dtype**：返回数组的数据类型，可选\n",
    "* **count**：读取的数据数量，默认为-1，读取所有数据。\n",
    "* **offset**：读取的起始位置，默认为0。"
   ]
  },
  {
   "cell_type": "code",
   "execution_count": 328,
   "metadata": {},
   "outputs": [
    {
     "data": {
      "text/plain": [
       "array([b'H', b'e', b'l', b'l', b'o', b' ', b'W', b'o', b'r', b'l', b'd'],\n",
       "      dtype='|S1')"
      ]
     },
     "execution_count": 328,
     "metadata": {},
     "output_type": "execute_result"
    }
   ],
   "source": [
    "# Python3.x\n",
    "s =  b'Hello World' \n",
    "a = np.frombuffer(s, dtype =  'S1')  \n",
    "a"
   ]
  },
  {
   "cell_type": "markdown",
   "metadata": {},
   "source": [
    "### 数值范围创建数组\n",
    "numpy.linspace 函数用于创建一个一维数组，数组是一个**等差数列**构成的\n",
    "``` python\n",
    "numpy.linspace(start, stop, num, endpoint, retstep, dtype)\n",
    "```\n",
    "\n",
    "**参数说明**\n",
    "\n",
    "* **start**：序列的起始值\n",
    "\n",
    "* **stop**：序列的终止值，如果endpoint为true，该值包含于序列中\n",
    "\n",
    "* **num**：要生成的等间隔样例数量，默认为50\n",
    "\n",
    "* **endpoint**：序列中是否包含stop值，默认为ture\n",
    "\n",
    "* **retstep**： 如果为true，返回样例，以及连续数字之间的步长\n",
    "\n",
    "* **dtype**：输出ndarray的数据类型"
   ]
  },
  {
   "cell_type": "code",
   "execution_count": 329,
   "metadata": {},
   "outputs": [
    {
     "data": {
      "text/plain": [
       "array([10., 12., 14., 16., 18.])"
      ]
     },
     "execution_count": 329,
     "metadata": {},
     "output_type": "execute_result"
    },
    {
     "data": {
      "text/plain": [
       "(array([1.  , 1.25, 1.5 , 1.75, 2.  ]), 0.25)"
      ]
     },
     "execution_count": 329,
     "metadata": {},
     "output_type": "execute_result"
    }
   ],
   "source": [
    "np.linspace(10, 20, 5, endpoint=False)\n",
    "np.linspace(1, 2, 5, retstep=True) "
   ]
  },
  {
   "cell_type": "code",
   "execution_count": 330,
   "metadata": {},
   "outputs": [
    {
     "data": {
      "text/plain": [
       "array([2.        , 2.16011948, 2.33305808, 2.5198421 , 2.72158   ,\n",
       "       2.93946898, 3.1748021 , 3.42897593, 3.70349885, 4.        ])"
      ]
     },
     "execution_count": 330,
     "metadata": {},
     "output_type": "execute_result"
    }
   ],
   "source": [
    "# numpy.logscale(start, stop, num, endpoint, base, dtype)\n",
    "# 返回一个ndarray对象，其中包含在对数刻度上均匀分布的数字。 \n",
    "# 刻度的开始和结束端点是某个底数的幂，通常为 10。\n",
    "np.logspace(1.0, 2.0, num=10, base=2) "
   ]
  },
  {
   "cell_type": "markdown",
   "metadata": {},
   "source": [
    "numpy.arange 函数创建数值范围并返回 ndarray 对象\n",
    "``` python\n",
    "numpy.arange(start, stop, step, dtype)\n",
    "```\n",
    "\n",
    "**参数说明**\n",
    "* **start**: 起始值，默认为0\n",
    "* **stop**:\t终止值（不包含）\n",
    "* **step**:\t步长，默认为1\n",
    "* **dtype**: 返回ndarray的数据类型，如果没有提供，则会使用输入数据的类型"
   ]
  },
  {
   "cell_type": "code",
   "execution_count": 331,
   "metadata": {},
   "outputs": [
    {
     "data": {
      "text/plain": [
       "array([10., 12., 14., 16., 18.])"
      ]
     },
     "execution_count": 331,
     "metadata": {},
     "output_type": "execute_result"
    }
   ],
   "source": [
    "a = np.arange(10, 20, 2, dtype=float)\n",
    "a"
   ]
  },
  {
   "cell_type": "markdown",
   "metadata": {},
   "source": [
    "numpy.logspace 函数用于创建一个于**等比数列**\n",
    "``` python\n",
    "np.logspace(start, stop, num=50, endpoint=True, base=10.0, dtype=None)\n",
    "```\n",
    "\n",
    "**参数说明**\n",
    "\n",
    "* **start**: 序列的起始值为：base ** start\n",
    "* **stop**:\t序列的终止值为：base ** stop。如果endpoint为true，该值包含于数列中\n",
    "* **num**: 要生成的等步长的样本数量，默认为50\n",
    "* **endpoint**:\t该值为 ture 时，数列中中包含stop值，反之不包含，默认是True。\n",
    "* **base**:\t对数 log 的底数。\n",
    "* **dtype**: ndarray 的数据类型"
   ]
  },
  {
   "cell_type": "code",
   "execution_count": 332,
   "metadata": {},
   "outputs": [
    {
     "data": {
      "text/plain": [
       "array([  1.,   2.,   4.,   8.,  16.,  32.,  64., 128., 256., 512.])"
      ]
     },
     "execution_count": 332,
     "metadata": {},
     "output_type": "execute_result"
    }
   ],
   "source": [
    "a = np.logspace(0, 9, 10, base=2)\n",
    "a"
   ]
  },
  {
   "cell_type": "markdown",
   "metadata": {},
   "source": [
    "---\n",
    "# 2.产生特定的矩阵"
   ]
  },
  {
   "cell_type": "markdown",
   "metadata": {},
   "source": [
    "### empty()产生空数组\n",
    "``` python\n",
    "numpy.empty(shape, dtype = float, order = 'C')\n",
    "```\n",
    "\n",
    "**参数说明**\n",
    "\n",
    "* **shape**：数组形状\n",
    "* **dtype**：数据类型，可选\n",
    "* **order**：有\"C\"和\"F\"代表行优先和列优先，在计算机内存中的存储元素的顺序。"
   ]
  },
  {
   "cell_type": "code",
   "execution_count": 333,
   "metadata": {},
   "outputs": [
    {
     "data": {
      "text/plain": [
       "array([[0, 1],\n",
       "       [2, 3],\n",
       "       [4, 5]])"
      ]
     },
     "execution_count": 333,
     "metadata": {},
     "output_type": "execute_result"
    }
   ],
   "source": [
    "np.empty([3,2], dtype =  int) # 数组元素为随机值，因为它们未初始化"
   ]
  },
  {
   "cell_type": "markdown",
   "metadata": {},
   "source": [
    "### zeros()函数\n",
    "返回特定大小，以0填充的新数组\n",
    "``` python\n",
    "zeros(shape, dtype=float, order='C')\n",
    "```\n",
    "\n",
    "**参数说明**\n",
    "* **Shape**：空数组的形状，整数或整数元组\n",
    "* **dtype**：所需的输出数组类型，可选\n",
    "* **order**：'C'为按行的 C 风格数组，'F'为按列的 Fortran 风格数组"
   ]
  },
  {
   "cell_type": "code",
   "execution_count": 334,
   "metadata": {},
   "outputs": [
    {
     "data": {
      "text/plain": [
       "array([[0., 0., 0.],\n",
       "       [0., 0., 0.],\n",
       "       [0., 0., 0.]])"
      ]
     },
     "execution_count": 334,
     "metadata": {},
     "output_type": "execute_result"
    }
   ],
   "source": [
    "a = np.zeros((3,3), dtype=float)\n",
    "a"
   ]
  },
  {
   "cell_type": "markdown",
   "metadata": {},
   "source": [
    "### zeros_like()函数\n",
    "依据给定数组(a)的形状和类型返回一个新的元素全部为0的数组\n",
    "``` python\n",
    "zeros_like(a, dtype=None, order='K', subok=True)\n",
    "```\n",
    "\n",
    "**参数说明**\n",
    "* **a**：给定数组的形状\n",
    "* **dtype**：所需的输出数组类型，可选\n",
    "* **order**：{‘C’, ‘F’, ‘A’, or ‘K’}, optional,Overrides the memory layout of the result. ‘C’ means C-order, ‘F’ means F-order, ‘A’ means ‘F’ if a is Fortran contiguous, ‘C’ otherwise. ‘K’ means match the layout of a as closely as possible.\n",
    "* **subok**：bool, optional.If True, then the newly created array will use the sub-class type of ‘a’, otherwise it will be a base-class array. Defaults to True."
   ]
  },
  {
   "cell_type": "code",
   "execution_count": 335,
   "metadata": {},
   "outputs": [
    {
     "data": {
      "text/plain": [
       "array([[0, 0, 0],\n",
       "       [0, 0, 0]])"
      ]
     },
     "execution_count": 335,
     "metadata": {},
     "output_type": "execute_result"
    },
    {
     "data": {
      "text/plain": [
       "array([[0, 0, 0],\n",
       "       [0, 0, 0]])"
      ]
     },
     "execution_count": 335,
     "metadata": {},
     "output_type": "execute_result"
    }
   ],
   "source": [
    "x = np.arange(6)\n",
    "x = x.reshape((2, 3))\n",
    "\n",
    "a = np.zeros_like(x)\n",
    "a\n",
    "\n",
    "b = x.copy()\n",
    "b.fill(0)\n",
    "b"
   ]
  },
  {
   "cell_type": "markdown",
   "metadata": {},
   "source": [
    "### ones()函数\n",
    "返回特定大小，以1填充的新数组\n",
    "``` python\n",
    "np.ones(shape, dtype=None, order='C')\n",
    "```\n",
    "**参数说明**\n",
    "* **同zeros()**"
   ]
  },
  {
   "cell_type": "code",
   "execution_count": 336,
   "metadata": {},
   "outputs": [
    {
     "data": {
      "text/plain": [
       "array([[1., 1., 1.],\n",
       "       [1., 1., 1.]])"
      ]
     },
     "execution_count": 336,
     "metadata": {},
     "output_type": "execute_result"
    }
   ],
   "source": [
    "a = np.ones((2,3))\n",
    "a"
   ]
  },
  {
   "cell_type": "markdown",
   "metadata": {},
   "source": [
    "### ones_like()函数\n",
    "返回特定大小，以1填充的新数组\n",
    "``` python\n",
    "ones_like(a, dtype=None, order='K', subok=True)\n",
    "```\n",
    "**参数说明**\n",
    "* **同zeros_like()**"
   ]
  },
  {
   "cell_type": "code",
   "execution_count": 337,
   "metadata": {},
   "outputs": [
    {
     "data": {
      "text/plain": [
       "array([[1, 1, 1],\n",
       "       [1, 1, 1]])"
      ]
     },
     "execution_count": 337,
     "metadata": {},
     "output_type": "execute_result"
    },
    {
     "data": {
      "text/plain": [
       "array([[1, 1, 1],\n",
       "       [1, 1, 1]])"
      ]
     },
     "execution_count": 337,
     "metadata": {},
     "output_type": "execute_result"
    }
   ],
   "source": [
    "x = np.arange(6)\n",
    "x = x.reshape((2, 3))\n",
    "\n",
    "a = np.ones_like(x)\n",
    "a\n",
    "\n",
    "b = x.copy()\n",
    "b.fill(1)\n",
    "b"
   ]
  },
  {
   "cell_type": "markdown",
   "metadata": {},
   "source": [
    "### full()函数\n",
    "``` python\n",
    "np.full(shape, fill_value, dtype=None, order='C')\n",
    "```\n",
    "**参数说明**\n",
    "\n",
    "* **shape**: 矩阵的纬度\n",
    "\n",
    "* **fill_value**: 填充值\n",
    "\n",
    "* **dtype**: 数据类型\n",
    "\n",
    "* **order**: 有\"C\"和\"F\"代表行优先和列优先，在计算机内存中的存储元素的顺序。"
   ]
  },
  {
   "cell_type": "code",
   "execution_count": 338,
   "metadata": {},
   "outputs": [
    {
     "data": {
      "text/plain": [
       "array([[2.3, 2.3, 2.3],\n",
       "       [2.3, 2.3, 2.3],\n",
       "       [2.3, 2.3, 2.3],\n",
       "       [2.3, 2.3, 2.3]])"
      ]
     },
     "execution_count": 338,
     "metadata": {},
     "output_type": "execute_result"
    }
   ],
   "source": [
    "a = np.full((4,3),2.3)\n",
    "a"
   ]
  },
  {
   "cell_type": "markdown",
   "metadata": {},
   "source": [
    "### eye()函数\n",
    "返回一个对角线元素为1，其他元素为0的二维数组\n",
    "``` python\n",
    "np.eye(N, M=None, k=0, dtype=<class 'float'>, order='C')\n",
    "```\n",
    "\n",
    "**参数说明**\n",
    "\n",
    "* **N**: 整数，返回数组的行数；\n",
    "\n",
    "* **M**: 整数，可选，返回数组的列数。如果不赋值的话，默认等于N；\n",
    "\n",
    "* **k**: 整数, 可选，对角线序列号: 0 对应主对角线；,整数对应upper diagonal,负数对应lower diagonal；\n",
    "\n",
    "* **dtype**: dtype, 可选，返回数组的数据类型"
   ]
  },
  {
   "cell_type": "code",
   "execution_count": 339,
   "metadata": {},
   "outputs": [
    {
     "data": {
      "text/plain": [
       "array([[0., 1., 0.],\n",
       "       [0., 0., 1.],\n",
       "       [0., 0., 0.]])"
      ]
     },
     "execution_count": 339,
     "metadata": {},
     "output_type": "execute_result"
    }
   ],
   "source": [
    "a = np.eye(3, k=1)\n",
    "a"
   ]
  },
  {
   "cell_type": "markdown",
   "metadata": {},
   "source": [
    "### identity()函数\n",
    "返回一个N维单位方阵\n",
    "``` python\n",
    "identity(n, dtype=None)\n",
    "```\n",
    "\n",
    "**参数说明**\n",
    "\n",
    "* **n**: 整数,返回方阵的行列数\n",
    "\n",
    "* **dtype**:数据类型，可选,返回方阵的数据类型，默认为float."
   ]
  },
  {
   "cell_type": "code",
   "execution_count": null,
   "metadata": {},
   "outputs": [],
   "source": []
  },
  {
   "cell_type": "markdown",
   "metadata": {},
   "source": [
    "### 随机数random.random()\n",
    "``` python\n",
    "random_sample(size=None)\n",
    "\n",
    "Return random floats in the half-open interval [0.0, 1.0).\n",
    "```"
   ]
  },
  {
   "cell_type": "code",
   "execution_count": 340,
   "metadata": {},
   "outputs": [
    {
     "data": {
      "text/plain": [
       "array([[0.47725251, 0.4851217 , 0.46336804, 0.73940186],\n",
       "       [0.00984081, 0.08541814, 0.92201825, 0.54875228],\n",
       "       [0.57259218, 0.80978131, 0.05509176, 0.8153016 ]])"
      ]
     },
     "execution_count": 340,
     "metadata": {},
     "output_type": "execute_result"
    }
   ],
   "source": [
    "a = np.random.random((3,4)) # np.random.random_sample((3,4))\n",
    "a"
   ]
  },
  {
   "cell_type": "markdown",
   "metadata": {},
   "source": [
    "### np.random()\n",
    "``` python\n",
    "randint(low, high=None, size=None, dtype='l')\n",
    "\n",
    "Return random integers from `low` (inclusive) to `high` (exclusive).\n",
    "```"
   ]
  },
  {
   "cell_type": "code",
   "execution_count": 341,
   "metadata": {},
   "outputs": [
    {
     "data": {
      "text/plain": [
       "array([9, 1, 8])"
      ]
     },
     "execution_count": 341,
     "metadata": {},
     "output_type": "execute_result"
    }
   ],
   "source": [
    "np.random.randint(1,10,3)"
   ]
  },
  {
   "cell_type": "markdown",
   "metadata": {},
   "source": [
    "### 指定随机数列表\n",
    "``` python\n",
    "choice(a, size=None, replace=True, p=None)\n",
    "\n",
    "Generates a random sample from a given 1-D array\n",
    "```"
   ]
  },
  {
   "cell_type": "code",
   "execution_count": 342,
   "metadata": {},
   "outputs": [
    {
     "data": {
      "text/plain": [
       "1"
      ]
     },
     "execution_count": 342,
     "metadata": {},
     "output_type": "execute_result"
    }
   ],
   "source": [
    "np.random.choice([1,3,7,10])"
   ]
  },
  {
   "cell_type": "markdown",
   "metadata": {},
   "source": [
    "---\n",
    "# 3.切片和索引"
   ]
  },
  {
   "cell_type": "markdown",
   "metadata": {},
   "source": [
    "### 数组切片"
   ]
  },
  {
   "cell_type": "code",
   "execution_count": 343,
   "metadata": {},
   "outputs": [
    {
     "data": {
      "text/plain": [
       "array([2, 4, 6])"
      ]
     },
     "execution_count": 343,
     "metadata": {},
     "output_type": "execute_result"
    },
    {
     "data": {
      "text/plain": [
       "array([2, 4, 6])"
      ]
     },
     "execution_count": 343,
     "metadata": {},
     "output_type": "execute_result"
    }
   ],
   "source": [
    "a = np.arange(10)\n",
    "a[slice(2,7,2)] # 索引2到7，步长为2，进行切片\n",
    "a[2:7:2] # start:stop:step, 不包括stop"
   ]
  },
  {
   "cell_type": "markdown",
   "metadata": {},
   "source": [
    "切片还可以包括省略号（...），来使选择元组的长度与数组的维度相同。 如果在行位置使用省略号，它将返回包含行中元素的ndarray。"
   ]
  },
  {
   "cell_type": "code",
   "execution_count": 344,
   "metadata": {},
   "outputs": [
    {
     "data": {
      "text/plain": [
       "array([2, 4, 5])"
      ]
     },
     "execution_count": 344,
     "metadata": {},
     "output_type": "execute_result"
    },
    {
     "data": {
      "text/plain": [
       "array([3, 4, 5])"
      ]
     },
     "execution_count": 344,
     "metadata": {},
     "output_type": "execute_result"
    },
    {
     "data": {
      "text/plain": [
       "array([[2, 3],\n",
       "       [4, 5],\n",
       "       [5, 6]])"
      ]
     },
     "execution_count": 344,
     "metadata": {},
     "output_type": "execute_result"
    }
   ],
   "source": [
    "a = np.array([[1,2,3],[3,4,5],[4,5,6]]) \n",
    "\n",
    "# 第二列的元素是  \n",
    "a[...,1]  \n",
    "\n",
    "# 第二行的元素是  \n",
    "a[1,...]\n",
    "\n",
    "# 第二列及其剩余元素是\n",
    "a[...,1:]"
   ]
  },
  {
   "cell_type": "markdown",
   "metadata": {},
   "source": [
    "### 索引Indexing"
   ]
  },
  {
   "cell_type": "code",
   "execution_count": 345,
   "metadata": {},
   "outputs": [
    {
     "data": {
      "text/plain": [
       "array([[ 6,  7],\n",
       "       [10, 11]])"
      ]
     },
     "execution_count": 345,
     "metadata": {},
     "output_type": "execute_result"
    },
    {
     "data": {
      "text/plain": [
       "array([[ 9, 10, 11, 12]])"
      ]
     },
     "execution_count": 345,
     "metadata": {},
     "output_type": "execute_result"
    },
    {
     "data": {
      "text/plain": [
       "array([[ 6,  7],\n",
       "       [10, 11]])"
      ]
     },
     "execution_count": 345,
     "metadata": {},
     "output_type": "execute_result"
    }
   ],
   "source": [
    "a = np.array([[1,2,3,4],\n",
    "             [5,6,7,8],\n",
    "             [9,10,11,12]])\n",
    "a[-2:,1:3]\n",
    "a[-2:][1:3]\n",
    "a[-2:, 1:3]"
   ]
  },
  {
   "cell_type": "markdown",
   "metadata": {},
   "source": [
    "### 基于N维索引获取任意元素"
   ]
  },
  {
   "cell_type": "code",
   "execution_count": 346,
   "metadata": {},
   "outputs": [
    {
     "data": {
      "text/plain": [
       "array([[1, 2],\n",
       "       [3, 4],\n",
       "       [5, 6]])"
      ]
     },
     "execution_count": 346,
     "metadata": {},
     "output_type": "execute_result"
    },
    {
     "data": {
      "text/plain": [
       "array([1, 4, 5])"
      ]
     },
     "execution_count": 346,
     "metadata": {},
     "output_type": "execute_result"
    }
   ],
   "source": [
    "x = np.array([[1,  2],  [3,  4],  [5,  6]]) \n",
    "x\n",
    "x[[0,1,2],  [0,1,0]] # 数组中(0,0)，(1,1)和(2,0)位置处的元素"
   ]
  },
  {
   "cell_type": "code",
   "execution_count": 347,
   "metadata": {},
   "outputs": [
    {
     "data": {
      "text/plain": [
       "array([[ 0,  1,  2],\n",
       "       [ 3,  4,  5],\n",
       "       [ 6,  7,  8],\n",
       "       [ 9, 10, 11]])"
      ]
     },
     "execution_count": 347,
     "metadata": {},
     "output_type": "execute_result"
    },
    {
     "data": {
      "text/plain": [
       "array([[ 0,  2],\n",
       "       [ 9, 11]])"
      ]
     },
     "execution_count": 347,
     "metadata": {},
     "output_type": "execute_result"
    }
   ],
   "source": [
    "x = np.array([[  0,  1,  2],[  3,  4,  5],[  6,  7,  8],[  9,  10,  11]])  \n",
    "x \n",
    "rows = np.array([[0,0],[3,3]]) \n",
    "cols = np.array([[0,2],[0,2]]) \n",
    "y = x[rows,cols] # 数组的每个角处的元素\n",
    "y"
   ]
  },
  {
   "cell_type": "code",
   "execution_count": 348,
   "metadata": {},
   "outputs": [
    {
     "data": {
      "text/plain": [
       "array([[ 0,  1,  2],\n",
       "       [ 3,  4,  5],\n",
       "       [ 6,  7,  8],\n",
       "       [ 9, 10, 11]])"
      ]
     },
     "execution_count": 348,
     "metadata": {},
     "output_type": "execute_result"
    },
    {
     "data": {
      "text/plain": [
       "array([[ 4,  5],\n",
       "       [ 7,  8],\n",
       "       [10, 11]])"
      ]
     },
     "execution_count": 348,
     "metadata": {},
     "output_type": "execute_result"
    },
    {
     "data": {
      "text/plain": [
       "array([[ 4,  5],\n",
       "       [ 7,  8],\n",
       "       [10, 11]])"
      ]
     },
     "execution_count": 348,
     "metadata": {},
     "output_type": "execute_result"
    }
   ],
   "source": [
    "# 高级和基本索引可以通过使用切片:或省略号...与索引数组组合。 \n",
    "# 以下示例使用slice作为列索引和高级索引。 当切片用于两者时，结果是相同的。 \n",
    "# 但高级索引会导致复制，并且可能有不同的内存布局。\n",
    "x = np.array([[  0,  1,  2],[  3,  4,  5],[  6,  7,  8],[  9,  10,  11]])  \n",
    "x \n",
    "z = x[1:4,1:3]  \n",
    "z \n",
    "y = x[1:4,[1,2]]\n",
    "y"
   ]
  },
  {
   "cell_type": "code",
   "execution_count": 349,
   "metadata": {},
   "outputs": [
    {
     "data": {
      "text/plain": [
       "array([[10, 11]])"
      ]
     },
     "execution_count": 349,
     "metadata": {},
     "output_type": "execute_result"
    },
    {
     "data": {
      "text/plain": [
       "(1, 2)"
      ]
     },
     "execution_count": 349,
     "metadata": {},
     "output_type": "execute_result"
    },
    {
     "data": {
      "text/plain": [
       "array([10, 11])"
      ]
     },
     "execution_count": 349,
     "metadata": {},
     "output_type": "execute_result"
    },
    {
     "data": {
      "text/plain": [
       "(2,)"
      ]
     },
     "execution_count": 349,
     "metadata": {},
     "output_type": "execute_result"
    }
   ],
   "source": [
    "b = a[2:3, 1:3]\n",
    "b\n",
    "b.shape\n",
    "b = a[2, 1:3]\n",
    "b\n",
    "b.shape"
   ]
  },
  {
   "cell_type": "code",
   "execution_count": 350,
   "metadata": {},
   "outputs": [
    {
     "data": {
      "text/plain": [
       "array([[ 1,  2,  3,  4],\n",
       "       [ 5,  6,  7,  8],\n",
       "       [ 9, 10, 11, 12]])"
      ]
     },
     "execution_count": 350,
     "metadata": {},
     "output_type": "execute_result"
    },
    {
     "data": {
      "text/plain": [
       "array([[ 1, 12,  3,  4],\n",
       "       [ 5, 16,  7,  8],\n",
       "       [ 9, 20, 11, 12]])"
      ]
     },
     "execution_count": 350,
     "metadata": {},
     "output_type": "execute_result"
    }
   ],
   "source": [
    "a\n",
    "a[np.arange(3), 1] += 10\n",
    "a\n"
   ]
  },
  {
   "cell_type": "code",
   "execution_count": 351,
   "metadata": {},
   "outputs": [
    {
     "data": {
      "text/plain": [
       "array([0, 1, 2])"
      ]
     },
     "execution_count": 351,
     "metadata": {},
     "output_type": "execute_result"
    },
    {
     "data": {
      "text/plain": [
       "array([3, 4, 5, 6])"
      ]
     },
     "execution_count": 351,
     "metadata": {},
     "output_type": "execute_result"
    },
    {
     "data": {
      "text/plain": [
       "array([[ 1, 22,  3,  4],\n",
       "       [ 5, 26,  7,  8],\n",
       "       [ 9, 30, 11, 12]])"
      ]
     },
     "execution_count": 351,
     "metadata": {},
     "output_type": "execute_result"
    }
   ],
   "source": [
    "np.arange(3)\n",
    "np.arange(3,7)\n",
    "a[np.arange(3), [1,1,1]] += 10\n",
    "a"
   ]
  },
  {
   "cell_type": "markdown",
   "metadata": {},
   "source": [
    "### 布尔索引"
   ]
  },
  {
   "cell_type": "code",
   "execution_count": 352,
   "metadata": {},
   "outputs": [
    {
     "data": {
      "text/plain": [
       "array([[False,  True, False, False],\n",
       "       [False,  True, False, False],\n",
       "       [False,  True,  True,  True]])"
      ]
     },
     "execution_count": 352,
     "metadata": {},
     "output_type": "execute_result"
    },
    {
     "data": {
      "text/plain": [
       "array([22, 26, 30, 11, 12])"
      ]
     },
     "execution_count": 352,
     "metadata": {},
     "output_type": "execute_result"
    }
   ],
   "source": [
    "result_index = a>10\n",
    "result_index\n",
    "a[result_index] # a[a>10]"
   ]
  },
  {
   "cell_type": "code",
   "execution_count": 353,
   "metadata": {},
   "outputs": [
    {
     "data": {
      "text/plain": [
       "array([2. +6.j, 3.5+5.j])"
      ]
     },
     "execution_count": 353,
     "metadata": {},
     "output_type": "execute_result"
    }
   ],
   "source": [
    "# 从数组中过滤掉非复数元素\n",
    "a = np.array([1, 2+6j, 5, 3.5+5j])  \n",
    "a[np.iscomplex(a)]"
   ]
  },
  {
   "cell_type": "markdown",
   "metadata": {},
   "source": [
    "### 花式索引\n",
    "花式索引指的是利用整数数组进行索引。\n",
    "\n",
    "花式索引根据索引数组的值作为目标数组的某个轴的下标来取值。对于使用一维整型数组作为索引，如果目标是一维数组，那么索引的结果就是对应位置的元素；如果目标是二维数组，那么就是对应下标的行。\n",
    "\n",
    "花式索引跟切片不一样，它总是将数据复制到新数组中。\n"
   ]
  },
  {
   "cell_type": "code",
   "execution_count": 354,
   "metadata": {},
   "outputs": [
    {
     "data": {
      "text/plain": [
       "array([[ 0,  1,  2,  3],\n",
       "       [ 4,  5,  6,  7],\n",
       "       [ 8,  9, 10, 11],\n",
       "       [12, 13, 14, 15],\n",
       "       [16, 17, 18, 19],\n",
       "       [20, 21, 22, 23],\n",
       "       [24, 25, 26, 27],\n",
       "       [28, 29, 30, 31]])"
      ]
     },
     "execution_count": 354,
     "metadata": {},
     "output_type": "execute_result"
    },
    {
     "data": {
      "text/plain": [
       "array([[16, 17, 18, 19],\n",
       "       [24, 25, 26, 27],\n",
       "       [28, 29, 30, 31],\n",
       "       [ 4,  5,  6,  7]])"
      ]
     },
     "execution_count": 354,
     "metadata": {},
     "output_type": "execute_result"
    },
    {
     "data": {
      "text/plain": [
       "array([[ 4,  7,  5,  6],\n",
       "       [20, 23, 21, 22],\n",
       "       [28, 31, 29, 30],\n",
       "       [ 8, 11,  9, 10]])"
      ]
     },
     "execution_count": 354,
     "metadata": {},
     "output_type": "execute_result"
    }
   ],
   "source": [
    "# 传入顺序索引数组\n",
    "x = np.arange(32).reshape((8,4))\n",
    "x\n",
    "\n",
    "# 传入倒序索引数组\n",
    "x = np.arange(32).reshape((8,4))\n",
    "x[[-4,-2,-1,-7]]\n",
    "\n",
    "# 传入多个索引数组（要使用np.ix_）\n",
    "x = np.arange(32).reshape((8,4))\n",
    "x[np.ix_([1,5,7,2],[0,3,1,2])]"
   ]
  },
  {
   "cell_type": "markdown",
   "metadata": {},
   "source": [
    "# 4.数学运算与常用函数"
   ]
  },
  {
   "cell_type": "markdown",
   "metadata": {},
   "source": [
    "### 算数函数\n",
    "\n",
    "NumPy 算术函数包含简单的加减乘除: add()，subtract()，multiply() 和 divide()"
   ]
  },
  {
   "cell_type": "code",
   "execution_count": 355,
   "metadata": {},
   "outputs": [
    {
     "data": {
      "text/plain": [
       "array([[6, 8],\n",
       "       [9, 9]])"
      ]
     },
     "execution_count": 355,
     "metadata": {},
     "output_type": "execute_result"
    },
    {
     "data": {
      "text/plain": [
       "array([[-4, -4],\n",
       "       [-3, -1]])"
      ]
     },
     "execution_count": 355,
     "metadata": {},
     "output_type": "execute_result"
    },
    {
     "data": {
      "text/plain": [
       "array([[ 5, 12],\n",
       "       [18, 20]])"
      ]
     },
     "execution_count": 355,
     "metadata": {},
     "output_type": "execute_result"
    },
    {
     "data": {
      "text/plain": [
       "array([[0.2       , 0.33333333],\n",
       "       [0.5       , 0.8       ]])"
      ]
     },
     "execution_count": 355,
     "metadata": {},
     "output_type": "execute_result"
    },
    {
     "data": {
      "text/plain": [
       "array([[1.        , 1.41421356],\n",
       "       [1.73205081, 2.        ]])"
      ]
     },
     "execution_count": 355,
     "metadata": {},
     "output_type": "execute_result"
    }
   ],
   "source": [
    "a = np.array([[1,2],\n",
    "              [3,4]])\n",
    "b = np.array([[5,6],\n",
    "              [6,5]])\n",
    "\n",
    "np.add(a,b) # a + b\n",
    "\n",
    "np.subtract(a,b) # a - b\n",
    "\n",
    "np.multiply(a,b) # a * b\n",
    "\n",
    "np.divide(a,b) # a / b\n",
    "\n",
    "np.sqrt(a)"
   ]
  },
  {
   "cell_type": "code",
   "execution_count": 356,
   "metadata": {},
   "outputs": [
    {
     "data": {
      "text/plain": [
       "array([[ 9, 12, 15],\n",
       "       [19, 26, 33]])"
      ]
     },
     "execution_count": 356,
     "metadata": {},
     "output_type": "execute_result"
    }
   ],
   "source": [
    "a = np.array([[1,2],\n",
    "              [3,4]])\n",
    "b = np.array([[1,2,3],\n",
    "             [4,5,6]])\n",
    "a.dot(b) # np.dot(a,b)"
   ]
  },
  {
   "cell_type": "code",
   "execution_count": 357,
   "metadata": {},
   "outputs": [
    {
     "data": {
      "text/plain": [
       "array([[ 2.71828183,  7.3890561 ],\n",
       "       [20.08553692, 54.59815003]])"
      ]
     },
     "execution_count": 357,
     "metadata": {},
     "output_type": "execute_result"
    },
    {
     "data": {
      "text/plain": [
       "array([[ 2.,  4.],\n",
       "       [ 8., 16.]])"
      ]
     },
     "execution_count": 357,
     "metadata": {},
     "output_type": "execute_result"
    },
    {
     "data": {
      "text/plain": [
       "array([[1.        , 1.41421356],\n",
       "       [1.73205081, 2.        ]])"
      ]
     },
     "execution_count": 357,
     "metadata": {},
     "output_type": "execute_result"
    },
    {
     "data": {
      "text/plain": [
       "array([[ 0.84147098,  0.90929743],\n",
       "       [ 0.14112001, -0.7568025 ]])"
      ]
     },
     "execution_count": 357,
     "metadata": {},
     "output_type": "execute_result"
    },
    {
     "data": {
      "text/plain": [
       "array([[0.        , 0.69314718],\n",
       "       [1.09861229, 1.38629436]])"
      ]
     },
     "execution_count": 357,
     "metadata": {},
     "output_type": "execute_result"
    }
   ],
   "source": [
    "b = np.array([[1,2],\n",
    "              [3,4]])\n",
    "np.exp(b)\n",
    "np.exp2(b)\n",
    "np.sqrt(b)\n",
    "np.sin(b)\n",
    "np.log(b)"
   ]
  },
  {
   "cell_type": "markdown",
   "metadata": {},
   "source": [
    "numpy.reciprocal() 函数返回参数逐元素的倒数。如 1/4 倒数为 4/1\n",
    "\n",
    "numpy.power() 函数将第一个输入数组中的元素作为底数，计算它与第二个输入数组中相应元素的幂\n",
    "\n",
    "numpy.mod() 计算输入数组中相应元素的相除后的余数。 函数 numpy.remainder() 也产生相同的结果"
   ]
  },
  {
   "cell_type": "code",
   "execution_count": 358,
   "metadata": {},
   "outputs": [
    {
     "data": {
      "text/plain": [
       "array([4.       , 0.7518797, 1.       , 0.01     ])"
      ]
     },
     "execution_count": 358,
     "metadata": {},
     "output_type": "execute_result"
    },
    {
     "data": {
      "text/plain": [
       "array([    100,   10000, 1000000], dtype=int32)"
      ]
     },
     "execution_count": 358,
     "metadata": {},
     "output_type": "execute_result"
    },
    {
     "data": {
      "text/plain": [
       "array([        10,      10000, 1000000000], dtype=int32)"
      ]
     },
     "execution_count": 358,
     "metadata": {},
     "output_type": "execute_result"
    },
    {
     "data": {
      "text/plain": [
       "array([1, 0, 2], dtype=int32)"
      ]
     },
     "execution_count": 358,
     "metadata": {},
     "output_type": "execute_result"
    }
   ],
   "source": [
    "np.reciprocal(np.array([0.25,  1.33,  1,  100]))\n",
    "\n",
    "a = np.array([10,100,1000]) \n",
    "b = np.array([1,2,3]) \n",
    "np.power(a,2)\n",
    "np.power(a,b)\n",
    "\n",
    "a = np.array([10,20,30]) \n",
    "b = np.array([3,5,7])  \n",
    "np.mod(a,b) # np.remainder(a,b)"
   ]
  },
  {
   "cell_type": "markdown",
   "metadata": {},
   "source": []
  },
  {
   "cell_type": "code",
   "execution_count": null,
   "metadata": {},
   "outputs": [],
   "source": []
  },
  {
   "cell_type": "code",
   "execution_count": 359,
   "metadata": {},
   "outputs": [
    {
     "data": {
      "text/plain": [
       "4"
      ]
     },
     "execution_count": 359,
     "metadata": {},
     "output_type": "execute_result"
    },
    {
     "data": {
      "text/plain": [
       "1"
      ]
     },
     "execution_count": 359,
     "metadata": {},
     "output_type": "execute_result"
    }
   ],
   "source": [
    "a = np.array([[1,2],\n",
    "              [3,4]])\n",
    "a.max()\n",
    "a.min()"
   ]
  },
  {
   "cell_type": "markdown",
   "metadata": {},
   "source": [
    "### 数学函数\n",
    "\n",
    "NumPy 提供了标准的三角函数：sin()、cos()、tan()\n"
   ]
  },
  {
   "cell_type": "code",
   "execution_count": 360,
   "metadata": {},
   "outputs": [
    {
     "data": {
      "text/plain": [
       "array([0.        , 0.5       , 0.70710678, 0.8660254 , 1.        ])"
      ]
     },
     "execution_count": 360,
     "metadata": {},
     "output_type": "execute_result"
    },
    {
     "data": {
      "text/plain": [
       "array([1.00000000e+00, 8.66025404e-01, 7.07106781e-01, 5.00000000e-01,\n",
       "       6.12323400e-17])"
      ]
     },
     "execution_count": 360,
     "metadata": {},
     "output_type": "execute_result"
    },
    {
     "data": {
      "text/plain": [
       "array([0.00000000e+00, 5.77350269e-01, 1.00000000e+00, 1.73205081e+00,\n",
       "       1.63312394e+16])"
      ]
     },
     "execution_count": 360,
     "metadata": {},
     "output_type": "execute_result"
    }
   ],
   "source": [
    "a = np.array([0,30,45,60,90])\n",
    "\n",
    "# 不同角度的正弦值\n",
    "np.sin(a*np.pi/180) # 通过乘 pi/180 转化为弧度  \n",
    "\n",
    "# 数组中角度的余弦值\n",
    "np.cos(a*np.pi/180)\n",
    "\n",
    "# 数组中角度的正切值)\n",
    "np.tan(a*np.pi/180)"
   ]
  },
  {
   "cell_type": "markdown",
   "metadata": {},
   "source": [
    "arcsin，arccos，和 arctan 函数返回给定角度的 sin，cos 和 tan 的反三角函数。\n",
    "\n",
    "这些函数的结果可以通过 numpy.degrees() 函数将弧度转换为角度"
   ]
  },
  {
   "cell_type": "code",
   "execution_count": 361,
   "metadata": {},
   "outputs": [
    {
     "data": {
      "text/plain": [
       "array([0.        , 0.5       , 0.70710678, 0.8660254 , 1.        ])"
      ]
     },
     "execution_count": 361,
     "metadata": {},
     "output_type": "execute_result"
    },
    {
     "data": {
      "text/plain": [
       "array([0.        , 0.52359878, 0.78539816, 1.04719755, 1.57079633])"
      ]
     },
     "execution_count": 361,
     "metadata": {},
     "output_type": "execute_result"
    },
    {
     "data": {
      "text/plain": [
       "array([ 0., 30., 45., 60., 90.])"
      ]
     },
     "execution_count": 361,
     "metadata": {},
     "output_type": "execute_result"
    }
   ],
   "source": [
    "a = np.array([0,30,45,60,90])  \n",
    "# 含有正弦值的数组\n",
    "sin = np.sin(a*np.pi/180)  \n",
    "sin\n",
    "# 计算角度的反正弦，返回值以弧度为单位\n",
    "inv = np.arcsin(sin)  \n",
    "inv\n",
    "# 通过转化为角度制来检查结果\n",
    "np.degrees(inv)"
   ]
  },
  {
   "cell_type": "code",
   "execution_count": 362,
   "metadata": {},
   "outputs": [
    {
     "data": {
      "text/plain": [
       "array([1.00000000e+00, 8.66025404e-01, 7.07106781e-01, 5.00000000e-01,\n",
       "       6.12323400e-17])"
      ]
     },
     "execution_count": 362,
     "metadata": {},
     "output_type": "execute_result"
    },
    {
     "data": {
      "text/plain": [
       "array([0.        , 0.52359878, 0.78539816, 1.04719755, 1.57079633])"
      ]
     },
     "execution_count": 362,
     "metadata": {},
     "output_type": "execute_result"
    },
    {
     "data": {
      "text/plain": [
       "array([ 0., 30., 45., 60., 90.])"
      ]
     },
     "execution_count": 362,
     "metadata": {},
     "output_type": "execute_result"
    }
   ],
   "source": [
    "cos = np.cos(a*np.pi/180)  \n",
    "cos\n",
    "# 反余弦\n",
    "inv = np.arccos(cos)  \n",
    "inv\n",
    "# 角度制单位\n",
    "np.degrees(inv)"
   ]
  },
  {
   "cell_type": "code",
   "execution_count": 363,
   "metadata": {},
   "outputs": [
    {
     "data": {
      "text/plain": [
       "array([0.00000000e+00, 5.77350269e-01, 1.00000000e+00, 1.73205081e+00,\n",
       "       1.63312394e+16])"
      ]
     },
     "execution_count": 363,
     "metadata": {},
     "output_type": "execute_result"
    },
    {
     "data": {
      "text/plain": [
       "array([0.        , 0.52359878, 0.78539816, 1.04719755, 1.57079633])"
      ]
     },
     "execution_count": 363,
     "metadata": {},
     "output_type": "execute_result"
    },
    {
     "data": {
      "text/plain": [
       "array([ 0., 30., 45., 60., 90.])"
      ]
     },
     "execution_count": 363,
     "metadata": {},
     "output_type": "execute_result"
    }
   ],
   "source": [
    "# tan 函数\n",
    "tan = np.tan(a*np.pi/180)  \n",
    "tan\n",
    "# 反正切\n",
    "inv = np.arctan(tan)  \n",
    "inv\n",
    "# 角度制单位\n",
    "np.degrees(inv)"
   ]
  },
  {
   "cell_type": "markdown",
   "metadata": {},
   "source": [
    "numpy.around() 函数返回指定数字的**四舍五入**值\n",
    "\n",
    "``` python\n",
    "numpy.around(a,decimals)\n",
    "```\n",
    "\n",
    "**参数说明**\n",
    "\n",
    "* **a**: 数组\n",
    "* **decimals**: 舍入的小数位数。 默认值为0。 如果为负，整数将四舍五入到小数点左侧的位置"
   ]
  },
  {
   "cell_type": "code",
   "execution_count": 364,
   "metadata": {},
   "outputs": [
    {
     "data": {
      "text/plain": [
       "array([  1.,   6., 123.,   1.,  26.])"
      ]
     },
     "execution_count": 364,
     "metadata": {},
     "output_type": "execute_result"
    },
    {
     "data": {
      "text/plain": [
       "array([  1. ,   5.6, 123. ,   0.6,  25.5])"
      ]
     },
     "execution_count": 364,
     "metadata": {},
     "output_type": "execute_result"
    },
    {
     "data": {
      "text/plain": [
       "array([  0.,  10., 120.,   0.,  30.])"
      ]
     },
     "execution_count": 364,
     "metadata": {},
     "output_type": "execute_result"
    }
   ],
   "source": [
    "a = np.array([1.0, 5.55, 123, 0.567, 25.532])  \n",
    "np.around(a)\n",
    "np.around(a, decimals= 1)\n",
    "np.around(a, decimals= -1)"
   ]
  },
  {
   "cell_type": "markdown",
   "metadata": {},
   "source": [
    "numpy.floor() 返回数字的**下舍整数**"
   ]
  },
  {
   "cell_type": "code",
   "execution_count": 365,
   "metadata": {},
   "outputs": [
    {
     "data": {
      "text/plain": [
       "array([-2.,  1., -1.,  0., 10.])"
      ]
     },
     "execution_count": 365,
     "metadata": {},
     "output_type": "execute_result"
    }
   ],
   "source": [
    "a = np.array([-1.7,  1.5,  -0.2,  0.6,  10])\n",
    "np.floor(a)"
   ]
  },
  {
   "cell_type": "markdown",
   "metadata": {},
   "source": [
    "numpy.ceil() 返回数字的**上入整数**"
   ]
  },
  {
   "cell_type": "code",
   "execution_count": 366,
   "metadata": {},
   "outputs": [
    {
     "data": {
      "text/plain": [
       "array([-1.,  2., -0.,  1., 10.])"
      ]
     },
     "execution_count": 366,
     "metadata": {},
     "output_type": "execute_result"
    }
   ],
   "source": [
    "a = np.array([-1.7,  1.5,  -0.2,  0.6,  10])  \n",
    "np.ceil(a)"
   ]
  },
  {
   "cell_type": "code",
   "execution_count": null,
   "metadata": {},
   "outputs": [],
   "source": []
  },
  {
   "cell_type": "code",
   "execution_count": null,
   "metadata": {},
   "outputs": [],
   "source": []
  },
  {
   "cell_type": "markdown",
   "metadata": {},
   "source": [
    "---\n",
    "# 5.统计函数"
   ]
  },
  {
   "cell_type": "markdown",
   "metadata": {},
   "source": [
    "### 常见统计函数"
   ]
  },
  {
   "cell_type": "markdown",
   "metadata": {},
   "source": [
    "numpy.amin() 用于计算数组中的元素沿指定轴的最小值。\n",
    "\n",
    "numpy.amax() 用于计算数组中的元素沿指定轴的最大值。"
   ]
  },
  {
   "cell_type": "code",
   "execution_count": 367,
   "metadata": {},
   "outputs": [
    {
     "data": {
      "text/plain": [
       "array([[3, 7, 5],\n",
       "       [8, 4, 3],\n",
       "       [2, 4, 9]])"
      ]
     },
     "execution_count": 367,
     "metadata": {},
     "output_type": "execute_result"
    },
    {
     "data": {
      "text/plain": [
       "9"
      ]
     },
     "execution_count": 367,
     "metadata": {},
     "output_type": "execute_result"
    },
    {
     "data": {
      "text/plain": [
       "array([8, 7, 9])"
      ]
     },
     "execution_count": 367,
     "metadata": {},
     "output_type": "execute_result"
    },
    {
     "data": {
      "text/plain": [
       "array([7, 8, 9])"
      ]
     },
     "execution_count": 367,
     "metadata": {},
     "output_type": "execute_result"
    }
   ],
   "source": [
    "a = np.array([[3,7,5],[8,4,3],[2,4,9]])  \n",
    "a\n",
    "np.amax(a)\n",
    "np.amax(a, axis= 0)\n",
    "np.amax(a, axis= 1)"
   ]
  },
  {
   "cell_type": "markdown",
   "metadata": {},
   "source": [
    "numpy.ptp()函数计算数组中元素最大值与最小值的差（最大值 - 最小值）"
   ]
  },
  {
   "cell_type": "code",
   "execution_count": 368,
   "metadata": {},
   "outputs": [
    {
     "data": {
      "text/plain": [
       "7"
      ]
     },
     "execution_count": 368,
     "metadata": {},
     "output_type": "execute_result"
    },
    {
     "data": {
      "text/plain": [
       "array([4, 5, 7])"
      ]
     },
     "execution_count": 368,
     "metadata": {},
     "output_type": "execute_result"
    },
    {
     "data": {
      "text/plain": [
       "array([6, 3, 6])"
      ]
     },
     "execution_count": 368,
     "metadata": {},
     "output_type": "execute_result"
    }
   ],
   "source": [
    "a = np.array([[3,7,5],[8,4,3],[2,4,9]])  \n",
    "np.ptp(a)\n",
    "# 沿轴 1 调用 ptp() 函数\n",
    "np.ptp(a, axis =  1)\n",
    "\n",
    "# 沿轴 0 调用 ptp() 函数\n",
    "np.ptp(a, axis =  0)"
   ]
  },
  {
   "cell_type": "markdown",
   "metadata": {},
   "source": [
    "numpy.median() 函数用于计算数组 a 中元素的中位数（中值）\n",
    "\n",
    "numpy.mean() 函数返回数组中元素的算术平均值。 \n",
    "* ``` python np.mean(a, axis=None, dtype=None, out=None, keepdims=<class 'numpy._globals._NoValue'>)```\n",
    "* 如果提供了轴，则沿其计算。算术平均值是沿轴的元素的总和除以元素的数量。\n",
    "\n",
    "numpy.average() 函数根据在另一个数组中给出的各自的权重计算数组中元素的加权平均值。\n",
    "* ``` python np.average(a, axis=None, weights=None, returned=False)```\n",
    "* 该函数可以接受一个轴参数。 如果没有指定轴，则数组会被展开。\n",
    "* 加权平均值即将各数值乘以相应的权数，然后加总求和得到总体值，再除以总的单位数。\n",
    "* 考虑数组[1,2,3,4]和相应的权重[4,3,2,1]，通过将相应元素的乘积相加，并将和除以权重的和，来计算加权平均值。\n",
    "* 加权平均值 = (1*4+2*3+3*2+4*1)/(4+3+2+1)"
   ]
  },
  {
   "cell_type": "code",
   "execution_count": 369,
   "metadata": {},
   "outputs": [
    {
     "data": {
      "text/plain": [
       "65.0"
      ]
     },
     "execution_count": 369,
     "metadata": {},
     "output_type": "execute_result"
    },
    {
     "data": {
      "text/plain": [
       "array([50., 90., 60.])"
      ]
     },
     "execution_count": 369,
     "metadata": {},
     "output_type": "execute_result"
    },
    {
     "data": {
      "text/plain": [
       "3.6666666666666665"
      ]
     },
     "execution_count": 369,
     "metadata": {},
     "output_type": "execute_result"
    },
    {
     "data": {
      "text/plain": [
       "array([2.66666667, 3.66666667, 4.66666667])"
      ]
     },
     "execution_count": 369,
     "metadata": {},
     "output_type": "execute_result"
    },
    {
     "data": {
      "text/plain": [
       "2.5"
      ]
     },
     "execution_count": 369,
     "metadata": {},
     "output_type": "execute_result"
    },
    {
     "data": {
      "text/plain": [
       "2.0"
      ]
     },
     "execution_count": 369,
     "metadata": {},
     "output_type": "execute_result"
    },
    {
     "data": {
      "text/plain": [
       "(2.0, 10.0)"
      ]
     },
     "execution_count": 369,
     "metadata": {},
     "output_type": "execute_result"
    }
   ],
   "source": [
    "# numpy.median() 函数\n",
    "a = np.array([[30,65,70],[80,95,10],[50,90,60]])  \n",
    "np.median(a)\n",
    "np.median(a, axis= 0)\n",
    "\n",
    "# numpy.mean() 函数\n",
    "a = np.array([[1,2,3],[3,4,5],[4,5,6]])  \n",
    "np.mean(a)\n",
    "np.mean(a, axis= 0)\n",
    "\n",
    "# numpy.average() 函数\n",
    "a = np.array([1,2,3,4]) \n",
    "np.average(a) # 不指定权重时相当于 mean 函数\n",
    "wts = np.array([4,3,2,1])  \n",
    "np.average(a, weights=wts)\n",
    "# 如果 returned 参数设为 true，则返回权重的和  \n",
    "np.average([1,2,3,  4], weights=[4,3,2,1], returned=True)"
   ]
  },
  {
   "cell_type": "markdown",
   "metadata": {},
   "source": [
    "标准差是一组数据平均值分散程度的一种度量\n",
    "* 标准差公式如下：std = sqrt(mean((x - x.mean())**2))\n",
    "\n",
    "方差是每个样本值与全体样本值的平均数之差的平方值的平均数，即 mean((x - x.mean())** 2)。"
   ]
  },
  {
   "cell_type": "code",
   "execution_count": 370,
   "metadata": {},
   "outputs": [
    {
     "data": {
      "text/plain": [
       "1.118033988749895"
      ]
     },
     "execution_count": 370,
     "metadata": {},
     "output_type": "execute_result"
    },
    {
     "data": {
      "text/plain": [
       "1.25"
      ]
     },
     "execution_count": 370,
     "metadata": {},
     "output_type": "execute_result"
    }
   ],
   "source": [
    "np.std([1,2,3,4])\n",
    "np.var([1,2,3,4])"
   ]
  },
  {
   "cell_type": "markdown",
   "metadata": {},
   "source": [
    "百分位数是统计中使用的度量，表示小于这个值的观察值的百分比。 \n",
    "``` python\n",
    "numpy.percentile(a, q, axis)\n",
    "```\n",
    "\n",
    "**参数说明**\n",
    "\n",
    "* **a**: 输入数组\n",
    "* **q**: 要计算的百分位数，在 0 ~ 100 之间\n",
    "* **axis**: 沿着它计算百分位数的轴"
   ]
  },
  {
   "cell_type": "code",
   "execution_count": 371,
   "metadata": {},
   "outputs": [
    {
     "data": {
      "text/plain": [
       "3.5"
      ]
     },
     "execution_count": 371,
     "metadata": {},
     "output_type": "execute_result"
    },
    {
     "data": {
      "text/plain": [
       "array([6.5, 4.5, 2.5])"
      ]
     },
     "execution_count": 371,
     "metadata": {},
     "output_type": "execute_result"
    },
    {
     "data": {
      "text/plain": [
       "array([7., 2.])"
      ]
     },
     "execution_count": 371,
     "metadata": {},
     "output_type": "execute_result"
    },
    {
     "data": {
      "text/plain": [
       "array([[7.],\n",
       "       [2.]])"
      ]
     },
     "execution_count": 371,
     "metadata": {},
     "output_type": "execute_result"
    }
   ],
   "source": [
    "a = np.array([[10, 7, 4], [3, 2, 1]])\n",
    "\n",
    "# 50% 的分位数，就是 a 里排序之后的中位数\n",
    "np.percentile(a, 50)\n",
    " \n",
    "# axis 为 0，在纵列上求\n",
    "np.percentile(a, 50, axis=0)\n",
    " \n",
    "# axis 为 1，在横行上求\n",
    "np.percentile(a, 50, axis=1)\n",
    " \n",
    "# 保持维度不变\n",
    "np.percentile(a, 50, axis=1, keepdims=True)"
   ]
  },
  {
   "cell_type": "markdown",
   "metadata": {},
   "source": [
    "np.sum()函数\n",
    "``` python\n",
    "np.sum(a, axis=None, dtype=None, out=None, keepdims=<class 'numpy._globals._NoValue'>)\n",
    "Docstring:\n",
    "Sum of array elements over a given axis.\n",
    "```"
   ]
  },
  {
   "cell_type": "code",
   "execution_count": 372,
   "metadata": {},
   "outputs": [
    {
     "data": {
      "text/plain": [
       "10"
      ]
     },
     "execution_count": 372,
     "metadata": {},
     "output_type": "execute_result"
    },
    {
     "data": {
      "text/plain": [
       "array([4, 6])"
      ]
     },
     "execution_count": 372,
     "metadata": {},
     "output_type": "execute_result"
    },
    {
     "data": {
      "text/plain": [
       "array([3, 7])"
      ]
     },
     "execution_count": 372,
     "metadata": {},
     "output_type": "execute_result"
    }
   ],
   "source": [
    "a = np.array([[1,2],\n",
    "              [3,4]])\n",
    "np.sum(a)\n",
    "np.sum(a, axis=0)\n",
    "np.sum(a, axis=1)"
   ]
  },
  {
   "cell_type": "markdown",
   "metadata": {},
   "source": [
    "### np.random.uniform()函数\n",
    "``` python\n",
    "np.random.uniform(low=0.0, high=1.0, size=None)\n",
    "\n",
    "Draw samples from a uniform distribution.\n",
    "```"
   ]
  },
  {
   "cell_type": "code",
   "execution_count": 373,
   "metadata": {},
   "outputs": [
    {
     "data": {
      "text/plain": [
       "3.183025852048236"
      ]
     },
     "execution_count": 373,
     "metadata": {},
     "output_type": "execute_result"
    },
    {
     "data": {
      "text/plain": [
       "46.31401809846465"
      ]
     },
     "execution_count": 373,
     "metadata": {},
     "output_type": "execute_result"
    }
   ],
   "source": [
    "np.random.uniform(3,4)\n",
    "np.random.uniform(1,100)"
   ]
  },
  {
   "cell_type": "markdown",
   "metadata": {},
   "source": [
    "### np.tile()函数\n",
    "``` python\n",
    "np.tile(A, reps)\n",
    "Docstring:\n",
    "Construct an array by repeating A the number of times given by reps.\n",
    "```"
   ]
  },
  {
   "cell_type": "code",
   "execution_count": 374,
   "metadata": {},
   "outputs": [
    {
     "data": {
      "text/plain": [
       "array([[1, 2, 1, 2],\n",
       "       [3, 4, 3, 4]])"
      ]
     },
     "execution_count": 374,
     "metadata": {},
     "output_type": "execute_result"
    },
    {
     "data": {
      "text/plain": [
       "array([[1, 2, 1, 2, 1, 2],\n",
       "       [3, 4, 3, 4, 3, 4],\n",
       "       [1, 2, 1, 2, 1, 2],\n",
       "       [3, 4, 3, 4, 3, 4]])"
      ]
     },
     "execution_count": 374,
     "metadata": {},
     "output_type": "execute_result"
    }
   ],
   "source": [
    "a = np.array([[1,2],\n",
    "              [3,4]])\n",
    "np.tile(a,(1,2))\n",
    "np.tile(a,(2,3))"
   ]
  },
  {
   "cell_type": "code",
   "execution_count": 375,
   "metadata": {},
   "outputs": [
    {
     "data": {
      "text/plain": [
       "array([0, 1, 2])"
      ]
     },
     "execution_count": 375,
     "metadata": {},
     "output_type": "execute_result"
    },
    {
     "data": {
      "text/plain": [
       "array([0, 1, 2, 0, 1, 2])"
      ]
     },
     "execution_count": 375,
     "metadata": {},
     "output_type": "execute_result"
    },
    {
     "data": {
      "text/plain": [
       "array([[0, 1, 2, 0, 1, 2],\n",
       "       [0, 1, 2, 0, 1, 2]])"
      ]
     },
     "execution_count": 375,
     "metadata": {},
     "output_type": "execute_result"
    },
    {
     "data": {
      "text/plain": [
       "array([[[0, 1, 2, 0, 1, 2]],\n",
       "\n",
       "       [[0, 1, 2, 0, 1, 2]]])"
      ]
     },
     "execution_count": 375,
     "metadata": {},
     "output_type": "execute_result"
    }
   ],
   "source": [
    "a = np.array([0, 1, 2])\n",
    "a\n",
    "np.tile(a, 2)\n",
    "np.tile(a, (2, 2))\n",
    "np.tile(a, (2, 1, 2))"
   ]
  },
  {
   "cell_type": "markdown",
   "metadata": {},
   "source": [
    "### 排序和条件刷选函数"
   ]
  },
  {
   "cell_type": "markdown",
   "metadata": {},
   "source": [
    "|  种类\t|   速度\t|   最坏情况\t|    工作空间   |\t稳定性   |\n",
    "|   --   |    --  |        --  |       --    |       --  |\n",
    "| 'quicksort'（快速排序）|\t1\t|O(n^2)\t|0\t|否|\n",
    "|'mergesort' （归并排序）|2|\tO(n*log(n))\t|~n/2\t|是|\n",
    "|'heapsort'（堆排序）|  3\t|O(n*log(n))|\t0\t|否|"
   ]
  },
  {
   "cell_type": "markdown",
   "metadata": {},
   "source": [
    "numpy.sort() 函数返回输入数组的排序副本。函数格式如下：\n",
    "``` python\n",
    "numpy.sort(a, axis, kind, order)\n",
    "```\n",
    "\n",
    "**参数说明**\n",
    "\n",
    "* **a**: 要排序的数组\n",
    "* **axis**: 沿着它排序数组的轴，如果没有数组会被展开，沿着最后的轴排序， axis=0 按列排序，axis=1 按行排序\n",
    "* **kind**: 默认为'quicksort'（快速排序）\n",
    "* **order**: 如果数组包含字段，则是要排序的字段"
   ]
  },
  {
   "cell_type": "code",
   "execution_count": 376,
   "metadata": {},
   "outputs": [
    {
     "data": {
      "text/plain": [
       "array([[3, 7],\n",
       "       [1, 9]])"
      ]
     },
     "execution_count": 376,
     "metadata": {},
     "output_type": "execute_result"
    },
    {
     "data": {
      "text/plain": [
       "array([[3, 1],\n",
       "       [9, 7]])"
      ]
     },
     "execution_count": 376,
     "metadata": {},
     "output_type": "execute_result"
    },
    {
     "data": {
      "text/plain": [
       "array([(b'raju', 21), (b'anil', 25), (b'ravi', 17), (b'amar', 27)],\n",
       "      dtype=[('name', 'S10'), ('age', '<i4')])"
      ]
     },
     "execution_count": 376,
     "metadata": {},
     "output_type": "execute_result"
    },
    {
     "data": {
      "text/plain": [
       "array([(b'amar', 27), (b'anil', 25), (b'raju', 21), (b'ravi', 17)],\n",
       "      dtype=[('name', 'S10'), ('age', '<i4')])"
      ]
     },
     "execution_count": 376,
     "metadata": {},
     "output_type": "execute_result"
    }
   ],
   "source": [
    "a = np.array([[3,7],[9,1]])  \n",
    "np.sort(a)\n",
    "\n",
    "# 按列排序\n",
    "np.sort(a, axis =  0)\n",
    "\n",
    "# 在 sort 函数中排序字段 \n",
    "dt = np.dtype([('name',  'S10'),('age',  int)]) \n",
    "a = np.array([(\"raju\",21),(\"anil\",25),(\"ravi\",  17),  (\"amar\",27)], dtype = dt)  \n",
    "a\n",
    "# 按 name 排序\n",
    "np.sort(a, order='name')"
   ]
  },
  {
   "cell_type": "markdown",
   "metadata": {},
   "source": [
    "numpy.argsort() 函数返回的是数组值从小到大的**索引值**\n",
    "``` python\n",
    "argsort(axis=-1, kind='quicksort', order=None)\n",
    "Returns the indices that would sort this array.\n",
    "```"
   ]
  },
  {
   "cell_type": "code",
   "execution_count": 377,
   "metadata": {},
   "outputs": [
    {
     "data": {
      "text/plain": [
       "array([[0, 2, 1, 3],\n",
       "       [2, 3, 0, 1]], dtype=int64)"
      ]
     },
     "execution_count": 377,
     "metadata": {},
     "output_type": "execute_result"
    },
    {
     "data": {
      "text/plain": [
       "array([[0, 0, 1, 1],\n",
       "       [1, 1, 0, 0]], dtype=int64)"
      ]
     },
     "execution_count": 377,
     "metadata": {},
     "output_type": "execute_result"
    }
   ],
   "source": [
    "a = np.array([[3, 6, 4, 11],\n",
    "             [5, 10, 1, 3]])\n",
    "a.argsort()\n",
    "b = a.argsort(axis=0)\n",
    "b\n",
    "# 使用循环重构原数组\n",
    "# ??"
   ]
  },
  {
   "cell_type": "markdown",
   "metadata": {},
   "source": [
    "numpy.lexsort() \n",
    "\n",
    "用于对多个序列进行排序。把它想象成对电子表格进行排序，每一列代表一个序列，排序时优先照顾靠后的列。\n",
    "\n",
    "这里举一个应用场景：小升初考试，重点班录取学生按照总成绩录取。在总成绩相同时，数学成绩高的优先录取，在总成绩和数学成绩都相同时，按照英语成绩录取…… 这里，总成绩排在电子表格的最后一列，数学成绩在倒数第二列，英语成绩在倒数第三列。\n",
    "``` python\n",
    "lexsort(keys, axis=-1)\n",
    "```\n"
   ]
  },
  {
   "cell_type": "code",
   "execution_count": 378,
   "metadata": {},
   "outputs": [
    {
     "data": {
      "text/plain": [
       "array([1, 2, 0], dtype=int64)"
      ]
     },
     "execution_count": 378,
     "metadata": {},
     "output_type": "execute_result"
    },
    {
     "data": {
      "text/plain": [
       "['Galilei, Galileo', 'Hertz, Gustav', 'Hertz, Heinrich']"
      ]
     },
     "execution_count": 378,
     "metadata": {},
     "output_type": "execute_result"
    },
    {
     "data": {
      "text/plain": [
       "[(1, 0), (1, 9), (3, 0), (4, 1), (4, 2), (4, 4), (5, 4)]"
      ]
     },
     "execution_count": 378,
     "metadata": {},
     "output_type": "execute_result"
    }
   ],
   "source": [
    "surnames =    ('Hertz',    'Galilei', 'Hertz')\n",
    "first_names = ('Heinrich', 'Galileo', 'Gustav')\n",
    "ind = np.lexsort((first_names, surnames)) # 排序时首先排 surnames\n",
    "ind\n",
    "# 使用这个索引来获取排序后的数据\n",
    "[surnames[i]  +  \", \" + first_names[i]  for i in ind]\n",
    "\n",
    "a = [1,5,1,4,3,4,4] # First column\n",
    "b = [9,4,0,4,0,2,1] # Second column\n",
    "ind = np.lexsort((b,a)) # Sort by a, then by b\n",
    "[(a[i],b[i]) for i in ind]"
   ]
  },
  {
   "cell_type": "code",
   "execution_count": null,
   "metadata": {},
   "outputs": [],
   "source": []
  },
  {
   "cell_type": "markdown",
   "metadata": {},
   "source": [
    "msort、sort_complex、partition、argpartition函数\n",
    "\n",
    "|     函数\t  |       描述    |\n",
    "|--|--|\n",
    "|    msort(a)\t |按第一个轴排序，返回排序后的数组副本。np.msort(a)=np.sort(a, axis=0)。|\n",
    "|sort_complex(a)\t| 对复数按照先实部后虚部的顺序进行排序。|\n",
    "|partition(a, kth[, axis, kind, order])\t|指定一个数，对数组进行分区|\n",
    "|argpartition(a, kth[, axis, kind, order])|\t可以通过关键字 kind 指定算法沿着指定轴对数组进行分区|"
   ]
  },
  {
   "cell_type": "code",
   "execution_count": 379,
   "metadata": {},
   "outputs": [
    {
     "data": {
      "text/plain": [
       "array([1.+2.j, 2.-1.j, 3.-3.j, 3.-2.j, 3.+5.j])"
      ]
     },
     "execution_count": 379,
     "metadata": {},
     "output_type": "execute_result"
    },
    {
     "data": {
      "text/plain": [
       "array([2, 1, 3, 4])"
      ]
     },
     "execution_count": 379,
     "metadata": {},
     "output_type": "execute_result"
    },
    {
     "data": {
      "text/plain": [
       "array([1, 2, 3, 4])"
      ]
     },
     "execution_count": 379,
     "metadata": {},
     "output_type": "execute_result"
    },
    {
     "data": {
      "text/plain": [
       "10"
      ]
     },
     "execution_count": 379,
     "metadata": {},
     "output_type": "execute_result"
    },
    {
     "data": {
      "text/plain": [
       "57"
      ]
     },
     "execution_count": 379,
     "metadata": {},
     "output_type": "execute_result"
    },
    {
     "data": {
      "text/plain": [
       "10"
      ]
     },
     "execution_count": 379,
     "metadata": {},
     "output_type": "execute_result"
    },
    {
     "data": {
      "text/plain": [
       "23"
      ]
     },
     "execution_count": 379,
     "metadata": {},
     "output_type": "execute_result"
    }
   ],
   "source": [
    "# 复数排序\n",
    "np.sort_complex([1 + 2j, 2 - 1j, 3 - 2j, 3 - 3j, 3 + 5j])\n",
    "\n",
    "# partition() 分区排序\n",
    "a = np.array([3, 4, 2, 1])\n",
    "# 将数组 a 中所有元素（包括重复元素）从小到大排列，比第3小的放在前面，大的放在后面\n",
    "np.partition(a, 3)\n",
    "# 小于 1 的在前面，大于 3 的在后面，1和3之间的在中间\n",
    "np.partition(a, (1, 3))\n",
    "\n",
    "# argpartition排序\n",
    "arr = np.array([46, 57, 23, 39, 1, 10, 0, 120])\n",
    "# 找到数组的第 3 小（index=2）的值和第 2 大（index=-2）的值\n",
    "arr[np.argpartition(arr, 2)[2]]\n",
    "arr[np.argpartition(arr, -2)[-2]]\n",
    "# 找到第3和第4小的值。用[2,3]同时将第3和第4小的排好，分别通过下标[2]和[3]取得\n",
    "arr[np.argpartition(arr, [2,3])[2]]\n",
    "arr[np.argpartition(arr, [2,3])[3]]"
   ]
  },
  {
   "cell_type": "markdown",
   "metadata": {},
   "source": [
    "numpy.argmax() 和 numpy.argmin()函数分别沿给定轴返回最大和最小元素的索引"
   ]
  },
  {
   "cell_type": "code",
   "execution_count": 380,
   "metadata": {},
   "outputs": [
    {
     "data": {
      "text/plain": [
       "array([[30, 40, 70],\n",
       "       [80, 20, 10],\n",
       "       [50, 90, 60]])"
      ]
     },
     "execution_count": 380,
     "metadata": {},
     "output_type": "execute_result"
    },
    {
     "data": {
      "text/plain": [
       "7"
      ]
     },
     "execution_count": 380,
     "metadata": {},
     "output_type": "execute_result"
    },
    {
     "name": "stdout",
     "output_type": "stream",
     "text": [
      "展开数组：\n"
     ]
    },
    {
     "data": {
      "text/plain": [
       "array([30, 40, 70, 80, 20, 10, 50, 90, 60])"
      ]
     },
     "execution_count": 380,
     "metadata": {},
     "output_type": "execute_result"
    },
    {
     "data": {
      "text/plain": [
       "array([1, 2, 0], dtype=int64)"
      ]
     },
     "execution_count": 380,
     "metadata": {},
     "output_type": "execute_result"
    },
    {
     "data": {
      "text/plain": [
       "array([2, 0, 1], dtype=int64)"
      ]
     },
     "execution_count": 380,
     "metadata": {},
     "output_type": "execute_result"
    }
   ],
   "source": [
    "a = np.array([[30,40,70],[80,20,10],[50,90,60]])  \n",
    "a \n",
    "np.argmax(a)\n",
    "print ('展开数组：') \n",
    "a.flatten()\n",
    "\n",
    "# 沿轴 0 的最大值索引\n",
    "np.argmax(a, axis =  0)  \n",
    "\n",
    "# 沿轴 1 的最大值索引\n",
    "np.argmax(a, axis =  1)  "
   ]
  },
  {
   "cell_type": "markdown",
   "metadata": {},
   "source": [
    "numpy.nonzero() 函数返回输入数组中非零元素的索引\n",
    "\n",
    "numpy.where() 函数返回输入数组中满足给定条件的元素的索引\n",
    "\n",
    "numpy.extract() 函数根据某个条件从数组中抽取元素，返回满条件的元素"
   ]
  },
  {
   "cell_type": "code",
   "execution_count": 381,
   "metadata": {},
   "outputs": [
    {
     "data": {
      "text/plain": [
       "array([[30, 40,  0],\n",
       "       [ 0, 20, 10],\n",
       "       [50,  0, 60]])"
      ]
     },
     "execution_count": 381,
     "metadata": {},
     "output_type": "execute_result"
    },
    {
     "data": {
      "text/plain": [
       "(array([0, 0, 1, 1, 2, 2], dtype=int64),\n",
       " array([0, 1, 1, 2, 0, 2], dtype=int64))"
      ]
     },
     "execution_count": 381,
     "metadata": {},
     "output_type": "execute_result"
    },
    {
     "name": "stdout",
     "output_type": "stream",
     "text": [
      "\n",
      "\n"
     ]
    },
    {
     "data": {
      "text/plain": [
       "array([[0., 1., 2.],\n",
       "       [3., 4., 5.],\n",
       "       [6., 7., 8.]])"
      ]
     },
     "execution_count": 381,
     "metadata": {},
     "output_type": "execute_result"
    },
    {
     "data": {
      "text/plain": [
       "(array([1, 1, 2, 2, 2], dtype=int64), array([1, 2, 0, 1, 2], dtype=int64))"
      ]
     },
     "execution_count": 381,
     "metadata": {},
     "output_type": "execute_result"
    },
    {
     "data": {
      "text/plain": [
       "array([4., 5., 6., 7., 8.])"
      ]
     },
     "execution_count": 381,
     "metadata": {},
     "output_type": "execute_result"
    },
    {
     "name": "stdout",
     "output_type": "stream",
     "text": [
      "\n",
      "\n"
     ]
    },
    {
     "data": {
      "text/plain": [
       "array([[0., 1., 2.],\n",
       "       [3., 4., 5.],\n",
       "       [6., 7., 8.]])"
      ]
     },
     "execution_count": 381,
     "metadata": {},
     "output_type": "execute_result"
    },
    {
     "data": {
      "text/plain": [
       "array([[ True, False,  True],\n",
       "       [False,  True, False],\n",
       "       [ True, False,  True]])"
      ]
     },
     "execution_count": 381,
     "metadata": {},
     "output_type": "execute_result"
    },
    {
     "data": {
      "text/plain": [
       "array([0., 2., 4., 6., 8.])"
      ]
     },
     "execution_count": 381,
     "metadata": {},
     "output_type": "execute_result"
    }
   ],
   "source": [
    "# numpy.nonzero() 函数\n",
    "a = np.array([[30,40,0],[0,20,10],[50,0,60]])  \n",
    "a\n",
    "np.nonzero (a)\n",
    "print('\\n')\n",
    "\n",
    "# numpy.where() 函数\n",
    "x = np.arange(9.).reshape(3,  3)  \n",
    "x\n",
    "# 大于 3 的元素的索引\n",
    "y = np.where(x >  3)  \n",
    "y\n",
    "# 使用这些索引来获取满足条件的元素\n",
    "x[y]\n",
    "print('\\n')\n",
    "\n",
    "# numpy.extract() 函数\n",
    "x = np.arange(9.).reshape(3,  3)  \n",
    "x\n",
    "# 定义条件, 选择偶数元素\n",
    "condition = np.mod(x,2)  ==  0  \n",
    "# 按元素的条件值\n",
    "condition\n",
    "# 使用条件提取元素\n",
    "np.extract(condition, x)"
   ]
  },
  {
   "cell_type": "code",
   "execution_count": null,
   "metadata": {},
   "outputs": [],
   "source": []
  },
  {
   "cell_type": "code",
   "execution_count": null,
   "metadata": {},
   "outputs": [],
   "source": []
  },
  {
   "cell_type": "code",
   "execution_count": null,
   "metadata": {},
   "outputs": [],
   "source": []
  },
  {
   "cell_type": "code",
   "execution_count": null,
   "metadata": {},
   "outputs": [],
   "source": []
  },
  {
   "cell_type": "markdown",
   "metadata": {},
   "source": [
    "---\n",
    "# 6.矩阵计算相关"
   ]
  },
  {
   "cell_type": "markdown",
   "metadata": {},
   "source": [
    "矩阵转置\n",
    "``` python\n",
    "numpy.transpose(arr, axes)\n",
    "```\n",
    "\n",
    "**参数说明**\n",
    "\n",
    "* **arr**：要操作的数组\n",
    "\n",
    "* **axes**：整数列表，对应维度，通常所有维度都会对换。"
   ]
  },
  {
   "cell_type": "code",
   "execution_count": 382,
   "metadata": {},
   "outputs": [
    {
     "data": {
      "text/plain": [
       "array([[ 3,  5],\n",
       "       [ 6, 10],\n",
       "       [ 4,  1],\n",
       "       [11,  3]])"
      ]
     },
     "execution_count": 382,
     "metadata": {},
     "output_type": "execute_result"
    }
   ],
   "source": [
    "a = np.array([[3,6,4,11],\n",
    "             [5,10,1,3]])\n",
    "# 矩阵转置\n",
    "a.T # np.transpose(a)"
   ]
  },
  {
   "cell_type": "code",
   "execution_count": 383,
   "metadata": {},
   "outputs": [
    {
     "data": {
      "text/plain": [
       "array([[-2. ,  1. ],\n",
       "       [ 1.5, -0.5]])"
      ]
     },
     "execution_count": 383,
     "metadata": {},
     "output_type": "execute_result"
    },
    {
     "data": {
      "text/plain": [
       "-2.0000000000000004"
      ]
     },
     "execution_count": 383,
     "metadata": {},
     "output_type": "execute_result"
    }
   ],
   "source": [
    "# 逆矩阵\n",
    "from numpy.linalg import *\n",
    "a = np.array([[1,2],\n",
    "             [3,4]])\n",
    "inv(a)\n",
    "\n",
    "# 矩阵行列式\n",
    "det(a)"
   ]
  },
  {
   "cell_type": "code",
   "execution_count": 384,
   "metadata": {},
   "outputs": [
    {
     "data": {
      "text/plain": [
       "(array([-0.37228132,  5.37228132]), array([[-0.82456484, -0.41597356],\n",
       "        [ 0.56576746, -0.90937671]]))"
      ]
     },
     "execution_count": 384,
     "metadata": {},
     "output_type": "execute_result"
    },
    {
     "data": {
      "text/plain": [
       "array([[-3.],\n",
       "       [ 4.]])"
      ]
     },
     "execution_count": 384,
     "metadata": {},
     "output_type": "execute_result"
    },
    {
     "data": {
      "text/plain": [
       "array([[ 1.       , -0.8660254],\n",
       "       [-0.8660254,  1.       ]])"
      ]
     },
     "execution_count": 384,
     "metadata": {},
     "output_type": "execute_result"
    },
    {
     "data": {
      "text/plain": [
       "array([8.+0.j, 0.+0.j, 0.+0.j, 0.+0.j, 0.+0.j, 0.+0.j, 0.+0.j, 0.+0.j])"
      ]
     },
     "execution_count": 384,
     "metadata": {},
     "output_type": "execute_result"
    },
    {
     "data": {
      "text/plain": [
       "poly1d([2, 1, 3])"
      ]
     },
     "execution_count": 384,
     "metadata": {},
     "output_type": "execute_result"
    }
   ],
   "source": [
    "# 矩阵特征值与特征向量\n",
    "eig(a)\n",
    "\n",
    "# 矩阵方程求解\n",
    "y = np.array([[5], [7]])\n",
    "solve(a,y)\n",
    "\n",
    "# 矩阵相关系数计算\n",
    "np.corrcoef(np.array([1,0,1]), np.array([0,2,1]))\n",
    "\n",
    "# 矩阵离散傅氏变换的快速算法\n",
    "np.fft.fft(np.array([1,1,1,1,1,1,1,1]))\n",
    "\n",
    "# 生成多项式函数\n",
    "np.poly1d(np.array([2,1,3]))"
   ]
  },
  {
   "cell_type": "markdown",
   "metadata": {},
   "source": [
    "---\n",
    "<img src='./res/numpy_ml/npbroadcasting.jpg'>\n",
    "\n",
    "# 7.数组广播\n",
    "\n",
    "**如果满足以下规则，可以进行广播：**\n",
    "* ndim较小的数组会在前面追加一个长度为 1 的维度。\n",
    "* 输出数组的每个维度的大小是输入数组该维度大小的最大值。\n",
    "* 如果输入在每个维度中的大小与输出大小匹配，或其值正好为 1，则在计算中可它。\n",
    "* 如果输入的某个维度大小为 1，则该维度中的第一个数据元素将用于该维度的所有计算。\n",
    "\n",
    "**如果上述规则产生有效结果，并且满足以下条件之一，那么数组被称为可广播的。**\n",
    "* 数组拥有相同形状。\n",
    "* 数组拥有相同的维数，每个维度拥有相同长度，或者长度为 1。\n",
    "* 数组拥有极少的维度，可以在其前面追加长度为 1 的维度，使上述条件成立。"
   ]
  },
  {
   "cell_type": "code",
   "execution_count": 385,
   "metadata": {},
   "outputs": [
    {
     "data": {
      "text/plain": [
       "array([[ 2,  4,  6],\n",
       "       [ 3,  5,  7],\n",
       "       [13, 33, 25],\n",
       "       [ 3,  4,  5]])"
      ]
     },
     "execution_count": 385,
     "metadata": {},
     "output_type": "execute_result"
    },
    {
     "data": {
      "text/plain": [
       "array([[ 3,  6,  9],\n",
       "       [ 4,  7, 10],\n",
       "       [14, 35, 28],\n",
       "       [ 4,  6,  8]])"
      ]
     },
     "execution_count": 385,
     "metadata": {},
     "output_type": "execute_result"
    },
    {
     "data": {
      "text/plain": [
       "array([[ 3,  6,  9],\n",
       "       [ 4,  7, 10],\n",
       "       [14, 35, 28],\n",
       "       [ 4,  6,  8]])"
      ]
     },
     "execution_count": 385,
     "metadata": {},
     "output_type": "execute_result"
    }
   ],
   "source": [
    "a = np.array([[1,2,3],\n",
    "             [2,3,4],\n",
    "             [12,31,22],\n",
    "             [2,2,2]])\n",
    "b = np.array([1,2,3])\n",
    "\n",
    "for ii in range(4):\n",
    "    a[ii, :] += b\n",
    "a\n",
    "\n",
    "a + np.tile(b,(4,1))\n",
    "\n",
    "a + b"
   ]
  },
  {
   "cell_type": "markdown",
   "metadata": {},
   "source": [
    "---\n",
    "---\n",
    "|    函数       |     描述    |\n",
    "|     --       |     --      |\n",
    "|**broadcast**\t   |产生模仿广播的对象|\n",
    "|**broadcast_to**\t|将数组广播到新形状|\n",
    "|**expand_dims**\t|扩展数组的形状|\n",
    "|**squeeze**\t   |从数组的形状中删除一维条目|\n",
    "\n",
    "numpy.broadcast() 用于模仿广播的对象，它返回一个对象，该对象封装了将一个数组广播到另一个数组的结果。该函数使用两个数组作为输入参数"
   ]
  },
  {
   "cell_type": "code",
   "execution_count": 386,
   "metadata": {},
   "outputs": [
    {
     "data": {
      "text/plain": [
       "(3, 3)"
      ]
     },
     "execution_count": 386,
     "metadata": {},
     "output_type": "execute_result"
    },
    {
     "name": "stdout",
     "output_type": "stream",
     "text": [
      "1 4\n",
      "1 5\n",
      "1 6\n",
      "2 4\n",
      "2 5\n",
      "2 6\n",
      "3 4\n",
      "3 5\n",
      "3 6\n"
     ]
    }
   ],
   "source": [
    "x = np.array([[1], [2], [3]])\n",
    "y = np.array([4, 5, 6])  \n",
    " \n",
    "# 对 y 广播 x\n",
    "b = np.broadcast(x,y)\n",
    "b.shape\n",
    "r,c = b.iters\n",
    "print(next(r), next(c))\n",
    "print(next(r), next(c))\n",
    "print(next(r), next(c))\n",
    "print(next(r), next(c))\n",
    "print(next(r), next(c))\n",
    "print(next(r), next(c))\n",
    "print(next(r), next(c))\n",
    "print(next(r), next(c))\n",
    "print(next(r), next(c))\n"
   ]
  },
  {
   "cell_type": "markdown",
   "metadata": {},
   "source": [
    "numpy.broadcast_to() 函数将数组广播到新形状。它在原始数组上返回只读视图。 它通常不连续。 如果新形状不符合 NumPy 的广播规则，该函数可能会抛出ValueError。"
   ]
  },
  {
   "cell_type": "code",
   "execution_count": 387,
   "metadata": {},
   "outputs": [
    {
     "data": {
      "text/plain": [
       "array([[0, 1, 2, 3],\n",
       "       [0, 1, 2, 3],\n",
       "       [0, 1, 2, 3],\n",
       "       [0, 1, 2, 3]])"
      ]
     },
     "execution_count": 387,
     "metadata": {},
     "output_type": "execute_result"
    }
   ],
   "source": [
    "a = np.arange(4).reshape(1,4)\n",
    "b = np.broadcast_to(a,(4,4))\n",
    "b"
   ]
  },
  {
   "cell_type": "markdown",
   "metadata": {},
   "source": [
    "numpy.expand_dims 函数通过在指定位置插入新的轴来扩展数组形状，函数格式如下:\n",
    "``` python\n",
    "numpy.expand_dims(arr, axis)\n",
    "```\n",
    "\n",
    "**参数说明**\n",
    "\n",
    "* **arr**：输入数组\n",
    "* **axis**：新轴插入的位置"
   ]
  },
  {
   "cell_type": "code",
   "execution_count": 388,
   "metadata": {},
   "outputs": [
    {
     "data": {
      "text/plain": [
       "array([[[1, 2],\n",
       "        [3, 4]]])"
      ]
     },
     "execution_count": 388,
     "metadata": {},
     "output_type": "execute_result"
    },
    {
     "data": {
      "text/plain": [
       "(2, 3)"
      ]
     },
     "execution_count": 388,
     "metadata": {},
     "output_type": "execute_result"
    },
    {
     "data": {
      "text/plain": [
       "((2, 2), (1, 2, 2))"
      ]
     },
     "execution_count": 388,
     "metadata": {},
     "output_type": "execute_result"
    },
    {
     "name": "stdout",
     "output_type": "stream",
     "text": [
      "\n",
      "\n"
     ]
    },
    {
     "data": {
      "text/plain": [
       "array([[[1, 2]],\n",
       "\n",
       "       [[3, 4]]])"
      ]
     },
     "execution_count": 388,
     "metadata": {},
     "output_type": "execute_result"
    },
    {
     "data": {
      "text/plain": [
       "(2, 3)"
      ]
     },
     "execution_count": 388,
     "metadata": {},
     "output_type": "execute_result"
    },
    {
     "data": {
      "text/plain": [
       "((2, 2), (2, 1, 2))"
      ]
     },
     "execution_count": 388,
     "metadata": {},
     "output_type": "execute_result"
    }
   ],
   "source": [
    "x = np.array(([1,2],[3,4]))\n",
    "\n",
    "# 在位置 0 插入轴\n",
    "y = np.expand_dims(x, axis = 0)\n",
    "y\n",
    "x.ndim, y.ndim\n",
    "x.shape, y.shape\n",
    "print('\\n')\n",
    "\n",
    "# 在位置 1 插入轴\n",
    "y = np.expand_dims(x, axis = 1)\n",
    "y\n",
    "\n",
    "x.ndim, y.ndim\n",
    "x.shape, y.shape"
   ]
  },
  {
   "cell_type": "markdown",
   "metadata": {},
   "source": [
    "numpy.squeeze 函数从给定数组的形状中删除一维的条目，函数格式如下：\n",
    "``` python\n",
    "numpy.squeeze(arr, axis)\n",
    "```\n",
    "\n",
    "**参数说明**\n",
    "\n",
    "* **arr**：输入数组\n",
    "* **axis**：整数或整数元组，用于选择形状中一维条目的子集"
   ]
  },
  {
   "cell_type": "code",
   "execution_count": 389,
   "metadata": {},
   "outputs": [
    {
     "data": {
      "text/plain": [
       "array([[[0, 1, 2],\n",
       "        [3, 4, 5],\n",
       "        [6, 7, 8]]])"
      ]
     },
     "execution_count": 389,
     "metadata": {},
     "output_type": "execute_result"
    },
    {
     "data": {
      "text/plain": [
       "array([[0, 1, 2],\n",
       "       [3, 4, 5],\n",
       "       [6, 7, 8]])"
      ]
     },
     "execution_count": 389,
     "metadata": {},
     "output_type": "execute_result"
    },
    {
     "data": {
      "text/plain": [
       "((1, 3, 3), (3, 3))"
      ]
     },
     "execution_count": 389,
     "metadata": {},
     "output_type": "execute_result"
    },
    {
     "data": {
      "text/plain": [
       "array([[0, 1, 2],\n",
       "       [3, 4, 5],\n",
       "       [6, 7, 8]])"
      ]
     },
     "execution_count": 389,
     "metadata": {},
     "output_type": "execute_result"
    }
   ],
   "source": [
    "x = np.arange(9).reshape(1,3,3)\n",
    "x\n",
    "y = np.squeeze(x)\n",
    "y\n",
    " \n",
    "x.shape, y.shape\n",
    "\n",
    "y = np.squeeze(x)\n",
    "y"
   ]
  },
  {
   "cell_type": "markdown",
   "metadata": {},
   "source": [
    "---\n",
    "# 8.矩阵拼接与分离"
   ]
  },
  {
   "cell_type": "markdown",
   "metadata": {},
   "source": [
    "### 矩阵拼接\n",
    "\n",
    "|   **函数**   |   **描述**  |\n",
    "|     --     |     --    |\n",
    "|   concatenate\t |  连接沿现有轴的数组序列 |\n",
    "|     stack\t   | 沿着新的轴加入一系列数组 |\n",
    "|     hstack\t| 水平堆叠序列中的数组（列方向）|\n",
    "|     vstack\t| 竖直堆叠序列中的数组（行方向）|"
   ]
  },
  {
   "cell_type": "markdown",
   "metadata": {},
   "source": [
    "**numpy.concatenate** 函数用于沿指定轴连接相同形状的两个或多个数组，格式如下：\n",
    "``` python\n",
    "numpy.concatenate((a1, a2, ...), axis)\n",
    "```\n",
    "\n",
    "**参数说明**\n",
    "\n",
    "* **a1, a2, ...**：相同类型的数组\n",
    "* **axis**：沿着它连接数组的轴，默认为 0\n",
    "\n",
    "**numpy.stack** 函数用于沿新轴连接数组序列\n",
    "``` python\n",
    "numpy.stack(arrays, axis)\n",
    "```\n",
    "\n",
    "**参数说明**\n",
    "\n",
    "* **arrays**: 相同形状的数组序列\n",
    "* **axis**：返回数组中的轴，输入数组沿着它来堆叠\n",
    "\n",
    "**note**\n",
    "* numpy.hstack 是 numpy.stack 函数的变体，它通过水平堆叠来生成数组\n",
    "* numpy.vstack 是 numpy.stack 函数的变体，它通过垂直堆叠来生成数组"
   ]
  },
  {
   "cell_type": "code",
   "execution_count": 390,
   "metadata": {},
   "outputs": [
    {
     "data": {
      "text/plain": [
       "array([1, 2, 3, 4, 5, 6, 7, 8])"
      ]
     },
     "execution_count": 390,
     "metadata": {},
     "output_type": "execute_result"
    },
    {
     "data": {
      "text/plain": [
       "array([1, 2, 3, 4, 5, 6, 7, 8])"
      ]
     },
     "execution_count": 390,
     "metadata": {},
     "output_type": "execute_result"
    },
    {
     "data": {
      "text/plain": [
       "array([[1, 2, 3, 4],\n",
       "       [5, 6, 7, 8]])"
      ]
     },
     "execution_count": 390,
     "metadata": {},
     "output_type": "execute_result"
    }
   ],
   "source": [
    "a = np.array([1,2,3,4])\n",
    "b = np.array([5,6,7,8])\n",
    "\n",
    "np.concatenate((a,b), axis=0)\n",
    "\n",
    "np.hstack((a,b))\n",
    "np.vstack((a,b))"
   ]
  },
  {
   "cell_type": "markdown",
   "metadata": {},
   "source": [
    "---\n",
    "对于axis=1，就是横着切开，对应行横着堆\n",
    "<img src='../res/numpy_ml/npstack_axis1.jpg' width=450>\n",
    "\n",
    "对于axis=2，就是横着切开，对应行竖着堆\n",
    "<img src='../res/numpy_ml/npstack_axis2.jpg' width=450>\n",
    "\n",
    "对于axis=0，就是不切开，两个堆一起"
   ]
  },
  {
   "cell_type": "code",
   "execution_count": 391,
   "metadata": {},
   "outputs": [
    {
     "data": {
      "text/plain": [
       "((3, 3), (3, 3))"
      ]
     },
     "execution_count": 391,
     "metadata": {},
     "output_type": "execute_result"
    },
    {
     "data": {
      "text/plain": [
       "(2, 3, 3)"
      ]
     },
     "execution_count": 391,
     "metadata": {},
     "output_type": "execute_result"
    },
    {
     "data": {
      "text/plain": [
       "(3, 2, 3)"
      ]
     },
     "execution_count": 391,
     "metadata": {},
     "output_type": "execute_result"
    },
    {
     "data": {
      "text/plain": [
       "(3, 3, 2)"
      ]
     },
     "execution_count": 391,
     "metadata": {},
     "output_type": "execute_result"
    },
    {
     "data": {
      "text/plain": [
       "array([[[1, 2, 3],\n",
       "        [1, 2, 3],\n",
       "        [1, 2, 3]],\n",
       "\n",
       "       [[4, 5, 6],\n",
       "        [4, 5, 6],\n",
       "        [4, 5, 6]]])"
      ]
     },
     "execution_count": 391,
     "metadata": {},
     "output_type": "execute_result"
    },
    {
     "data": {
      "text/plain": [
       "array([[[1, 2, 3],\n",
       "        [4, 5, 6]],\n",
       "\n",
       "       [[1, 2, 3],\n",
       "        [4, 5, 6]],\n",
       "\n",
       "       [[1, 2, 3],\n",
       "        [4, 5, 6]]])"
      ]
     },
     "execution_count": 391,
     "metadata": {},
     "output_type": "execute_result"
    },
    {
     "data": {
      "text/plain": [
       "array([[[1, 4],\n",
       "        [2, 5],\n",
       "        [3, 6]],\n",
       "\n",
       "       [[1, 4],\n",
       "        [2, 5],\n",
       "        [3, 6]],\n",
       "\n",
       "       [[1, 4],\n",
       "        [2, 5],\n",
       "        [3, 6]]])"
      ]
     },
     "execution_count": 391,
     "metadata": {},
     "output_type": "execute_result"
    }
   ],
   "source": [
    "# 2指的a和b，2放在什么位置是根据axis来确定的\n",
    "a = np.array([[1, 2, 3], [1, 2, 3], [1, 2, 3]])\n",
    "b = np.array([[4, 5, 6], [4, 5, 6], [4, 5, 6]])\n",
    "a.shape, b.shape\n",
    "np.stack((a, b), axis=0).shape\n",
    "np.stack((a, b), axis=1).shape\n",
    "np.stack((a, b), axis=2).shape\n",
    "\n",
    "# stack结果\n",
    "np.stack((a, b), axis=0)\n",
    "np.stack((a, b), axis=1)\n",
    "np.stack((a, b), axis=2)"
   ]
  },
  {
   "cell_type": "code",
   "execution_count": 392,
   "metadata": {},
   "outputs": [
    {
     "data": {
      "text/plain": [
       "(3, 2, 4)"
      ]
     },
     "execution_count": 392,
     "metadata": {},
     "output_type": "execute_result"
    },
    {
     "name": "stdout",
     "output_type": "stream",
     "text": [
      "列表a如下：\n",
      "[[[  1   2   3   4]\n",
      "  [ 11  21  31  41]]\n",
      "\n",
      " [[  5   6   7   8]\n",
      "  [ 51  61  71  81]]\n",
      "\n",
      " [[  9  10  11  12]\n",
      "  [ 91 101 111 121]]]\n",
      "新维度的下标为0\n",
      "[[[  1   2   3   4]\n",
      "  [ 11  21  31  41]]\n",
      "\n",
      " [[  5   6   7   8]\n",
      "  [ 51  61  71  81]]\n",
      "\n",
      " [[  9  10  11  12]\n",
      "  [ 91 101 111 121]]]\n",
      "新维度的下标为1\n",
      "[[[  1   2   3   4]\n",
      "  [  5   6   7   8]\n",
      "  [  9  10  11  12]]\n",
      "\n",
      " [[ 11  21  31  41]\n",
      "  [ 51  61  71  81]\n",
      "  [ 91 101 111 121]]]\n",
      "新维度的下标为2\n",
      "[[[  1   5   9]\n",
      "  [  2   6  10]\n",
      "  [  3   7  11]\n",
      "  [  4   8  12]]\n",
      "\n",
      " [[ 11  51  91]\n",
      "  [ 21  61 101]\n",
      "  [ 31  71 111]\n",
      "  [ 41  81 121]]]\n"
     ]
    }
   ],
   "source": [
    "a = np.array([[[1,2,3,4],[11,21,31,41]],\n",
    "             [[5,6,7,8],[51,61,71,81]],\n",
    "             [[9,10,11,12],[91,101,111,121]]])\n",
    "\n",
    "a.shape\n",
    "print(\"列表a如下：\")\n",
    "print(a)\n",
    "\n",
    "print(\"新维度的下标为0\")\n",
    "c = np.stack(a, axis=0)\n",
    "print(c)\n",
    "\n",
    "print(\"新维度的下标为1\")\n",
    "c = np.stack(a, axis=1)\n",
    "print(c)\n",
    "\n",
    "print(\"新维度的下标为2\")\n",
    "c = np.stack(a, axis=2)\n",
    "print(c)"
   ]
  },
  {
   "cell_type": "code",
   "execution_count": null,
   "metadata": {},
   "outputs": [],
   "source": []
  },
  {
   "cell_type": "markdown",
   "metadata": {},
   "source": [
    "### 矩阵分割\n",
    "|   **函数**    |   **描述**  |\n",
    "|     --      |     --    |\n",
    "|     split\t   | 将一个数组分割为多个子数组 |\n",
    "|     hsplit\t| 将一个数组水平分割为多个子数组（按列） |\n",
    "|     vsplit\t| 将一个数组垂直分割为多个子数组（按行）|\n",
    "\n",
    "numpy.split 函数沿特定的轴将数组分割为子数组，格式如下：\n",
    "``` python\n",
    "numpy.split(ary, indices_or_sections, axis=0)\n",
    "```\n",
    "\n",
    "**参数说明**\n",
    "* **ary**：被分割的数组\n",
    "* **indices_or_sections**：如果是一个整数，就用该数平均切分，如果是一个数组，为沿轴切分的位置（左开右闭）\n",
    "* **axis**：沿着哪个维度进行切向，默认为0，横向切分。为1时，纵向切分\n",
    "\n",
    "**note**\n",
    "* numpy.hsplit 函数用于水平分割数组，通过指定要返回的相同形状的数组数量来拆分原数组\n",
    "* numpy.vsplit 沿着垂直轴分割，其分割方式与hsplit用法相同"
   ]
  },
  {
   "cell_type": "code",
   "execution_count": 393,
   "metadata": {},
   "outputs": [
    {
     "data": {
      "text/plain": [
       "[array([0, 1, 2]), array([3, 4, 5]), array([6, 7, 8])]"
      ]
     },
     "execution_count": 393,
     "metadata": {},
     "output_type": "execute_result"
    },
    {
     "data": {
      "text/plain": [
       "[array([0, 1, 2, 3]), array([4, 5, 6]), array([7, 8])]"
      ]
     },
     "execution_count": 393,
     "metadata": {},
     "output_type": "execute_result"
    },
    {
     "data": {
      "text/plain": [
       "[array([[9., 9.],\n",
       "        [1., 3.]]), array([[5., 9.],\n",
       "        [0., 2.]]), array([[1., 9.],\n",
       "        [6., 9.]])]"
      ]
     },
     "execution_count": 393,
     "metadata": {},
     "output_type": "execute_result"
    },
    {
     "data": {
      "text/plain": [
       "[array([[0, 1, 2, 3],\n",
       "        [4, 5, 6, 7]]), array([[ 8,  9, 10, 11],\n",
       "        [12, 13, 14, 15]])]"
      ]
     },
     "execution_count": 393,
     "metadata": {},
     "output_type": "execute_result"
    }
   ],
   "source": [
    "# 将数组分为三个大小相等的子数组\n",
    "np.split(np.arange(9), 3, axis=0)\n",
    " \n",
    "# 将数组在一维数组中表明的位置分割\n",
    "np.split(np.arange(9), [4,7])\n",
    "\n",
    "# hsplit\n",
    "np.hsplit(np.floor(10 * np.random.random((2, 6))), 3)\n",
    "\n",
    "# vsplit\n",
    "np.vsplit(np.arange(16).reshape(4,4), 2)"
   ]
  },
  {
   "cell_type": "markdown",
   "metadata": {},
   "source": [
    "### 副本和视图\n",
    "副本是一个数据的完整的拷贝，如果我们对副本进行修改，它不会影响到原始数据，物理内存不在同一位置。\n",
    "\n",
    "视图是数据的一个别称或引用，通过该别称或引用亦便可访问、操作原有数据，但原有数据不会产生拷贝。如果我们对视图进行修改，它会影响到原始数据，物理内存在同一位置。\n",
    "\n",
    "* 视图一般发生在：\n",
    "    1. numpy 的切片操作返回原数据的视图。\n",
    "    2. 调用 ndarray 的 view() 函数产生一个视图。\n",
    "* 副本一般发生在：\n",
    "    1. Python 序列的切片操作，调用deepCopy()函数。\n",
    "    2. 调用 ndarray 的 copy() 函数产生一个副本。"
   ]
  },
  {
   "cell_type": "markdown",
   "metadata": {},
   "source": [
    "**完全不拷贝**：简单的赋值不会创建数组对象的副本。 相反，它使用原始数组的相同id()来访问"
   ]
  },
  {
   "cell_type": "code",
   "execution_count": 394,
   "metadata": {},
   "outputs": [
    {
     "data": {
      "text/plain": [
       "(1995643692176, 1995643692176)"
      ]
     },
     "execution_count": 394,
     "metadata": {},
     "output_type": "execute_result"
    }
   ],
   "source": [
    "a = np.arange(6)  \n",
    "b = a \n",
    "# id()返回 Python 对象的通用标识符，类似于 C 中的指针\n",
    "id(a), id(b)"
   ]
  },
  {
   "cell_type": "markdown",
   "metadata": {},
   "source": [
    "**视图或浅拷贝**\n",
    "\n",
    "不同的数组对象可以**共享相同的数据**。view方法会创建一个共享原数组数据的新的数组对象。\n",
    "\n",
    "ndarray.view() 方会创建一个新的数组对象，该方法创建的新数组的**维数更改不会更改原始数据的维数**。"
   ]
  },
  {
   "cell_type": "code",
   "execution_count": 395,
   "metadata": {},
   "outputs": [
    {
     "data": {
      "text/plain": [
       "array([[0, 1],\n",
       "       [2, 3],\n",
       "       [4, 5]])"
      ]
     },
     "execution_count": 395,
     "metadata": {},
     "output_type": "execute_result"
    },
    {
     "data": {
      "text/plain": [
       "(1995643828704, 1995643859872)"
      ]
     },
     "execution_count": 395,
     "metadata": {},
     "output_type": "execute_result"
    },
    {
     "data": {
      "text/plain": [
       "((3, 2), (2, 3))"
      ]
     },
     "execution_count": 395,
     "metadata": {},
     "output_type": "execute_result"
    },
    {
     "data": {
      "text/plain": [
       "array([[100,   1],\n",
       "       [  2,   3],\n",
       "       [  4,   5]])"
      ]
     },
     "execution_count": 395,
     "metadata": {},
     "output_type": "execute_result"
    },
    {
     "data": {
      "text/plain": [
       "array([[100,   1,   2],\n",
       "       [  3,   4,   5]])"
      ]
     },
     "execution_count": 395,
     "metadata": {},
     "output_type": "execute_result"
    }
   ],
   "source": [
    "a = np.arange(6).reshape(3,2)  \n",
    "a\n",
    "b = a.view()  \n",
    "id(a), id(b)\n",
    "# 修改 b 的形状，并不会修改 a\n",
    "b.shape = 2,3\n",
    "b[0,0]=100\n",
    "a.shape, b.shape\n",
    "a\n",
    "b"
   ]
  },
  {
   "cell_type": "markdown",
   "metadata": {},
   "source": [
    "**副本或深拷贝**\n",
    "\n",
    "copy方法会对数组和其数据进行完全拷贝\n",
    "\n",
    "ndarray.copy() 函数创建一个副本。 对副本数据进行修改，不会影响到原始数据，它们物理内存不在同一位置"
   ]
  },
  {
   "cell_type": "code",
   "execution_count": 396,
   "metadata": {},
   "outputs": [
    {
     "data": {
      "text/plain": [
       "array([[0, 1],\n",
       "       [2, 3],\n",
       "       [4, 5]])"
      ]
     },
     "execution_count": 396,
     "metadata": {},
     "output_type": "execute_result"
    },
    {
     "data": {
      "text/plain": [
       "(1995643860352, 1995643788144)"
      ]
     },
     "execution_count": 396,
     "metadata": {},
     "output_type": "execute_result"
    },
    {
     "data": {
      "text/plain": [
       "((3, 2), (2, 3))"
      ]
     },
     "execution_count": 396,
     "metadata": {},
     "output_type": "execute_result"
    },
    {
     "data": {
      "text/plain": [
       "array([[0, 1],\n",
       "       [2, 3],\n",
       "       [4, 5]])"
      ]
     },
     "execution_count": 396,
     "metadata": {},
     "output_type": "execute_result"
    },
    {
     "data": {
      "text/plain": [
       "array([[100,   1,   2],\n",
       "       [  3,   4,   5]])"
      ]
     },
     "execution_count": 396,
     "metadata": {},
     "output_type": "execute_result"
    }
   ],
   "source": [
    "a = np.arange(6).reshape(3,2)  \n",
    "a\n",
    "b = a.copy()  \n",
    "id(a), id(b)\n",
    "# 修改 b 的形状，并不会修改 a\n",
    "b.shape = 2,3\n",
    "b[0,0] = 100\n",
    "a.shape, b.shape\n",
    "a\n",
    "b"
   ]
  },
  {
   "cell_type": "markdown",
   "metadata": {},
   "source": [
    "**numpy.ndarray.flatten** 将数组的副本转换为**一个维度**返回，不影响原始数组\n",
    "``` python\n",
    "ndarray.flatten(order='C')\n",
    "```\n",
    "\n",
    "**参数说明**\n",
    "\n",
    "* **order**：'C' -- 按行，'F' -- 按列，'A' -- 原顺序，'K' -- 元素在内存中的出现顺序\n",
    "\n",
    "**note**\n",
    "* ndarray.flat是将数组转换为1-D的迭代器 \n",
    "* numpy.ravel()返回视图(view), 影响原始数组"
   ]
  },
  {
   "cell_type": "code",
   "execution_count": 398,
   "metadata": {},
   "outputs": [
    {
     "data": {
      "text/plain": [
       "array([0, 1, 2, 3, 4, 5, 6, 7])"
      ]
     },
     "execution_count": 398,
     "metadata": {},
     "output_type": "execute_result"
    },
    {
     "data": {
      "text/plain": [
       "array([0, 4, 1, 5, 2, 6, 3, 7])"
      ]
     },
     "execution_count": 398,
     "metadata": {},
     "output_type": "execute_result"
    }
   ],
   "source": [
    "a = np.arange(8).reshape(2,4)\n",
    "a.flatten()\n",
    "a.flatten(order = 'F')"
   ]
  },
  {
   "cell_type": "markdown",
   "metadata": {},
   "source": [
    "### 元素添加与删除\n",
    "\n",
    "|   **函数**    |   **描述**  |\n",
    "|     --      |     --    |\n",
    "|    resize\t    | 返回指定形状的新数组 |\n",
    "|    append\t    | 将值添加到数组末尾 |\n",
    "|    insert  \t | 沿指定轴将值插入到指定下标之前 |\n",
    "|    delete   \t| 删掉某个轴的子数组，并返回删除后的新数组 |\n",
    "|    unique\t    | 查找数组内的唯一元素 |\n",
    "\n",
    "numpy.resize 函数返回指定大小的新数组。如果新数组大小大于原始大小，则包含原始数组中的元素的副本。\n",
    "``` puython\n",
    "numpy.resize(arr, shape)\n",
    "```\n",
    "\n",
    "**参数说明**\n",
    "* **arr**：要修改大小的数组\n",
    "* **shape**：返回数组的新形状"
   ]
  },
  {
   "cell_type": "code",
   "execution_count": 399,
   "metadata": {},
   "outputs": [
    {
     "data": {
      "text/plain": [
       "array([[1, 2],\n",
       "       [3, 4],\n",
       "       [5, 6]])"
      ]
     },
     "execution_count": 399,
     "metadata": {},
     "output_type": "execute_result"
    },
    {
     "data": {
      "text/plain": [
       "array([[1, 2, 3],\n",
       "       [4, 5, 6],\n",
       "       [1, 2, 3]])"
      ]
     },
     "execution_count": 399,
     "metadata": {},
     "output_type": "execute_result"
    }
   ],
   "source": [
    "# numpy.resize 函数\n",
    "a = np.array([[1,2,3],[4,5,6]])\n",
    "np.resize(a, (3,2))\n",
    "# 要注意 a 的第一行重复出现，因为尺寸变大了\n",
    "np.resize(a,(3,3))"
   ]
  },
  {
   "cell_type": "markdown",
   "metadata": {},
   "source": [
    "numpy.append 函数在数组的末尾添加值。 追加操作会分配整个数组，并把原来的数组复制到新数组中。 此外，输入数组的维度必须匹配否则将生成ValueError,始终返回一维数组。\n",
    "``` puython\n",
    "numpy.append(arr, values, axis=None)\n",
    "```\n",
    "\n",
    "**参数说明**：\n",
    "* **arr**：输入数组\n",
    "* **values**：要向arr添加的值，需要和arr形状相同（除了要添加的轴）\n",
    "* **axis**：默认为 None。当axis无定义时，是横向加成，返回总是为一维数组！当axis有定义的时候，分别为0和1的时候。当axis有定义的时候，分别为0和1的时候（列数要相同）。当axis为1时，数组是加在右边（行数要相同）。\n"
   ]
  },
  {
   "cell_type": "code",
   "execution_count": 400,
   "metadata": {},
   "outputs": [
    {
     "data": {
      "text/plain": [
       "array([[1, 2, 3, 5, 5, 5],\n",
       "       [4, 5, 6, 7, 8, 9]])"
      ]
     },
     "execution_count": 400,
     "metadata": {},
     "output_type": "execute_result"
    }
   ],
   "source": [
    "# 沿轴 1 添加元素\n",
    "a = np.array([[1,2,3],[4,5,6]])\n",
    "np.append(a, [[5,5,5],[7,8,9]],axis = 1)"
   ]
  },
  {
   "cell_type": "markdown",
   "metadata": {},
   "source": [
    "numpy.insert 函数在给定索引之前，沿给定轴在输入数组中插入值。如果值的类型转换为要插入，则它与输入数组不同。 插入没有原地的，函数会返回一个新数组。 此外，如果未提供轴，则输入数组会被展开。\n",
    "``` puython\n",
    "numpy.insert(arr, obj, values, axis)\n",
    "```\n",
    "\n",
    "**参数说明**\n",
    "* **arr**：输入数组\n",
    "* **obj**：在其之前插入值的索引\n",
    "* **values**：要插入的值\n",
    "* **axis**：沿着它插入的轴，如果未提供，则输入数组会被展开"
   ]
  },
  {
   "cell_type": "code",
   "execution_count": 401,
   "metadata": {},
   "outputs": [
    {
     "data": {
      "text/plain": [
       "array([[ 1,  2],\n",
       "       [11, 11],\n",
       "       [ 3,  4],\n",
       "       [ 5,  6]])"
      ]
     },
     "execution_count": 401,
     "metadata": {},
     "output_type": "execute_result"
    },
    {
     "data": {
      "text/plain": [
       "array([[ 1, 11,  2],\n",
       "       [ 3, 11,  4],\n",
       "       [ 5, 11,  6]])"
      ]
     },
     "execution_count": 401,
     "metadata": {},
     "output_type": "execute_result"
    }
   ],
   "source": [
    "a = np.array([[1,2],[3,4],[5,6]])\n",
    "np.insert(a,1,[11],axis = 0)\n",
    "np.insert(a,1,11,axis = 1)"
   ]
  },
  {
   "cell_type": "markdown",
   "metadata": {},
   "source": [
    "numpy.unique 函数用于去除数组中的重复元素。\n",
    "``` python\n",
    "numpy.unique(arr, return_index, return_inverse, return_counts)\n",
    "```\n",
    "**参数说明**\n",
    "* **arr**：输入数组，如果不是一维数组则会展开\n",
    "* **return_index**：如果为true，返回新列表元素在旧列表中的位置（下标），并以列表形式储\n",
    "* **return_inverse**：如果为true，返回旧列表元素在新列表中的位置（下标），并以列表形式储\n",
    "* **return_counts**：如果为true，返回去重数组中的元素在原数组中的出现次数"
   ]
  },
  {
   "cell_type": "code",
   "execution_count": 402,
   "metadata": {},
   "outputs": [
    {
     "data": {
      "text/plain": [
       "array([2, 5, 6, 7, 8, 9])"
      ]
     },
     "execution_count": 402,
     "metadata": {},
     "output_type": "execute_result"
    },
    {
     "data": {
      "text/plain": [
       "array([2, 5, 6, 7, 8, 9])"
      ]
     },
     "execution_count": 402,
     "metadata": {},
     "output_type": "execute_result"
    },
    {
     "data": {
      "text/plain": [
       "array([1, 0, 2, 4, 7, 9], dtype=int64)"
      ]
     },
     "execution_count": 402,
     "metadata": {},
     "output_type": "execute_result"
    },
    {
     "data": {
      "text/plain": [
       "array([2, 5, 6, 7, 8, 9])"
      ]
     },
     "execution_count": 402,
     "metadata": {},
     "output_type": "execute_result"
    },
    {
     "data": {
      "text/plain": [
       "array([1, 0, 2, 0, 3, 1, 2, 4, 0, 5], dtype=int64)"
      ]
     },
     "execution_count": 402,
     "metadata": {},
     "output_type": "execute_result"
    },
    {
     "data": {
      "text/plain": [
       "array([2, 5, 6, 7, 8, 9])"
      ]
     },
     "execution_count": 402,
     "metadata": {},
     "output_type": "execute_result"
    },
    {
     "data": {
      "text/plain": [
       "array([3, 2, 2, 1, 1, 1], dtype=int64)"
      ]
     },
     "execution_count": 402,
     "metadata": {},
     "output_type": "execute_result"
    }
   ],
   "source": [
    "a = np.array([5,2,6,2,7,5,6,8,2,9])\n",
    "# 数组的去重值\n",
    "u = np.unique(a)\n",
    "u\n",
    "\n",
    "# 去重数组的索引数组\n",
    "u,indices = np.unique(a, return_index = True)\n",
    "u\n",
    "indices\n",
    "\n",
    "# 去重数组的下标\n",
    "u,indices = np.unique(a, return_inverse  = True)\n",
    "u\n",
    "indices\n",
    "\n",
    "# 返回去重元素的重复数量)\n",
    "u,indices = np.unique(a,return_counts = True)\n",
    "u\n",
    "indices"
   ]
  },
  {
   "cell_type": "markdown",
   "metadata": {},
   "source": [
    "---\n",
    "# 9.列表删除某些行或列"
   ]
  },
  {
   "cell_type": "markdown",
   "metadata": {},
   "source": [
    "numpy.delete 函数返回从输入数组中删除指定子数组的新数组。 与 insert() 函数的情况一样，如果未提供轴参数，则输入数组将展开。\n",
    "``` python\n",
    "Numpy.delete(arr, obj, axis)\n",
    "```\n",
    "\n",
    "**参数说明**\n",
    "* **arr**：输入数组\n",
    "* **obj**：可以被切片，整数或者整数数组，表明要从输入数组删除的子数组\n",
    "* **axis**：沿着它删除给定子数组的轴，如果未提供，则输入数组会被展开"
   ]
  },
  {
   "cell_type": "code",
   "execution_count": 403,
   "metadata": {},
   "outputs": [
    {
     "data": {
      "text/plain": [
       "array([[1, 1, 1, 1],\n",
       "       [3, 3, 3, 3]])"
      ]
     },
     "execution_count": 403,
     "metadata": {},
     "output_type": "execute_result"
    },
    {
     "data": {
      "text/plain": [
       "array([ 2,  4,  6,  8, 10])"
      ]
     },
     "execution_count": 403,
     "metadata": {},
     "output_type": "execute_result"
    }
   ],
   "source": [
    "# 对于一个二维数组，axis=0，表示行，axis=1，表示列\n",
    "# 这里删除第 0 行，第 2 行，第 4 行：\n",
    "A = [[0,0,0,0],\n",
    "     [1,1,1,1],\n",
    "     [2,2,2,2],\n",
    "     [3,3,3,3]]\n",
    "B = np.delete(A, [0, 2], axis=0)\n",
    "B\n",
    "\n",
    "a = np.array([1,2,3,4,5,6,7,8,9,10])\n",
    "np.delete(a, np.s_[::2])"
   ]
  },
  {
   "cell_type": "code",
   "execution_count": null,
   "metadata": {},
   "outputs": [],
   "source": []
  },
  {
   "cell_type": "markdown",
   "metadata": {},
   "source": [
    "---\n",
    "# 10.数组遍历"
   ]
  },
  {
   "cell_type": "code",
   "execution_count": 404,
   "metadata": {},
   "outputs": [
    {
     "data": {
      "text/plain": [
       "array([[0, 1, 2],\n",
       "       [3, 4, 5],\n",
       "       [6, 7, 8]])"
      ]
     },
     "execution_count": 404,
     "metadata": {},
     "output_type": "execute_result"
    },
    {
     "name": "stdout",
     "output_type": "stream",
     "text": [
      "0, 3, 6, 1, 4, 7, 2, 5, 8, \n",
      "\n",
      "0, 1, 2, 3, 4, 5, 6, 7, 8, "
     ]
    }
   ],
   "source": [
    "a = np.arange(9) \n",
    "a = a.reshape(3,3)   \n",
    "a\n",
    "b = a.T \n",
    "\n",
    "# C order，即是行序优先\n",
    "c = b.copy(order='C')  \n",
    "for x in np.nditer(c):  \n",
    "    print (x, end=\", \" )\n",
    "print('\\n')\n",
    "\n",
    "# Fortran order，即是列序优先\n",
    "c = b.copy(order='F')  \n",
    "for x in np.nditer(c):  \n",
    "    print (x, end=\", \" )"
   ]
  },
  {
   "cell_type": "code",
   "execution_count": 405,
   "metadata": {},
   "outputs": [
    {
     "name": "stdout",
     "output_type": "stream",
     "text": [
      "0, 1, 2, 3, 4, 5, 6, 7, 8, "
     ]
    }
   ],
   "source": [
    "a = np.arange(9).reshape(3,3) \n",
    "\n",
    "#对数组中每个元素都进行处理，可以使用flat属性，该属性是一个数组元素迭代器：\n",
    "for element in a.flat:\n",
    "    print(element, end=\", \" )"
   ]
  },
  {
   "cell_type": "markdown",
   "metadata": {},
   "source": [
    "---\n",
    "# 11.numpy位运算"
   ]
  },
  {
   "cell_type": "markdown",
   "metadata": {},
   "source": [
    "NumPy \"bitwise_\" 开头的函数是位运算函数。\n",
    "\n",
    "http://www.runoob.com/numpy/numpy-binary-operators.html"
   ]
  },
  {
   "cell_type": "code",
   "execution_count": null,
   "metadata": {},
   "outputs": [],
   "source": []
  },
  {
   "cell_type": "code",
   "execution_count": null,
   "metadata": {},
   "outputs": [],
   "source": []
  },
  {
   "cell_type": "markdown",
   "metadata": {},
   "source": [
    "---\n",
    "# 12.字符串函数"
   ]
  },
  {
   "cell_type": "markdown",
   "metadata": {},
   "source": [
    "|   **函数**    |   **描述**  |\n",
    "|     --      |     --    |\n",
    "|     add()\t   | 对两个数组的逐个字符串元素进行连接 |\n",
    "|    multiply()\t | 返回按元素多重连接后的字符串 |\n",
    "|     center()\t| 居中字符串 |\n",
    "|   capitalize() | 将字符串第一个字母转换为大写 |\n",
    "|     title()\t| 将字符串的每个单词的第一个字母转换为大写 |\n",
    "|     lower()\t| 数组元素转换为小写 |\n",
    "|     upper()\t| 数组元素转换为大写 |\n",
    "|     split()\t| 指定分隔符对字符串进行分割，并返回数组列表 |\n",
    "|   splitlines() | 返回元素中的行列表，以换行符分割 |\n",
    "|     strip()\t| 移除元素开头或者结尾处的特定字符 |\n",
    "|     join()\t| 通过指定分隔符来连接数组中的元素 |\n",
    "|    replace()\t | 使用新字符串替换字符串中的所有子字符串 |\n",
    "|    decode()\t | 数组元素依次调用str.decode |\n",
    "|    encode()\t | 数组元素依次调用str.encode |"
   ]
  },
  {
   "cell_type": "markdown",
   "metadata": {},
   "source": [
    "numpy.char.add() 函数依次对两个数组的元素进行字符串连接\n",
    "\n",
    "numpy.char.multiply() 函数执行多重连接\n",
    "\n",
    "numpy.char.center() 函数用于将字符串居中，并使用指定字符在左侧和右侧进行填充"
   ]
  },
  {
   "cell_type": "code",
   "execution_count": 406,
   "metadata": {},
   "outputs": [
    {
     "data": {
      "text/plain": [
       "array(['hello abc', 'hi xyz'], dtype='<U9')"
      ]
     },
     "execution_count": 406,
     "metadata": {},
     "output_type": "execute_result"
    },
    {
     "data": {
      "text/plain": [
       "array('Runoob Runoob Runoob ', dtype='<U21')"
      ]
     },
     "execution_count": 406,
     "metadata": {},
     "output_type": "execute_result"
    },
    {
     "data": {
      "text/plain": [
       "array('*******Runoob*******', dtype='<U20')"
      ]
     },
     "execution_count": 406,
     "metadata": {},
     "output_type": "execute_result"
    }
   ],
   "source": [
    "np.char.add(['hello', 'hi'],[' abc', ' xyz'])\n",
    "\n",
    "np.char.multiply('Runoob ',3)\n",
    "\n",
    "np.char.center('Runoob', 20, fillchar = '*')"
   ]
  },
  {
   "cell_type": "markdown",
   "metadata": {},
   "source": [
    "numpy.char.capitalize() 函数将字符串的第一个字母转换为大写\n",
    "\n",
    "numpy.char.title() 函数将字符串的每个单词的第一个字母转换为大写\n",
    "\n",
    "numpy.char.lower() 函数对数组的每个元素转换为小写。它对每个元素调用 str.lower\n",
    "\n",
    "numpy.char.upper() 函数对数组的每个元素转换为大写。它对每个元素调用 str.upper"
   ]
  },
  {
   "cell_type": "code",
   "execution_count": 407,
   "metadata": {},
   "outputs": [
    {
     "data": {
      "text/plain": [
       "array('Hello runoob', dtype='<U12')"
      ]
     },
     "execution_count": 407,
     "metadata": {},
     "output_type": "execute_result"
    },
    {
     "data": {
      "text/plain": [
       "array('I Like Runoob', dtype='<U13')"
      ]
     },
     "execution_count": 407,
     "metadata": {},
     "output_type": "execute_result"
    },
    {
     "data": {
      "text/plain": [
       "array(['runoob', 'google'], dtype='<U6')"
      ]
     },
     "execution_count": 407,
     "metadata": {},
     "output_type": "execute_result"
    },
    {
     "data": {
      "text/plain": [
       "array('runoob', dtype='<U6')"
      ]
     },
     "execution_count": 407,
     "metadata": {},
     "output_type": "execute_result"
    },
    {
     "data": {
      "text/plain": [
       "array(['RUNOOB', 'GOOGLE'], dtype='<U6')"
      ]
     },
     "execution_count": 407,
     "metadata": {},
     "output_type": "execute_result"
    },
    {
     "data": {
      "text/plain": [
       "array('RUNOOB', dtype='<U6')"
      ]
     },
     "execution_count": 407,
     "metadata": {},
     "output_type": "execute_result"
    }
   ],
   "source": [
    "np.char.capitalize('hello runoob')\n",
    "\n",
    "np.char.title('i like runoob')\n",
    "\n",
    "np.char.lower(['RUNOOB','GOOGLE'])\n",
    "np.char.lower('RUNOOB')\n",
    "\n",
    "np.char.upper(['runoob','google'])\n",
    "np.char.upper('runoob')"
   ]
  },
  {
   "cell_type": "markdown",
   "metadata": {},
   "source": [
    "numpy.char.split() 通过指定分隔符对字符串进行分割，并返回数组。默认情况下，分隔符为空格\n",
    "\n",
    "numpy.char.splitlines() 函数以换行符作为分隔符来分割字符串，并返回数组\n",
    "\n",
    "numpy.char.strip() 函数用于移除开头或结尾处的特定字符\n",
    "\n",
    "numpy.char.join() 函数通过指定分隔符来连接数组中的元素或字符串\n",
    "\n",
    "numpy.char.replace() 函数使用新字符串替换字符串中的所有子字符串"
   ]
  },
  {
   "cell_type": "code",
   "execution_count": 408,
   "metadata": {},
   "outputs": [
    {
     "data": {
      "text/plain": [
       "array(list(['www', 'runoob', 'com']), dtype=object)"
      ]
     },
     "execution_count": 408,
     "metadata": {},
     "output_type": "execute_result"
    },
    {
     "data": {
      "text/plain": [
       "array(list(['i', 'really ', 'like ', 'runoob']), dtype=object)"
      ]
     },
     "execution_count": 408,
     "metadata": {},
     "output_type": "execute_result"
    },
    {
     "name": "stdout",
     "output_type": "stream",
     "text": [
      "strip\n"
     ]
    },
    {
     "data": {
      "text/plain": [
       "array('shok arunoob', dtype='<U14')"
      ]
     },
     "execution_count": 408,
     "metadata": {},
     "output_type": "execute_result"
    },
    {
     "data": {
      "text/plain": [
       "array(['runoob', 'dmin', 'jav'], dtype='<U8')"
      ]
     },
     "execution_count": 408,
     "metadata": {},
     "output_type": "execute_result"
    },
    {
     "name": "stdout",
     "output_type": "stream",
     "text": [
      "join\n"
     ]
    },
    {
     "data": {
      "text/plain": [
       "array('r:u:n:o:o:b', dtype='<U11')"
      ]
     },
     "execution_count": 408,
     "metadata": {},
     "output_type": "execute_result"
    },
    {
     "data": {
      "text/plain": [
       "array(['r:u:n:o:o:b', 'g-o-o-g-l-e'], dtype='<U11')"
      ]
     },
     "execution_count": 408,
     "metadata": {},
     "output_type": "execute_result"
    },
    {
     "data": {
      "text/plain": [
       "array('i like runccb', dtype='<U13')"
      ]
     },
     "execution_count": 408,
     "metadata": {},
     "output_type": "execute_result"
    }
   ],
   "source": [
    "np.char.split ('www.runoob.com', sep = '.')\n",
    "\n",
    "np.char.splitlines('i\\r\\nreally \\nlike \\rrunoob')\n",
    "\n",
    "print('strip')\n",
    "# 移除字符串头尾的 a 字符\n",
    "np.char.strip('ashok arunooba','a')\n",
    "# 移除数组元素头尾的 a 字符\n",
    "np.char.strip(['arunooba','admin','java'],'a')\n",
    "\n",
    "print('join')\n",
    "# 操作字符串\n",
    "np.char.join(':','runoob')\n",
    "# 指定多个分隔符操作数组元素\n",
    "np.char.join([':','-'],['runoob','google'])\n",
    "\n",
    "# np.char.replace(a, old, new, count=None)\n",
    "np.char.replace('i like runoob', 'oo', 'cc')"
   ]
  },
  {
   "cell_type": "markdown",
   "metadata": {},
   "source": [
    "numpy.char.encode() 函数对数组中的每个元素调用 str.encode 函数。 默认编码是 utf-8，可以使用标准 Python 库中的编解码器。\n",
    "\n",
    "numpy.char.decode() 函数对编码的元素进行 str.decode() 解码。"
   ]
  },
  {
   "cell_type": "code",
   "execution_count": 409,
   "metadata": {},
   "outputs": [
    {
     "data": {
      "text/plain": [
       "array(b'\\x99\\xa4\\x95\\x96\\x96\\x82', dtype='|S6')"
      ]
     },
     "execution_count": 409,
     "metadata": {},
     "output_type": "execute_result"
    },
    {
     "data": {
      "text/plain": [
       "array('runoob', dtype='<U6')"
      ]
     },
     "execution_count": 409,
     "metadata": {},
     "output_type": "execute_result"
    }
   ],
   "source": [
    "a = np.char.encode('runoob', 'cp500') \n",
    "a\n",
    "np.char.decode(a,'cp500')"
   ]
  },
  {
   "cell_type": "code",
   "execution_count": null,
   "metadata": {},
   "outputs": [],
   "source": []
  }
 ],
 "metadata": {
  "kernelspec": {
   "display_name": "Python 3",
   "language": "python",
   "name": "python3"
  },
  "language_info": {
   "codemirror_mode": {
    "name": "ipython",
    "version": 3
   },
   "file_extension": ".py",
   "mimetype": "text/x-python",
   "name": "python",
   "nbconvert_exporter": "python",
   "pygments_lexer": "ipython3",
   "version": "3.7.6"
  },
  "toc": {
   "base_numbering": 1,
   "nav_menu": {},
   "number_sections": true,
   "sideBar": true,
   "skip_h1_title": false,
   "title_cell": "Table of Contents",
   "title_sidebar": "Contents",
   "toc_cell": false,
   "toc_position": {},
   "toc_section_display": true,
   "toc_window_display": true
  }
 },
 "nbformat": 4,
 "nbformat_minor": 2
}
