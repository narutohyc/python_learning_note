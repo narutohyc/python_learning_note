{
 "cells": [
  {
   "cell_type": "markdown",
   "metadata": {},
   "source": [
    "# scipy学习"
   ]
  },
  {
   "cell_type": "markdown",
   "metadata": {},
   "source": [
    "### 积分"
   ]
  },
  {
   "cell_type": "code",
   "execution_count": 5,
   "metadata": {},
   "outputs": [],
   "source": [
    "from scipy.integrate import quad,dblquad,nquad\n",
    "import numpy as np\n",
    "from IPython.core.interactiveshell import InteractiveShell \n",
    "InteractiveShell.ast_node_interactivity = \"all\""
   ]
  },
  {
   "cell_type": "markdown",
   "metadata": {},
   "source": [
    "#### 一元积分"
   ]
  },
  {
   "cell_type": "code",
   "execution_count": 6,
   "metadata": {},
   "outputs": [
    {
     "data": {
      "text/plain": [
       "(1.0000000000000002, 5.842606996763696e-11)"
      ]
     },
     "execution_count": 6,
     "metadata": {},
     "output_type": "execute_result"
    }
   ],
   "source": [
    "quad(lambda x:np.exp(-x), 0, np.inf)"
   ]
  },
  {
   "cell_type": "markdown",
   "metadata": {},
   "source": [
    "#### 二元积分"
   ]
  },
  {
   "cell_type": "code",
   "execution_count": 7,
   "metadata": {},
   "outputs": [
    {
     "data": {
      "text/plain": [
       "(0.3333333333366853, 1.3888461883425516e-08)"
      ]
     },
     "execution_count": 7,
     "metadata": {},
     "output_type": "execute_result"
    }
   ],
   "source": [
    "dblquad(lambda t,x: np.exp(-x*t)/t**3, 0, np.inf, lambda x:1, lambda x:np.inf)"
   ]
  },
  {
   "cell_type": "markdown",
   "metadata": {},
   "source": [
    "#### n元积分"
   ]
  },
  {
   "cell_type": "code",
   "execution_count": 8,
   "metadata": {},
   "outputs": [
    {
     "data": {
      "text/plain": [
       "(0.010416666666666668, 4.101620128472366e-16)"
      ]
     },
     "execution_count": 8,
     "metadata": {},
     "output_type": "execute_result"
    }
   ],
   "source": [
    "def f(x,y):\n",
    "    return x*y\n",
    "def bound_x(y):\n",
    "    return [0, 1-2*y]\n",
    "def bound_y():\n",
    "    return [0, 0.5]\n",
    "nquad(f, [bound_x,bound_y])"
   ]
  },
  {
   "cell_type": "markdown",
   "metadata": {},
   "source": [
    "### 优化器"
   ]
  },
  {
   "cell_type": "markdown",
   "metadata": {},
   "source": [
    "#### 一元函数最小值"
   ]
  },
  {
   "cell_type": "code",
   "execution_count": 16,
   "metadata": {},
   "outputs": [
    {
     "name": "stdout",
     "output_type": "stream",
     "text": [
      "Optimization terminated successfully.\n",
      "         Current function value: 0.000000\n",
      "         Iterations: 339\n",
      "         Function evaluations: 571\n"
     ]
    },
    {
     "data": {
      "text/plain": [
       " final_simplex: (array([[1.        , 1.        , 1.        , 1.        , 1.        ],\n",
       "       [1.        , 1.        , 1.        , 1.        , 1.        ],\n",
       "       [1.        , 1.        , 1.        , 1.00000001, 1.00000001],\n",
       "       [1.        , 1.        , 1.        , 1.        , 1.        ],\n",
       "       [1.        , 1.        , 1.        , 1.        , 1.        ],\n",
       "       [1.        , 1.        , 1.        , 1.        , 0.99999999]]), array([4.86115343e-17, 7.65182843e-17, 8.11395684e-17, 8.63263255e-17,\n",
       "       8.64080682e-17, 2.17927418e-16]))\n",
       "           fun: 4.861153433422115e-17\n",
       "       message: 'Optimization terminated successfully.'\n",
       "          nfev: 571\n",
       "           nit: 339\n",
       "        status: 0\n",
       "       success: True\n",
       "             x: array([1., 1., 1., 1., 1.])"
      ]
     },
     "execution_count": 16,
     "metadata": {},
     "output_type": "execute_result"
    },
    {
     "data": {
      "text/plain": [
       "array([1., 1., 1., 1., 1.])"
      ]
     },
     "execution_count": 16,
     "metadata": {},
     "output_type": "execute_result"
    }
   ],
   "source": [
    "from scipy.optimize import minimize\n",
    "def rosen(x):\n",
    "    return sum(100.0*(x[1:]-x[:-1]**2.0)**2.0+(1-x[:-1])**2.0)\n",
    "x0 = np.array([1.3,0.7,0.8,1.9,1.2])\n",
    "res = minimize(rosen, x0, method='nelder-mead', options={\"xtol\":1e-8, \"disp\": True})\n",
    "res\n",
    "res.x"
   ]
  },
  {
   "cell_type": "markdown",
   "metadata": {},
   "source": [
    "#### 约束条件下函数最小值"
   ]
  },
  {
   "cell_type": "code",
   "execution_count": 40,
   "metadata": {},
   "outputs": [
    {
     "name": "stdout",
     "output_type": "stream",
     "text": [
      "Optimization terminated successfully.    (Exit mode 0)\n",
      "            Current function value: -2.0\n",
      "            Iterations: 2\n",
      "            Function evaluations: 3\n",
      "            Gradient evaluations: 2\n"
     ]
    },
    {
     "data": {
      "text/plain": [
       "     fun: -2.0\n",
       "     jac: array([-0.0000000e+00,  8.8817842e-14])\n",
       " message: 'Optimization terminated successfully.'\n",
       "    nfev: 3\n",
       "     nit: 2\n",
       "    njev: 2\n",
       "  status: 0\n",
       " success: True\n",
       "       x: array([2., 1.])"
      ]
     },
     "execution_count": 40,
     "metadata": {},
     "output_type": "execute_result"
    }
   ],
   "source": [
    "def func(x):\n",
    "    return -(2*x[0]*x[1] + 2*x[0] - x[0]**2 - 2*x[1]**2)\n",
    "def func_deriv(x):\n",
    "    dfdx0 = -(-2*x[0] + 2*x[1] + 2)\n",
    "    dfdx1 = -(2*x[0] - 4*x[1])\n",
    "    return np.array([dfdx0,dfdx1])\n",
    "cons = ({\"type\":\"eq\", \n",
    "         \"fun\":lambda x:np.array([x[0]**3-x[1]]), \n",
    "         \"jac\":lambda x:np.array([3.0*(x[0]**2.0), -1.0]),\n",
    "         'type':'ineq', \n",
    "         'fun':lambda x:np.array([x[1]-1]), \n",
    "         'jac':lambda x:np.array([0.0, 1.0])})\n",
    "res = minimize(func, \n",
    "               [-1.0,1.0], \n",
    "               jac=func_deriv, \n",
    "               constraints=cons, \n",
    "               method='SLSQP',\n",
    "               options={'disp':True})\n",
    "res"
   ]
  },
  {
   "cell_type": "markdown",
   "metadata": {},
   "source": [
    "#### 优化器求根"
   ]
  },
  {
   "cell_type": "code",
   "execution_count": 41,
   "metadata": {},
   "outputs": [
    {
     "data": {
      "text/plain": [
       "(array([-1.02986653]), array([0.]))"
      ]
     },
     "execution_count": 41,
     "metadata": {},
     "output_type": "execute_result"
    }
   ],
   "source": [
    "from scipy.optimize import root\n",
    "def fun(x):\n",
    "    return x+2*np.cos(x)\n",
    "sol = root(fun, 0.1)\n",
    "sol.x,sol.fun # 根和值"
   ]
  },
  {
   "cell_type": "markdown",
   "metadata": {},
   "source": [
    "#### 插值计算"
   ]
  },
  {
   "cell_type": "code",
   "execution_count": 43,
   "metadata": {},
   "outputs": [
    {
     "data": {
      "text/plain": [
       "<Figure size 432x288 with 0 Axes>"
      ]
     },
     "execution_count": 43,
     "metadata": {},
     "output_type": "execute_result"
    },
    {
     "data": {
      "text/plain": [
       "[<matplotlib.lines.Line2D at 0x269b7fa6438>]"
      ]
     },
     "execution_count": 43,
     "metadata": {},
     "output_type": "execute_result"
    },
    {
     "data": {
      "text/plain": [
       "[<matplotlib.lines.Line2D at 0x269b7f78080>]"
      ]
     },
     "execution_count": 43,
     "metadata": {},
     "output_type": "execute_result"
    },
    {
     "data": {
      "image/png": "[encoded data removed]",
      "text/plain": [
       "<Figure size 432x288 with 1 Axes>"
      ]
     },
     "metadata": {
      "needs_background": "light"
     },
     "output_type": "display_data"
    },
    {
     "data": {
      "text/plain": [
       "array([ 0.00000000e+00,  1.31268478e-01,  2.58058896e-01,  3.79095818e-01,\n",
       "        4.93103803e-01,  5.98807414e-01,  6.94931212e-01,  7.80199759e-01,\n",
       "        8.53337617e-01,  9.13069347e-01,  9.58119510e-01,  9.87213058e-01,\n",
       "        9.99462682e-01,  9.95096409e-01,  9.74541587e-01,  9.38225564e-01,\n",
       "        8.86575689e-01,  8.20078818e-01,  7.39913600e-01,  6.47705004e-01,\n",
       "        5.45085433e-01,  4.33687295e-01,  3.15143957e-01,  1.91245093e-01,\n",
       "        6.41081509e-02, -6.41081509e-02, -1.91245093e-01, -3.15143957e-01,\n",
       "       -4.33687295e-01, -5.45085433e-01, -6.47705004e-01, -7.39913600e-01,\n",
       "       -8.20078818e-01, -8.86575689e-01, -9.38225564e-01, -9.74541587e-01,\n",
       "       -9.95096409e-01, -9.99462682e-01, -9.87213058e-01, -9.58119510e-01,\n",
       "       -9.13069347e-01, -8.53337617e-01, -7.80199759e-01, -6.94931212e-01,\n",
       "       -5.98807414e-01, -4.93103803e-01, -3.79095818e-01, -2.58058896e-01,\n",
       "       -1.31268478e-01, -2.44929360e-16])"
      ]
     },
     "execution_count": 43,
     "metadata": {},
     "output_type": "execute_result"
    }
   ],
   "source": [
    "from pylab import *\n",
    "from scipy.interpolate import interp1d\n",
    "x = np.linspace(0, 1, 10)\n",
    "y = np.sin(2*np.pi*x)\n",
    "li = interp1d(x, y, kind='cubic')\n",
    "x_new = np.linspace(0, 1, 50)\n",
    "y_new = li(x_new)\n",
    "figure()\n",
    "plot(x, y, 'r')\n",
    "plot(x_new, y_new, 'k')\n",
    "show()\n",
    "y_new"
   ]
  },
  {
   "cell_type": "markdown",
   "metadata": {},
   "source": [
    "#### 线性计算和矩阵分解"
   ]
  },
  {
   "cell_type": "code",
   "execution_count": 45,
   "metadata": {},
   "outputs": [
    {
     "data": {
      "text/plain": [
       "-2.0"
      ]
     },
     "execution_count": 45,
     "metadata": {},
     "output_type": "execute_result"
    },
    {
     "data": {
      "text/plain": [
       "array([[-2. ,  1. ],\n",
       "       [ 1.5, -0.5]])"
      ]
     },
     "execution_count": 45,
     "metadata": {},
     "output_type": "execute_result"
    },
    {
     "data": {
      "text/plain": [
       "array([2., 2.])"
      ]
     },
     "execution_count": 45,
     "metadata": {},
     "output_type": "execute_result"
    },
    {
     "data": {
      "text/plain": [
       "(array([-0.37228132+0.j,  5.37228132+0.j]), array([[-0.82456484, -0.41597356],\n",
       "        [ 0.56576746, -0.90937671]]))"
      ]
     },
     "execution_count": 45,
     "metadata": {},
     "output_type": "execute_result"
    }
   ],
   "source": [
    "from scipy import linalg as lg\n",
    "arr = np.array([[1,2], [3,4]])\n",
    "lg.det(arr) # 行列式\n",
    "lg.inv(arr) # 逆矩阵\n",
    "b = np.array([6,14]) \n",
    "lg.solve(arr,b) # 解线性方程组\n",
    "lg.eig(arr) # 特征向量与特征值"
   ]
  },
  {
   "cell_type": "code",
   "execution_count": 46,
   "metadata": {},
   "outputs": [
    {
     "data": {
      "text/plain": [
       "(array([[0., 1.],\n",
       "        [1., 0.]]), array([[1.        , 0.        ],\n",
       "        [0.33333333, 1.        ]]), array([[3.        , 4.        ],\n",
       "        [0.        , 0.66666667]]))"
      ]
     },
     "execution_count": 46,
     "metadata": {},
     "output_type": "execute_result"
    },
    {
     "data": {
      "text/plain": [
       "(array([[-0.31622777, -0.9486833 ],\n",
       "        [-0.9486833 ,  0.31622777]]), array([[-3.16227766, -4.42718872],\n",
       "        [ 0.        , -0.63245553]]))"
      ]
     },
     "execution_count": 46,
     "metadata": {},
     "output_type": "execute_result"
    },
    {
     "data": {
      "text/plain": [
       "(array([[-0.40455358, -0.9145143 ],\n",
       "        [-0.9145143 ,  0.40455358]]),\n",
       " array([5.4649857 , 0.36596619]),\n",
       " array([[-0.57604844, -0.81741556],\n",
       "        [ 0.81741556, -0.57604844]]))"
      ]
     },
     "execution_count": 46,
     "metadata": {},
     "output_type": "execute_result"
    },
    {
     "data": {
      "text/plain": [
       "(array([[-0.37228132, -1.        ],\n",
       "        [ 0.        ,  5.37228132]]), array([[-0.82456484, -0.56576746],\n",
       "        [ 0.56576746, -0.82456484]]))"
      ]
     },
     "execution_count": 46,
     "metadata": {},
     "output_type": "execute_result"
    }
   ],
   "source": [
    "lg.lu(arr) # LU分解\n",
    "lg.qr(arr) # QR分解\n",
    "lg.svd(arr) # 奇异值分解\n",
    "lg.schur(arr) # schur分解"
   ]
  },
  {
   "cell_type": "code",
   "execution_count": null,
   "metadata": {},
   "outputs": [],
   "source": []
  }
 ],
 "metadata": {
  "kernelspec": {
   "display_name": "Python 3",
   "language": "python",
   "name": "python3"
  },
  "language_info": {
   "codemirror_mode": {
    "name": "ipython",
    "version": 3
   },
   "file_extension": ".py",
   "mimetype": "text/x-python",
   "name": "python",
   "nbconvert_exporter": "python",
   "pygments_lexer": "ipython3",
   "version": "3.7.5"
  }
 },
 "nbformat": 4,
 "nbformat_minor": 2
}
